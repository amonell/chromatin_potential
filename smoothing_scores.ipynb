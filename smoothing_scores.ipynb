{
 "cells": [
  {
   "cell_type": "code",
   "execution_count": 477,
   "metadata": {},
   "outputs": [],
   "source": [
    "import pandas as pd\n",
    "import numpy as np\n",
    "import scipy.io as sio\n",
    "from scipy import stats"
   ]
  },
  {
   "cell_type": "markdown",
   "metadata": {},
   "source": [
    "# Read in dorcs \n"
   ]
  },
  {
   "cell_type": "code",
   "execution_count": 478,
   "metadata": {},
   "outputs": [],
   "source": [
    "dorcs= pd.read_csv(\"foxa1_data/G2_dorcs_nopseudo.csv\", sep = \",\")"
   ]
  },
  {
   "cell_type": "code",
   "execution_count": 479,
   "metadata": {},
   "outputs": [],
   "source": [
    "chroms = [i.split('_')[0] for i in dorcs['peak']]"
   ]
  },
  {
   "cell_type": "code",
   "execution_count": 480,
   "metadata": {},
   "outputs": [],
   "source": [
    "dorcs['Chr'] = chroms"
   ]
  },
  {
   "cell_type": "code",
   "execution_count": 481,
   "metadata": {},
   "outputs": [],
   "source": [
    "x = dorcs['Gene'].value_counts(dropna=True)\n",
    "y = dorcs['Gene'].value_counts(dropna=True).index\n",
    "dorclist = []\n",
    "dorcnums = []\n",
    "z = x.index\n",
    "for i in range(len(x)):\n",
    "    if x[i] >= 10:\n",
    "        dorclist.append(z[i])\n",
    "        dorcnums.append(x[i])\n",
    "dorcs[\"region\"] = dorcs['Chr'] + \"_\" + (dorcs[\"Start\"].astype(int) + 1).astype(str) + \"_\" + dorcs[\"End\"].astype(str)\n",
    "#dorclist"
   ]
  },
  {
   "cell_type": "markdown",
   "metadata": {},
   "source": [
    "# Read in counts of atac peaks: Normalize the peak matrix - log normalize using lognormalize functon in r before loading in ^^^"
   ]
  },
  {
   "cell_type": "code",
   "execution_count": 439,
   "metadata": {
    "scrolled": true
   },
   "outputs": [],
   "source": [
    "#reading in the cell by peak matrix\n",
    "peaks = pd.read_csv(\"foxa1_data/bedpeaksfoxa1_new.bed\", sep= \"\\t\", header = None)\n",
    "peaks.columns = [\"chr\", \"start\", \"end\"]\n",
    "peaks[\"start\"] = peaks[\"start\"] + 1\n",
    "peaks[\"region\"] = peaks[\"start\"].astype(str) + \"_\" + peaks[\"end\"].astype(str)\n",
    "peaks[\"total\"] = peaks[\"chr\"].astype(str) + \"_\" + peaks[\"region\"].astype(str)\n"
   ]
  },
  {
   "cell_type": "code",
   "execution_count": 440,
   "metadata": {},
   "outputs": [],
   "source": [
    "counts = sio.mmread(\"foxa1_data/normalizedpeaks.mtx\")\n",
    "cell_ids = pd.read_csv(\"foxa1_data/G2peakcelltypes.txt\", header = 0, sep = \"\\t\")\n",
    "cell_idrna = pd.read_csv(\"foxa1_data/G2rnacelltypes.txt\", header = 0, sep = \"\\t\")\n"
   ]
  },
  {
   "cell_type": "code",
   "execution_count": 441,
   "metadata": {},
   "outputs": [],
   "source": [
    "cell_ids = cell_ids['x']\n",
    "cell_idrna = cell_idrna['x']\n",
    "#cell_idrna = cell_ids['rna.bc']\n",
    "#cell_ids = cell_ids['atac.bc']\n",
    "#bedfile <- data(counts, package = \"chromVAR\")\n",
    "counts.columns = cell_ids\n",
    "counts.rows = peaks['total']"
   ]
  },
  {
   "cell_type": "markdown",
   "metadata": {},
   "source": [
    "# find the dorc scores to create the dorc x cell matrix"
   ]
  },
  {
   "cell_type": "code",
   "execution_count": 442,
   "metadata": {},
   "outputs": [],
   "source": [
    "#for each gene in dorclist\n",
    "dorc_by_cell = []\n",
    "for i in dorclist:\n",
    "    #find all associated peak names from the table above,find them in the count matrix and sum their arrays into 1\n",
    "    peak_names = dorcs[dorcs['Gene'] == i]['region'].tolist()\n",
    "    geneind2 = [j for j, e in enumerate(counts.rows) if e in peak_names]\n",
    "    corr = counts.tocsr()[geneind2, : ]\n",
    "    corr = corr.toarray()\n",
    "    corr = np.sum(corr, axis = 0)\n",
    "    #print(corr)\n",
    "    #add this to a new dorc_matrix with the same cell columns\n",
    "    dorc_by_cell.append((i, corr))\n",
    "    #print(i)"
   ]
  },
  {
   "cell_type": "code",
   "execution_count": 443,
   "metadata": {
    "scrolled": true
   },
   "outputs": [
    {
     "data": {
      "text/html": [
       "<div>\n",
       "<style scoped>\n",
       "    .dataframe tbody tr th:only-of-type {\n",
       "        vertical-align: middle;\n",
       "    }\n",
       "\n",
       "    .dataframe tbody tr th {\n",
       "        vertical-align: top;\n",
       "    }\n",
       "\n",
       "    .dataframe thead th {\n",
       "        text-align: right;\n",
       "    }\n",
       "</style>\n",
       "<table border=\"1\" class=\"dataframe\">\n",
       "  <thead>\n",
       "    <tr style=\"text-align: right;\">\n",
       "      <th></th>\n",
       "      <th>0</th>\n",
       "      <th>1</th>\n",
       "    </tr>\n",
       "  </thead>\n",
       "  <tbody>\n",
       "    <tr>\n",
       "      <th>0</th>\n",
       "      <td>Fam71a</td>\n",
       "      <td>[0.8657228741326698, 1.3014683508071005, 2.146...</td>\n",
       "    </tr>\n",
       "    <tr>\n",
       "      <th>1</th>\n",
       "      <td>Krt16</td>\n",
       "      <td>[0.6212482011593523, 1.9624368524069649, 0.919...</td>\n",
       "    </tr>\n",
       "    <tr>\n",
       "      <th>2</th>\n",
       "      <td>Mybbp1a</td>\n",
       "      <td>[0.44559927179166714, 0.25800024558829626, 0.3...</td>\n",
       "    </tr>\n",
       "    <tr>\n",
       "      <th>3</th>\n",
       "      <td>Nsmf</td>\n",
       "      <td>[0.5178885753598412, 0.1696058526882664, 0.546...</td>\n",
       "    </tr>\n",
       "    <tr>\n",
       "      <th>4</th>\n",
       "      <td>Smgc</td>\n",
       "      <td>[0.17745273002214812, 0.1696058526882664, 0.15...</td>\n",
       "    </tr>\n",
       "  </tbody>\n",
       "</table>\n",
       "</div>"
      ],
      "text/plain": [
       "         0                                                  1\n",
       "0   Fam71a  [0.8657228741326698, 1.3014683508071005, 2.146...\n",
       "1    Krt16  [0.6212482011593523, 1.9624368524069649, 0.919...\n",
       "2  Mybbp1a  [0.44559927179166714, 0.25800024558829626, 0.3...\n",
       "3     Nsmf  [0.5178885753598412, 0.1696058526882664, 0.546...\n",
       "4     Smgc  [0.17745273002214812, 0.1696058526882664, 0.15..."
      ]
     },
     "execution_count": 443,
     "metadata": {},
     "output_type": "execute_result"
    }
   ],
   "source": [
    "dorc_by_cell = pd.DataFrame(dorc_by_cell)\n",
    "dorc_by_cell.head()"
   ]
  },
  {
   "cell_type": "code",
   "execution_count": 444,
   "metadata": {},
   "outputs": [],
   "source": [
    "dorc_by_cell.columns = ['gene', 'cell']\n",
    "dorc_by_cell.index = dorc_by_cell['gene']\n",
    "dorc_by_cell = dorc_by_cell[['cell']]"
   ]
  },
  {
   "cell_type": "markdown",
   "metadata": {},
   "source": [
    "# read in rna counts"
   ]
  },
  {
   "cell_type": "code",
   "execution_count": 445,
   "metadata": {
    "scrolled": true
   },
   "outputs": [],
   "source": [
    "rna_expression = sio.mmread('foxa1_data/foxA1_rna_counts_G2.mtx')\n",
    "\n"
   ]
  },
  {
   "cell_type": "code",
   "execution_count": 446,
   "metadata": {},
   "outputs": [],
   "source": [
    "to_meta = pd.read_csv('foxa1_data/G2_rna_features.tsv', sep = '\\t', header = 0)"
   ]
  },
  {
   "cell_type": "code",
   "execution_count": 447,
   "metadata": {},
   "outputs": [
    {
     "data": {
      "text/html": [
       "<div>\n",
       "<style scoped>\n",
       "    .dataframe tbody tr th:only-of-type {\n",
       "        vertical-align: middle;\n",
       "    }\n",
       "\n",
       "    .dataframe tbody tr th {\n",
       "        vertical-align: top;\n",
       "    }\n",
       "\n",
       "    .dataframe thead th {\n",
       "        text-align: right;\n",
       "    }\n",
       "</style>\n",
       "<table border=\"1\" class=\"dataframe\">\n",
       "  <thead>\n",
       "    <tr style=\"text-align: right;\">\n",
       "      <th></th>\n",
       "      <th>x</th>\n",
       "    </tr>\n",
       "  </thead>\n",
       "  <tbody>\n",
       "    <tr>\n",
       "      <th>1</th>\n",
       "      <td>Xkr4</td>\n",
       "    </tr>\n",
       "    <tr>\n",
       "      <th>2</th>\n",
       "      <td>Rp1</td>\n",
       "    </tr>\n",
       "    <tr>\n",
       "      <th>3</th>\n",
       "      <td>Mrpl15</td>\n",
       "    </tr>\n",
       "    <tr>\n",
       "      <th>4</th>\n",
       "      <td>Lypla1</td>\n",
       "    </tr>\n",
       "    <tr>\n",
       "      <th>5</th>\n",
       "      <td>Tcea1</td>\n",
       "    </tr>\n",
       "  </tbody>\n",
       "</table>\n",
       "</div>"
      ],
      "text/plain": [
       "        x\n",
       "1    Xkr4\n",
       "2     Rp1\n",
       "3  Mrpl15\n",
       "4  Lypla1\n",
       "5   Tcea1"
      ]
     },
     "execution_count": 447,
     "metadata": {},
     "output_type": "execute_result"
    }
   ],
   "source": [
    "to_meta.head()"
   ]
  },
  {
   "cell_type": "code",
   "execution_count": 448,
   "metadata": {},
   "outputs": [],
   "source": [
    "to_meta.columns = ['gene']"
   ]
  },
  {
   "cell_type": "code",
   "execution_count": 449,
   "metadata": {},
   "outputs": [],
   "source": [
    "rna_expression.rows = to_meta['gene']\n",
    "rna_expression.columns = cell_idrna"
   ]
  },
  {
   "cell_type": "markdown",
   "metadata": {},
   "source": [
    "# Create dictionary for indexes of atac cells and rna cells in the dorc cell matrix"
   ]
  },
  {
   "cell_type": "code",
   "execution_count": 450,
   "metadata": {},
   "outputs": [],
   "source": [
    "todic = counts.columns\n",
    "todic = dict(todic)\n",
    "todic = {v: k for k, v in todic.items()}\n",
    "todic2 = dict(rna_expression.columns)\n",
    "\n",
    "todic2 = {v: k for k, v in todic2.items()}\n",
    "\n",
    "#dictionary of cells and their atac index\n",
    "atac_cells = todic\n",
    "#dictionary of cells and their rna index\n",
    "rna_cells = todic2"
   ]
  },
  {
   "cell_type": "markdown",
   "metadata": {},
   "source": [
    "# read in the topic knn"
   ]
  },
  {
   "cell_type": "code",
   "execution_count": 451,
   "metadata": {},
   "outputs": [
    {
     "data": {
      "text/html": [
       "<div>\n",
       "<style scoped>\n",
       "    .dataframe tbody tr th:only-of-type {\n",
       "        vertical-align: middle;\n",
       "    }\n",
       "\n",
       "    .dataframe tbody tr th {\n",
       "        vertical-align: top;\n",
       "    }\n",
       "\n",
       "    .dataframe thead th {\n",
       "        text-align: right;\n",
       "    }\n",
       "</style>\n",
       "<table border=\"1\" class=\"dataframe\">\n",
       "  <thead>\n",
       "    <tr style=\"text-align: right;\">\n",
       "      <th></th>\n",
       "      <th>G2_multiome#TGAAACTGTTATCGAG-1</th>\n",
       "      <th>G2_multiome#GTTGCCCGTCGTAAAT-1</th>\n",
       "      <th>G2_multiome#CCGCAAGGTTAGCGTA-1</th>\n",
       "      <th>G2_multiome#CCATAATCAGTACCGT-1</th>\n",
       "      <th>G2_multiome#GCCAGGAAGCCGGTAC-1</th>\n",
       "      <th>G2_multiome#AACGGTAAGGCGCTAC-1</th>\n",
       "      <th>G2_multiome#CGCAATGTCACAGACT-1</th>\n",
       "      <th>G2_multiome#GAGCTAGCACAATTAC-1</th>\n",
       "      <th>G2_multiome#CGGTTGGGTTCCGGGA-1</th>\n",
       "      <th>G2_multiome#CATAGGTTCCACCCTG-1</th>\n",
       "      <th>...</th>\n",
       "      <th>G2_multiome#TATGACTCAGGATGGC-1</th>\n",
       "      <th>G2_multiome#CCAACATAGGAGTCTT-1</th>\n",
       "      <th>G2_multiome#GAAGTCAAGGAAACTG-1</th>\n",
       "      <th>G2_multiome#GATGCGACAAGGTACG-1</th>\n",
       "      <th>G2_multiome#AGTCTTGCAAGCGAGC-1</th>\n",
       "      <th>G2_multiome#ACCACATAGCTATTAG-1</th>\n",
       "      <th>G2_multiome#CGATTATCACGTGCTG-1</th>\n",
       "      <th>G2_multiome#CGGTTCCGTAAATTGC-1</th>\n",
       "      <th>G2_multiome#GCTAACAGTCGTTACT-1</th>\n",
       "      <th>G2_multiome#TACGCACCAAAGCGCA-1</th>\n",
       "    </tr>\n",
       "  </thead>\n",
       "  <tbody>\n",
       "    <tr>\n",
       "      <th>Topic1</th>\n",
       "      <td>0.009151</td>\n",
       "      <td>0.042943</td>\n",
       "      <td>0.031055</td>\n",
       "      <td>0.034944</td>\n",
       "      <td>0.041689</td>\n",
       "      <td>0.036637</td>\n",
       "      <td>0.037729</td>\n",
       "      <td>0.058899</td>\n",
       "      <td>0.028316</td>\n",
       "      <td>0.028925</td>\n",
       "      <td>...</td>\n",
       "      <td>0.043758</td>\n",
       "      <td>0.028010</td>\n",
       "      <td>0.041684</td>\n",
       "      <td>0.004288</td>\n",
       "      <td>0.017191</td>\n",
       "      <td>0.022964</td>\n",
       "      <td>0.036079</td>\n",
       "      <td>0.001692</td>\n",
       "      <td>0.016341</td>\n",
       "      <td>0.001694</td>\n",
       "    </tr>\n",
       "    <tr>\n",
       "      <th>Topic2</th>\n",
       "      <td>0.030957</td>\n",
       "      <td>0.003242</td>\n",
       "      <td>0.009923</td>\n",
       "      <td>0.035081</td>\n",
       "      <td>0.031202</td>\n",
       "      <td>0.020575</td>\n",
       "      <td>0.002919</td>\n",
       "      <td>0.000761</td>\n",
       "      <td>0.020918</td>\n",
       "      <td>0.019800</td>\n",
       "      <td>...</td>\n",
       "      <td>0.045068</td>\n",
       "      <td>0.040371</td>\n",
       "      <td>0.085759</td>\n",
       "      <td>0.000580</td>\n",
       "      <td>0.008202</td>\n",
       "      <td>0.031405</td>\n",
       "      <td>0.001579</td>\n",
       "      <td>0.000896</td>\n",
       "      <td>0.003018</td>\n",
       "      <td>0.004299</td>\n",
       "    </tr>\n",
       "    <tr>\n",
       "      <th>Topic3</th>\n",
       "      <td>0.012864</td>\n",
       "      <td>0.033480</td>\n",
       "      <td>0.025569</td>\n",
       "      <td>0.022911</td>\n",
       "      <td>0.028848</td>\n",
       "      <td>0.025792</td>\n",
       "      <td>0.030448</td>\n",
       "      <td>0.044058</td>\n",
       "      <td>0.034982</td>\n",
       "      <td>0.024471</td>\n",
       "      <td>...</td>\n",
       "      <td>0.004038</td>\n",
       "      <td>0.004486</td>\n",
       "      <td>0.001767</td>\n",
       "      <td>0.050649</td>\n",
       "      <td>0.001011</td>\n",
       "      <td>0.014523</td>\n",
       "      <td>0.033649</td>\n",
       "      <td>0.008459</td>\n",
       "      <td>0.019255</td>\n",
       "      <td>0.026707</td>\n",
       "    </tr>\n",
       "    <tr>\n",
       "      <th>Topic4</th>\n",
       "      <td>0.023656</td>\n",
       "      <td>0.027409</td>\n",
       "      <td>0.015581</td>\n",
       "      <td>0.010588</td>\n",
       "      <td>0.014607</td>\n",
       "      <td>0.009411</td>\n",
       "      <td>0.032162</td>\n",
       "      <td>0.034472</td>\n",
       "      <td>0.014343</td>\n",
       "      <td>0.007039</td>\n",
       "      <td>...</td>\n",
       "      <td>0.000546</td>\n",
       "      <td>0.003289</td>\n",
       "      <td>0.000936</td>\n",
       "      <td>0.070584</td>\n",
       "      <td>0.001461</td>\n",
       "      <td>0.038357</td>\n",
       "      <td>0.020044</td>\n",
       "      <td>0.133061</td>\n",
       "      <td>0.027165</td>\n",
       "      <td>0.054325</td>\n",
       "    </tr>\n",
       "    <tr>\n",
       "      <th>Topic5</th>\n",
       "      <td>0.012855</td>\n",
       "      <td>0.036968</td>\n",
       "      <td>0.032262</td>\n",
       "      <td>0.029514</td>\n",
       "      <td>0.028255</td>\n",
       "      <td>0.024213</td>\n",
       "      <td>0.043390</td>\n",
       "      <td>0.030369</td>\n",
       "      <td>0.041684</td>\n",
       "      <td>0.033578</td>\n",
       "      <td>...</td>\n",
       "      <td>0.017132</td>\n",
       "      <td>0.029207</td>\n",
       "      <td>0.013410</td>\n",
       "      <td>0.056676</td>\n",
       "      <td>0.017191</td>\n",
       "      <td>0.064672</td>\n",
       "      <td>0.071064</td>\n",
       "      <td>0.018014</td>\n",
       "      <td>0.059638</td>\n",
       "      <td>0.104351</td>\n",
       "    </tr>\n",
       "  </tbody>\n",
       "</table>\n",
       "<p>5 rows × 5219 columns</p>\n",
       "</div>"
      ],
      "text/plain": [
       "        G2_multiome#TGAAACTGTTATCGAG-1  G2_multiome#GTTGCCCGTCGTAAAT-1  \\\n",
       "Topic1                        0.009151                        0.042943   \n",
       "Topic2                        0.030957                        0.003242   \n",
       "Topic3                        0.012864                        0.033480   \n",
       "Topic4                        0.023656                        0.027409   \n",
       "Topic5                        0.012855                        0.036968   \n",
       "\n",
       "        G2_multiome#CCGCAAGGTTAGCGTA-1  G2_multiome#CCATAATCAGTACCGT-1  \\\n",
       "Topic1                        0.031055                        0.034944   \n",
       "Topic2                        0.009923                        0.035081   \n",
       "Topic3                        0.025569                        0.022911   \n",
       "Topic4                        0.015581                        0.010588   \n",
       "Topic5                        0.032262                        0.029514   \n",
       "\n",
       "        G2_multiome#GCCAGGAAGCCGGTAC-1  G2_multiome#AACGGTAAGGCGCTAC-1  \\\n",
       "Topic1                        0.041689                        0.036637   \n",
       "Topic2                        0.031202                        0.020575   \n",
       "Topic3                        0.028848                        0.025792   \n",
       "Topic4                        0.014607                        0.009411   \n",
       "Topic5                        0.028255                        0.024213   \n",
       "\n",
       "        G2_multiome#CGCAATGTCACAGACT-1  G2_multiome#GAGCTAGCACAATTAC-1  \\\n",
       "Topic1                        0.037729                        0.058899   \n",
       "Topic2                        0.002919                        0.000761   \n",
       "Topic3                        0.030448                        0.044058   \n",
       "Topic4                        0.032162                        0.034472   \n",
       "Topic5                        0.043390                        0.030369   \n",
       "\n",
       "        G2_multiome#CGGTTGGGTTCCGGGA-1  G2_multiome#CATAGGTTCCACCCTG-1  ...  \\\n",
       "Topic1                        0.028316                        0.028925  ...   \n",
       "Topic2                        0.020918                        0.019800  ...   \n",
       "Topic3                        0.034982                        0.024471  ...   \n",
       "Topic4                        0.014343                        0.007039  ...   \n",
       "Topic5                        0.041684                        0.033578  ...   \n",
       "\n",
       "        G2_multiome#TATGACTCAGGATGGC-1  G2_multiome#CCAACATAGGAGTCTT-1  \\\n",
       "Topic1                        0.043758                        0.028010   \n",
       "Topic2                        0.045068                        0.040371   \n",
       "Topic3                        0.004038                        0.004486   \n",
       "Topic4                        0.000546                        0.003289   \n",
       "Topic5                        0.017132                        0.029207   \n",
       "\n",
       "        G2_multiome#GAAGTCAAGGAAACTG-1  G2_multiome#GATGCGACAAGGTACG-1  \\\n",
       "Topic1                        0.041684                        0.004288   \n",
       "Topic2                        0.085759                        0.000580   \n",
       "Topic3                        0.001767                        0.050649   \n",
       "Topic4                        0.000936                        0.070584   \n",
       "Topic5                        0.013410                        0.056676   \n",
       "\n",
       "        G2_multiome#AGTCTTGCAAGCGAGC-1  G2_multiome#ACCACATAGCTATTAG-1  \\\n",
       "Topic1                        0.017191                        0.022964   \n",
       "Topic2                        0.008202                        0.031405   \n",
       "Topic3                        0.001011                        0.014523   \n",
       "Topic4                        0.001461                        0.038357   \n",
       "Topic5                        0.017191                        0.064672   \n",
       "\n",
       "        G2_multiome#CGATTATCACGTGCTG-1  G2_multiome#CGGTTCCGTAAATTGC-1  \\\n",
       "Topic1                        0.036079                        0.001692   \n",
       "Topic2                        0.001579                        0.000896   \n",
       "Topic3                        0.033649                        0.008459   \n",
       "Topic4                        0.020044                        0.133061   \n",
       "Topic5                        0.071064                        0.018014   \n",
       "\n",
       "        G2_multiome#GCTAACAGTCGTTACT-1  G2_multiome#TACGCACCAAAGCGCA-1  \n",
       "Topic1                        0.016341                        0.001694  \n",
       "Topic2                        0.003018                        0.004299  \n",
       "Topic3                        0.019255                        0.026707  \n",
       "Topic4                        0.027165                        0.054325  \n",
       "Topic5                        0.059638                        0.104351  \n",
       "\n",
       "[5 rows x 5219 columns]"
      ]
     },
     "execution_count": 451,
     "metadata": {},
     "output_type": "execute_result"
    }
   ],
   "source": [
    "topics = pd.read_csv('foxa1_data/cisTopic40Topicsoutput.tsv', delimiter = '\\t')\n",
    "topics.head()"
   ]
  },
  {
   "cell_type": "code",
   "execution_count": 452,
   "metadata": {},
   "outputs": [],
   "source": [
    "import sklearn.neighbors as sk\n",
    "topicknn = sk.kneighbors_graph(topics.transpose(), mode='connectivity', n_neighbors=50)"
   ]
  },
  {
   "cell_type": "code",
   "execution_count": 453,
   "metadata": {},
   "outputs": [],
   "source": [
    "topicknn.columns = cell_ids\n",
    "topicknn.rows = cell_ids\n"
   ]
  },
  {
   "cell_type": "code",
   "execution_count": 454,
   "metadata": {},
   "outputs": [
    {
     "data": {
      "text/plain": [
       "<5219x5219 sparse matrix of type '<class 'numpy.float64'>'\n",
       "\twith 260950 stored elements in Compressed Sparse Row format>"
      ]
     },
     "execution_count": 454,
     "metadata": {},
     "output_type": "execute_result"
    }
   ],
   "source": [
    "topicknn"
   ]
  },
  {
   "cell_type": "code",
   "execution_count": 455,
   "metadata": {},
   "outputs": [],
   "source": [
    "topicknn.rows = topicknn.rows.reset_index(drop = True)\n",
    "topicknn.columns = topicknn.columns.reset_index(drop = True)"
   ]
  },
  {
   "cell_type": "code",
   "execution_count": 456,
   "metadata": {},
   "outputs": [],
   "source": [
    "topicdict = {}\n",
    "for i in range(len(topicknn.rows)):\n",
    "    row = topicknn.tocsr()[i, :].toarray()\n",
    "    indexes = []\n",
    "    [indexes.append(j) for j in range(len(row[0])) if row[0][j] > 0]\n",
    "    topicdict[topicknn.rows[i]] = indexes"
   ]
  },
  {
   "cell_type": "markdown",
   "metadata": {},
   "source": [
    "# create rna x cell modified matrix"
   ]
  },
  {
   "cell_type": "code",
   "execution_count": 457,
   "metadata": {},
   "outputs": [
    {
     "data": {
      "text/plain": [
       "<18712x5219 sparse matrix of type '<class 'numpy.float64'>'\n",
       "\twith 21226087 stored elements in COOrdinate format>"
      ]
     },
     "execution_count": 457,
     "metadata": {},
     "output_type": "execute_result"
    }
   ],
   "source": [
    "rna_expression"
   ]
  },
  {
   "cell_type": "code",
   "execution_count": 458,
   "metadata": {},
   "outputs": [],
   "source": [
    "rind = [j+1 for j, e in enumerate(rna_expression.rows.tolist()) if e in dorc_by_cell.index.tolist()]"
   ]
  },
  {
   "cell_type": "code",
   "execution_count": 459,
   "metadata": {},
   "outputs": [],
   "source": [
    "\n",
    "rna_expression = rna_expression.tocsr()[rind, : ]\n",
    "rna_expression.columns = cell_idrna"
   ]
  },
  {
   "cell_type": "code",
   "execution_count": 460,
   "metadata": {},
   "outputs": [],
   "source": [
    "\n",
    "rna_expression.rows = to_meta['gene'][rind]\n",
    "rna_by_cell = pd.DataFrame(rna_expression.todense())\n",
    "rna_by_cell = rna_by_cell.values.tolist()"
   ]
  },
  {
   "cell_type": "code",
   "execution_count": 461,
   "metadata": {
    "scrolled": false
   },
   "outputs": [
    {
     "data": {
      "text/html": [
       "<div>\n",
       "<style scoped>\n",
       "    .dataframe tbody tr th:only-of-type {\n",
       "        vertical-align: middle;\n",
       "    }\n",
       "\n",
       "    .dataframe tbody tr th {\n",
       "        vertical-align: top;\n",
       "    }\n",
       "\n",
       "    .dataframe thead th {\n",
       "        text-align: right;\n",
       "    }\n",
       "</style>\n",
       "<table border=\"1\" class=\"dataframe\">\n",
       "  <thead>\n",
       "    <tr style=\"text-align: right;\">\n",
       "      <th></th>\n",
       "      <th>cell</th>\n",
       "    </tr>\n",
       "    <tr>\n",
       "      <th>gene</th>\n",
       "      <th></th>\n",
       "    </tr>\n",
       "  </thead>\n",
       "  <tbody>\n",
       "    <tr>\n",
       "      <th>Fam178b</th>\n",
       "      <td>[0.0, 1.9459101490553132, 2.0794415416798357, ...</td>\n",
       "    </tr>\n",
       "    <tr>\n",
       "      <th>Map4k4</th>\n",
       "      <td>[0.0, 0.0, 0.0, 0.6931471805599453, 0.0, 0.0, ...</td>\n",
       "    </tr>\n",
       "    <tr>\n",
       "      <th>AI597479</th>\n",
       "      <td>[0.0, 0.6931471805599453, 0.6931471805599453, ...</td>\n",
       "    </tr>\n",
       "    <tr>\n",
       "      <th>Bzw1</th>\n",
       "      <td>[0.0, 0.6931471805599453, 1.0986122886681096, ...</td>\n",
       "    </tr>\n",
       "    <tr>\n",
       "      <th>Fcamr</th>\n",
       "      <td>[0.0, 0.0, 0.0, 0.0, 0.0, 0.0, 0.0, 0.0, 0.0, ...</td>\n",
       "    </tr>\n",
       "  </tbody>\n",
       "</table>\n",
       "</div>"
      ],
      "text/plain": [
       "                                                       cell\n",
       "gene                                                       \n",
       "Fam178b   [0.0, 1.9459101490553132, 2.0794415416798357, ...\n",
       "Map4k4    [0.0, 0.0, 0.0, 0.6931471805599453, 0.0, 0.0, ...\n",
       "AI597479  [0.0, 0.6931471805599453, 0.6931471805599453, ...\n",
       "Bzw1      [0.0, 0.6931471805599453, 1.0986122886681096, ...\n",
       "Fcamr     [0.0, 0.0, 0.0, 0.0, 0.0, 0.0, 0.0, 0.0, 0.0, ..."
      ]
     },
     "execution_count": 461,
     "metadata": {},
     "output_type": "execute_result"
    }
   ],
   "source": [
    "\n",
    "rna_by_cell2 = pd.DataFrame(rna_expression.rows)\n",
    "rna_by_cell2 = rna_by_cell2.reset_index(drop=True)\n",
    "rna_by_cell2['cell'] = [i for i in rna_by_cell]\n",
    "rna_by_cell2.index = rna_by_cell2['gene']\n",
    "rna_by_cell2 = rna_by_cell2[['cell']]\n",
    "rna_by_cell2.head()"
   ]
  },
  {
   "cell_type": "code",
   "execution_count": 193,
   "metadata": {},
   "outputs": [],
   "source": [
    "#dorc_by_cell = pd.read_csv('dorc_by_cell.csv')"
   ]
  },
  {
   "cell_type": "markdown",
   "metadata": {},
   "source": [
    "# smooth functions"
   ]
  },
  {
   "cell_type": "code",
   "execution_count": 462,
   "metadata": {},
   "outputs": [],
   "source": [
    "def Avg(array, knn):\n",
    "    toreturn = []\n",
    "    for i in range(len(array)):\n",
    "        val = topicknn.rows[i]\n",
    "        inds = knn.get(val)\n",
    "        total = int(array[i])\n",
    "        for num in inds:\n",
    "            total += array[num]\n",
    "        total = (total/(1 + len(inds)) )\n",
    "        toreturn.append(total)\n",
    "    return toreturn"
   ]
  },
  {
   "cell_type": "code",
   "execution_count": 463,
   "metadata": {},
   "outputs": [],
   "source": [
    "def smooth(dataframe, knn):\n",
    "    count = 0\n",
    "    #dataframe is a dorc x cell matrix or a rna x cell matrix\n",
    "    #make sure if rna x cell matrix, we only use the dorc rnas \n",
    "    print(len(dataframe.index))\n",
    "    newmat = []\n",
    "    for key, value in dataframe.iterrows():\n",
    "        rep = value[0]\n",
    "        newrep = Avg(rep, knn)\n",
    "        newmat.append((key, newrep))    \n",
    "        \n",
    "        #genename = key\n",
    "        #geneind2 = [j for j, e in enumerate(tempy) if i == e]\n",
    "        #corr = counts.tocsr()[geneind2, : ]\n",
    "        #corr = corr.toarray()\n",
    "        if count % 200 == 0:\n",
    "            print(len(newmat))\n",
    "        count += 1\n",
    "    return(newmat)"
   ]
  },
  {
   "cell_type": "markdown",
   "metadata": {},
   "source": [
    "# normalize our dorc matrix by peak counts - dont do this\n",
    "\n"
   ]
  },
  {
   "cell_type": "code",
   "execution_count": null,
   "metadata": {},
   "outputs": [],
   "source": [
    "#curr = [0 for i in range(len(dorc_by_cell.iloc[0][0]))]\n",
    "#for i in dorc_by_cell['cell']:\n",
    "#    zipped_lists = zip(i, curr)\n",
    "#    curr = [x + y for (x, y) in zipped_lists]"
   ]
  },
  {
   "cell_type": "code",
   "execution_count": null,
   "metadata": {},
   "outputs": [],
   "source": [
    "#d2 = []\n",
    "#for index, row in dorc_by_cell.iterrows():\n",
    "#    zipped_lists = zip(row['cell'], curr)\n",
    "#    tp = [np.log(((x / y)*10000)+1) for (x, y) in zipped_lists]\n",
    "#    d2.append(tp)\n",
    "\n",
    "#d2 = pd.Series(d2)\n",
    "#d2.index = dorc_by_cell.index\n",
    "#dorc_by_cell['cell'] = d2\n",
    "#dorc_by_cell = dorc_by_cell[['cell']]\n",
    "#dorc_by_cell.head()"
   ]
  },
  {
   "cell_type": "markdown",
   "metadata": {},
   "source": [
    "# smooth the dorc scores"
   ]
  },
  {
   "cell_type": "code",
   "execution_count": 464,
   "metadata": {},
   "outputs": [
    {
     "name": "stdout",
     "output_type": "stream",
     "text": [
      "260\n",
      "1\n",
      "201\n"
     ]
    }
   ],
   "source": [
    "#smooth the dorc scores\n",
    "smoothed_dorc = smooth(dorc_by_cell, topicdict)\n",
    "#smooth the rna scores"
   ]
  },
  {
   "cell_type": "markdown",
   "metadata": {},
   "source": [
    "# smooth the rna scores"
   ]
  },
  {
   "cell_type": "code",
   "execution_count": 465,
   "metadata": {},
   "outputs": [
    {
     "name": "stdout",
     "output_type": "stream",
     "text": [
      "260\n",
      "1\n",
      "201\n"
     ]
    }
   ],
   "source": [
    "smoothed_rna = smooth(rna_by_cell2, topicdict)"
   ]
  },
  {
   "cell_type": "markdown",
   "metadata": {},
   "source": [
    "# get dorc scores and rna in usable formats"
   ]
  },
  {
   "cell_type": "code",
   "execution_count": 466,
   "metadata": {},
   "outputs": [],
   "source": [
    "smoothed_rna = pd.DataFrame(smoothed_rna)\n",
    "smoothed_rna.columns = ['gene', 'cell']\n",
    "smoothed_dorc = pd.DataFrame(smoothed_dorc)\n",
    "smoothed_dorc.columns = ['gene', 'cell']\n",
    "revdorc = pd.DataFrame(cell_ids)"
   ]
  },
  {
   "cell_type": "code",
   "execution_count": null,
   "metadata": {},
   "outputs": [],
   "source": [
    "#was trying with more identified dorcs >= 10"
   ]
  },
  {
   "cell_type": "code",
   "execution_count": 467,
   "metadata": {
    "scrolled": false
   },
   "outputs": [],
   "source": [
    "matsmoothvals = smoothed_dorc.cell.apply(pd.Series)"
   ]
  },
  {
   "cell_type": "code",
   "execution_count": 468,
   "metadata": {},
   "outputs": [],
   "source": [
    "matsmoothvals.index = dorc_by_cell.index\n",
    "matsmoothvals = matsmoothvals.reindex(dorc_by_cell.index)"
   ]
  },
  {
   "cell_type": "code",
   "execution_count": 476,
   "metadata": {
    "scrolled": true
   },
   "outputs": [
    {
     "data": {
      "text/html": [
       "<div>\n",
       "<style scoped>\n",
       "    .dataframe tbody tr th:only-of-type {\n",
       "        vertical-align: middle;\n",
       "    }\n",
       "\n",
       "    .dataframe tbody tr th {\n",
       "        vertical-align: top;\n",
       "    }\n",
       "\n",
       "    .dataframe thead th {\n",
       "        text-align: right;\n",
       "    }\n",
       "</style>\n",
       "<table border=\"1\" class=\"dataframe\">\n",
       "  <thead>\n",
       "    <tr style=\"text-align: right;\">\n",
       "      <th></th>\n",
       "      <th>0</th>\n",
       "      <th>1</th>\n",
       "      <th>2</th>\n",
       "      <th>3</th>\n",
       "      <th>4</th>\n",
       "      <th>5</th>\n",
       "      <th>6</th>\n",
       "      <th>7</th>\n",
       "      <th>8</th>\n",
       "      <th>9</th>\n",
       "      <th>...</th>\n",
       "      <th>5209</th>\n",
       "      <th>5210</th>\n",
       "      <th>5211</th>\n",
       "      <th>5212</th>\n",
       "      <th>5213</th>\n",
       "      <th>5214</th>\n",
       "      <th>5215</th>\n",
       "      <th>5216</th>\n",
       "      <th>5217</th>\n",
       "      <th>5218</th>\n",
       "    </tr>\n",
       "    <tr>\n",
       "      <th>gene</th>\n",
       "      <th></th>\n",
       "      <th></th>\n",
       "      <th></th>\n",
       "      <th></th>\n",
       "      <th></th>\n",
       "      <th></th>\n",
       "      <th></th>\n",
       "      <th></th>\n",
       "      <th></th>\n",
       "      <th></th>\n",
       "      <th></th>\n",
       "      <th></th>\n",
       "      <th></th>\n",
       "      <th></th>\n",
       "      <th></th>\n",
       "      <th></th>\n",
       "      <th></th>\n",
       "      <th></th>\n",
       "      <th></th>\n",
       "      <th></th>\n",
       "      <th></th>\n",
       "    </tr>\n",
       "  </thead>\n",
       "  <tbody>\n",
       "    <tr>\n",
       "      <th>Fam178b</th>\n",
       "      <td>1.491616</td>\n",
       "      <td>1.824243</td>\n",
       "      <td>1.865978</td>\n",
       "      <td>1.799586</td>\n",
       "      <td>1.796901</td>\n",
       "      <td>1.830486</td>\n",
       "      <td>1.720219</td>\n",
       "      <td>2.038765</td>\n",
       "      <td>1.660460</td>\n",
       "      <td>1.748329</td>\n",
       "      <td>...</td>\n",
       "      <td>1.856369</td>\n",
       "      <td>1.817774</td>\n",
       "      <td>1.957344</td>\n",
       "      <td>1.397603</td>\n",
       "      <td>2.022300</td>\n",
       "      <td>1.607572</td>\n",
       "      <td>1.850687</td>\n",
       "      <td>1.614656</td>\n",
       "      <td>1.486864</td>\n",
       "      <td>1.699164</td>\n",
       "    </tr>\n",
       "    <tr>\n",
       "      <th>Map4k4</th>\n",
       "      <td>0.054364</td>\n",
       "      <td>0.021541</td>\n",
       "      <td>0.081547</td>\n",
       "      <td>0.083856</td>\n",
       "      <td>0.048724</td>\n",
       "      <td>0.067956</td>\n",
       "      <td>0.027182</td>\n",
       "      <td>0.021541</td>\n",
       "      <td>0.067956</td>\n",
       "      <td>0.040773</td>\n",
       "      <td>...</td>\n",
       "      <td>0.027182</td>\n",
       "      <td>0.089497</td>\n",
       "      <td>0.130270</td>\n",
       "      <td>0.013591</td>\n",
       "      <td>0.000000</td>\n",
       "      <td>0.027182</td>\n",
       "      <td>0.021541</td>\n",
       "      <td>0.040773</td>\n",
       "      <td>0.013591</td>\n",
       "      <td>0.000000</td>\n",
       "    </tr>\n",
       "    <tr>\n",
       "      <th>AI597479</th>\n",
       "      <td>0.656463</td>\n",
       "      <td>0.643428</td>\n",
       "      <td>0.649865</td>\n",
       "      <td>0.811693</td>\n",
       "      <td>0.921158</td>\n",
       "      <td>0.708605</td>\n",
       "      <td>0.649573</td>\n",
       "      <td>0.515508</td>\n",
       "      <td>0.900329</td>\n",
       "      <td>0.835433</td>\n",
       "      <td>...</td>\n",
       "      <td>0.530076</td>\n",
       "      <td>0.512020</td>\n",
       "      <td>0.529186</td>\n",
       "      <td>0.815232</td>\n",
       "      <td>0.557236</td>\n",
       "      <td>0.896766</td>\n",
       "      <td>0.569827</td>\n",
       "      <td>0.638340</td>\n",
       "      <td>0.520060</td>\n",
       "      <td>0.452464</td>\n",
       "    </tr>\n",
       "    <tr>\n",
       "      <th>Bzw1</th>\n",
       "      <td>0.851849</td>\n",
       "      <td>0.859307</td>\n",
       "      <td>1.009986</td>\n",
       "      <td>1.107764</td>\n",
       "      <td>1.200532</td>\n",
       "      <td>0.966306</td>\n",
       "      <td>0.907786</td>\n",
       "      <td>0.757329</td>\n",
       "      <td>1.110300</td>\n",
       "      <td>1.129532</td>\n",
       "      <td>...</td>\n",
       "      <td>1.112185</td>\n",
       "      <td>0.840208</td>\n",
       "      <td>0.883291</td>\n",
       "      <td>0.760660</td>\n",
       "      <td>0.894612</td>\n",
       "      <td>1.131841</td>\n",
       "      <td>1.019013</td>\n",
       "      <td>0.875613</td>\n",
       "      <td>0.648975</td>\n",
       "      <td>0.941322</td>\n",
       "    </tr>\n",
       "    <tr>\n",
       "      <th>Fcamr</th>\n",
       "      <td>0.000000</td>\n",
       "      <td>0.000000</td>\n",
       "      <td>0.013591</td>\n",
       "      <td>0.000000</td>\n",
       "      <td>0.000000</td>\n",
       "      <td>0.000000</td>\n",
       "      <td>0.000000</td>\n",
       "      <td>0.000000</td>\n",
       "      <td>0.013591</td>\n",
       "      <td>0.000000</td>\n",
       "      <td>...</td>\n",
       "      <td>0.000000</td>\n",
       "      <td>0.021541</td>\n",
       "      <td>0.013591</td>\n",
       "      <td>0.000000</td>\n",
       "      <td>0.000000</td>\n",
       "      <td>0.000000</td>\n",
       "      <td>0.000000</td>\n",
       "      <td>0.000000</td>\n",
       "      <td>0.000000</td>\n",
       "      <td>0.000000</td>\n",
       "    </tr>\n",
       "  </tbody>\n",
       "</table>\n",
       "<p>5 rows × 5219 columns</p>\n",
       "</div>"
      ],
      "text/plain": [
       "              0         1         2         3         4         5     \\\n",
       "gene                                                                   \n",
       "Fam178b   1.491616  1.824243  1.865978  1.799586  1.796901  1.830486   \n",
       "Map4k4    0.054364  0.021541  0.081547  0.083856  0.048724  0.067956   \n",
       "AI597479  0.656463  0.643428  0.649865  0.811693  0.921158  0.708605   \n",
       "Bzw1      0.851849  0.859307  1.009986  1.107764  1.200532  0.966306   \n",
       "Fcamr     0.000000  0.000000  0.013591  0.000000  0.000000  0.000000   \n",
       "\n",
       "              6         7         8         9     ...      5209      5210  \\\n",
       "gene                                              ...                       \n",
       "Fam178b   1.720219  2.038765  1.660460  1.748329  ...  1.856369  1.817774   \n",
       "Map4k4    0.027182  0.021541  0.067956  0.040773  ...  0.027182  0.089497   \n",
       "AI597479  0.649573  0.515508  0.900329  0.835433  ...  0.530076  0.512020   \n",
       "Bzw1      0.907786  0.757329  1.110300  1.129532  ...  1.112185  0.840208   \n",
       "Fcamr     0.000000  0.000000  0.013591  0.000000  ...  0.000000  0.021541   \n",
       "\n",
       "              5211      5212      5213      5214      5215      5216  \\\n",
       "gene                                                                   \n",
       "Fam178b   1.957344  1.397603  2.022300  1.607572  1.850687  1.614656   \n",
       "Map4k4    0.130270  0.013591  0.000000  0.027182  0.021541  0.040773   \n",
       "AI597479  0.529186  0.815232  0.557236  0.896766  0.569827  0.638340   \n",
       "Bzw1      0.883291  0.760660  0.894612  1.131841  1.019013  0.875613   \n",
       "Fcamr     0.013591  0.000000  0.000000  0.000000  0.000000  0.000000   \n",
       "\n",
       "              5217      5218  \n",
       "gene                          \n",
       "Fam178b   1.486864  1.699164  \n",
       "Map4k4    0.013591  0.000000  \n",
       "AI597479  0.520060  0.452464  \n",
       "Bzw1      0.648975  0.941322  \n",
       "Fcamr     0.000000  0.000000  \n",
       "\n",
       "[5 rows x 5219 columns]"
      ]
     },
     "execution_count": 476,
     "metadata": {},
     "output_type": "execute_result"
    }
   ],
   "source": [
    "matsmoothvals.head()"
   ]
  },
  {
   "cell_type": "code",
   "execution_count": 470,
   "metadata": {},
   "outputs": [],
   "source": [
    "matsmoothvals.to_csv('foxa1_data/smoothed_dorc_table_G2_40.csv')"
   ]
  },
  {
   "cell_type": "code",
   "execution_count": 471,
   "metadata": {},
   "outputs": [],
   "source": [
    "matsmoothvals = smoothed_rna.cell.apply(pd.Series)"
   ]
  },
  {
   "cell_type": "code",
   "execution_count": 472,
   "metadata": {
    "scrolled": true
   },
   "outputs": [],
   "source": [
    "matsmoothvals.index = rna_by_cell2.index\n",
    "matsmoothvals = matsmoothvals.reindex(rna_by_cell2.index)"
   ]
  },
  {
   "cell_type": "code",
   "execution_count": 475,
   "metadata": {},
   "outputs": [
    {
     "data": {
      "text/html": [
       "<div>\n",
       "<style scoped>\n",
       "    .dataframe tbody tr th:only-of-type {\n",
       "        vertical-align: middle;\n",
       "    }\n",
       "\n",
       "    .dataframe tbody tr th {\n",
       "        vertical-align: top;\n",
       "    }\n",
       "\n",
       "    .dataframe thead th {\n",
       "        text-align: right;\n",
       "    }\n",
       "</style>\n",
       "<table border=\"1\" class=\"dataframe\">\n",
       "  <thead>\n",
       "    <tr style=\"text-align: right;\">\n",
       "      <th></th>\n",
       "      <th>0</th>\n",
       "      <th>1</th>\n",
       "      <th>2</th>\n",
       "      <th>3</th>\n",
       "      <th>4</th>\n",
       "      <th>5</th>\n",
       "      <th>6</th>\n",
       "      <th>7</th>\n",
       "      <th>8</th>\n",
       "      <th>9</th>\n",
       "      <th>...</th>\n",
       "      <th>5209</th>\n",
       "      <th>5210</th>\n",
       "      <th>5211</th>\n",
       "      <th>5212</th>\n",
       "      <th>5213</th>\n",
       "      <th>5214</th>\n",
       "      <th>5215</th>\n",
       "      <th>5216</th>\n",
       "      <th>5217</th>\n",
       "      <th>5218</th>\n",
       "    </tr>\n",
       "    <tr>\n",
       "      <th>gene</th>\n",
       "      <th></th>\n",
       "      <th></th>\n",
       "      <th></th>\n",
       "      <th></th>\n",
       "      <th></th>\n",
       "      <th></th>\n",
       "      <th></th>\n",
       "      <th></th>\n",
       "      <th></th>\n",
       "      <th></th>\n",
       "      <th></th>\n",
       "      <th></th>\n",
       "      <th></th>\n",
       "      <th></th>\n",
       "      <th></th>\n",
       "      <th></th>\n",
       "      <th></th>\n",
       "      <th></th>\n",
       "      <th></th>\n",
       "      <th></th>\n",
       "      <th></th>\n",
       "    </tr>\n",
       "  </thead>\n",
       "  <tbody>\n",
       "    <tr>\n",
       "      <th>Fam178b</th>\n",
       "      <td>1.491616</td>\n",
       "      <td>1.824243</td>\n",
       "      <td>1.865978</td>\n",
       "      <td>1.799586</td>\n",
       "      <td>1.796901</td>\n",
       "      <td>1.830486</td>\n",
       "      <td>1.720219</td>\n",
       "      <td>2.038765</td>\n",
       "      <td>1.660460</td>\n",
       "      <td>1.748329</td>\n",
       "      <td>...</td>\n",
       "      <td>1.856369</td>\n",
       "      <td>1.817774</td>\n",
       "      <td>1.957344</td>\n",
       "      <td>1.397603</td>\n",
       "      <td>2.022300</td>\n",
       "      <td>1.607572</td>\n",
       "      <td>1.850687</td>\n",
       "      <td>1.614656</td>\n",
       "      <td>1.486864</td>\n",
       "      <td>1.699164</td>\n",
       "    </tr>\n",
       "    <tr>\n",
       "      <th>Map4k4</th>\n",
       "      <td>0.054364</td>\n",
       "      <td>0.021541</td>\n",
       "      <td>0.081547</td>\n",
       "      <td>0.083856</td>\n",
       "      <td>0.048724</td>\n",
       "      <td>0.067956</td>\n",
       "      <td>0.027182</td>\n",
       "      <td>0.021541</td>\n",
       "      <td>0.067956</td>\n",
       "      <td>0.040773</td>\n",
       "      <td>...</td>\n",
       "      <td>0.027182</td>\n",
       "      <td>0.089497</td>\n",
       "      <td>0.130270</td>\n",
       "      <td>0.013591</td>\n",
       "      <td>0.000000</td>\n",
       "      <td>0.027182</td>\n",
       "      <td>0.021541</td>\n",
       "      <td>0.040773</td>\n",
       "      <td>0.013591</td>\n",
       "      <td>0.000000</td>\n",
       "    </tr>\n",
       "    <tr>\n",
       "      <th>AI597479</th>\n",
       "      <td>0.656463</td>\n",
       "      <td>0.643428</td>\n",
       "      <td>0.649865</td>\n",
       "      <td>0.811693</td>\n",
       "      <td>0.921158</td>\n",
       "      <td>0.708605</td>\n",
       "      <td>0.649573</td>\n",
       "      <td>0.515508</td>\n",
       "      <td>0.900329</td>\n",
       "      <td>0.835433</td>\n",
       "      <td>...</td>\n",
       "      <td>0.530076</td>\n",
       "      <td>0.512020</td>\n",
       "      <td>0.529186</td>\n",
       "      <td>0.815232</td>\n",
       "      <td>0.557236</td>\n",
       "      <td>0.896766</td>\n",
       "      <td>0.569827</td>\n",
       "      <td>0.638340</td>\n",
       "      <td>0.520060</td>\n",
       "      <td>0.452464</td>\n",
       "    </tr>\n",
       "    <tr>\n",
       "      <th>Bzw1</th>\n",
       "      <td>0.851849</td>\n",
       "      <td>0.859307</td>\n",
       "      <td>1.009986</td>\n",
       "      <td>1.107764</td>\n",
       "      <td>1.200532</td>\n",
       "      <td>0.966306</td>\n",
       "      <td>0.907786</td>\n",
       "      <td>0.757329</td>\n",
       "      <td>1.110300</td>\n",
       "      <td>1.129532</td>\n",
       "      <td>...</td>\n",
       "      <td>1.112185</td>\n",
       "      <td>0.840208</td>\n",
       "      <td>0.883291</td>\n",
       "      <td>0.760660</td>\n",
       "      <td>0.894612</td>\n",
       "      <td>1.131841</td>\n",
       "      <td>1.019013</td>\n",
       "      <td>0.875613</td>\n",
       "      <td>0.648975</td>\n",
       "      <td>0.941322</td>\n",
       "    </tr>\n",
       "    <tr>\n",
       "      <th>Fcamr</th>\n",
       "      <td>0.000000</td>\n",
       "      <td>0.000000</td>\n",
       "      <td>0.013591</td>\n",
       "      <td>0.000000</td>\n",
       "      <td>0.000000</td>\n",
       "      <td>0.000000</td>\n",
       "      <td>0.000000</td>\n",
       "      <td>0.000000</td>\n",
       "      <td>0.013591</td>\n",
       "      <td>0.000000</td>\n",
       "      <td>...</td>\n",
       "      <td>0.000000</td>\n",
       "      <td>0.021541</td>\n",
       "      <td>0.013591</td>\n",
       "      <td>0.000000</td>\n",
       "      <td>0.000000</td>\n",
       "      <td>0.000000</td>\n",
       "      <td>0.000000</td>\n",
       "      <td>0.000000</td>\n",
       "      <td>0.000000</td>\n",
       "      <td>0.000000</td>\n",
       "    </tr>\n",
       "  </tbody>\n",
       "</table>\n",
       "<p>5 rows × 5219 columns</p>\n",
       "</div>"
      ],
      "text/plain": [
       "              0         1         2         3         4         5     \\\n",
       "gene                                                                   \n",
       "Fam178b   1.491616  1.824243  1.865978  1.799586  1.796901  1.830486   \n",
       "Map4k4    0.054364  0.021541  0.081547  0.083856  0.048724  0.067956   \n",
       "AI597479  0.656463  0.643428  0.649865  0.811693  0.921158  0.708605   \n",
       "Bzw1      0.851849  0.859307  1.009986  1.107764  1.200532  0.966306   \n",
       "Fcamr     0.000000  0.000000  0.013591  0.000000  0.000000  0.000000   \n",
       "\n",
       "              6         7         8         9     ...      5209      5210  \\\n",
       "gene                                              ...                       \n",
       "Fam178b   1.720219  2.038765  1.660460  1.748329  ...  1.856369  1.817774   \n",
       "Map4k4    0.027182  0.021541  0.067956  0.040773  ...  0.027182  0.089497   \n",
       "AI597479  0.649573  0.515508  0.900329  0.835433  ...  0.530076  0.512020   \n",
       "Bzw1      0.907786  0.757329  1.110300  1.129532  ...  1.112185  0.840208   \n",
       "Fcamr     0.000000  0.000000  0.013591  0.000000  ...  0.000000  0.021541   \n",
       "\n",
       "              5211      5212      5213      5214      5215      5216  \\\n",
       "gene                                                                   \n",
       "Fam178b   1.957344  1.397603  2.022300  1.607572  1.850687  1.614656   \n",
       "Map4k4    0.130270  0.013591  0.000000  0.027182  0.021541  0.040773   \n",
       "AI597479  0.529186  0.815232  0.557236  0.896766  0.569827  0.638340   \n",
       "Bzw1      0.883291  0.760660  0.894612  1.131841  1.019013  0.875613   \n",
       "Fcamr     0.013591  0.000000  0.000000  0.000000  0.000000  0.000000   \n",
       "\n",
       "              5217      5218  \n",
       "gene                          \n",
       "Fam178b   1.486864  1.699164  \n",
       "Map4k4    0.013591  0.000000  \n",
       "AI597479  0.520060  0.452464  \n",
       "Bzw1      0.648975  0.941322  \n",
       "Fcamr     0.000000  0.000000  \n",
       "\n",
       "[5 rows x 5219 columns]"
      ]
     },
     "execution_count": 475,
     "metadata": {},
     "output_type": "execute_result"
    }
   ],
   "source": [
    "matsmoothvals.head()"
   ]
  },
  {
   "cell_type": "code",
   "execution_count": 474,
   "metadata": {},
   "outputs": [],
   "source": [
    "matsmoothvals.to_csv('foxa1_data/smoothed_rna_table_G2_40.csv')"
   ]
  },
  {
   "cell_type": "code",
   "execution_count": 357,
   "metadata": {},
   "outputs": [],
   "source": [
    "cell_ids.to_csv('foxa1_data/smoothed_dorc_columns_G2.csv', header = False)"
   ]
  }
 ],
 "metadata": {
  "kernelspec": {
   "display_name": "Python 3",
   "language": "python",
   "name": "python3"
  },
  "language_info": {
   "codemirror_mode": {
    "name": "ipython",
    "version": 3
   },
   "file_extension": ".py",
   "mimetype": "text/x-python",
   "name": "python",
   "nbconvert_exporter": "python",
   "pygments_lexer": "ipython3",
   "version": "3.7.3"
  }
 },
 "nbformat": 4,
 "nbformat_minor": 2
}
