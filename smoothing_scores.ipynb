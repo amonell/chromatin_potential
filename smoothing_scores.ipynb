{
 "cells": [
  {
   "cell_type": "code",
   "execution_count": 1,
   "metadata": {},
   "outputs": [],
   "source": [
    "import pandas as pd\n",
    "import numpy as np\n",
    "import scipy.io as sio\n",
    "from scipy import stats"
   ]
  },
  {
   "cell_type": "markdown",
   "metadata": {},
   "source": [
    "# Read in dorcs \n"
   ]
  },
  {
   "cell_type": "code",
   "execution_count": 2,
   "metadata": {},
   "outputs": [],
   "source": [
    "dorcs= pd.read_csv(\"E:/scrnaseqscript/foxa1_data/h2_data/H2_dorcs_nopseudo.csv\", sep = \",\")"
   ]
  },
  {
   "cell_type": "code",
   "execution_count": 3,
   "metadata": {},
   "outputs": [],
   "source": [
    "chroms = [i.split('_')[0] for i in dorcs['peak']]"
   ]
  },
  {
   "cell_type": "code",
   "execution_count": 4,
   "metadata": {},
   "outputs": [],
   "source": [
    "dorcs['Chr'] = chroms"
   ]
  },
  {
   "cell_type": "code",
   "execution_count": 5,
   "metadata": {},
   "outputs": [],
   "source": [
    "x = dorcs['Gene'].value_counts(dropna=True)\n",
    "y = dorcs['Gene'].value_counts(dropna=True).index\n",
    "dorclist = []\n",
    "dorcnums = []\n",
    "z = x.index\n",
    "for i in range(len(x)):\n",
    "    if x[i] >= 8:\n",
    "        dorclist.append(z[i])\n",
    "        dorcnums.append(x[i])\n",
    "dorcs[\"region\"] = dorcs['Chr'] + \"_\" + (dorcs[\"Start\"].astype(int) + 1).astype(str) + \"_\" + dorcs[\"End\"].astype(str)\n",
    "#dorclist"
   ]
  },
  {
   "cell_type": "markdown",
   "metadata": {},
   "source": [
    "# Read in counts of atac peaks: Normalize the peak matrix - log normalize if not prenormalized"
   ]
  },
  {
   "cell_type": "code",
   "execution_count": 6,
   "metadata": {
    "scrolled": true
   },
   "outputs": [],
   "source": [
    "#reading in the cell by peak matrix\n",
    "peaks = pd.read_csv(\"E:/scrnaseqscript/foxa1_data/h2_data/H2_bedpeaksfoxa1_new.bed\", sep= \"\\t\", header = None)\n",
    "peaks.columns = [\"chr\", \"start\", \"end\"]\n",
    "peaks[\"start\"] = peaks[\"start\"] + 1\n",
    "peaks[\"region\"] = peaks[\"start\"].astype(str) + \"_\" + peaks[\"end\"].astype(str)\n",
    "peaks[\"total\"] = peaks[\"chr\"].astype(str) + \"_\" + peaks[\"region\"].astype(str)\n"
   ]
  },
  {
   "cell_type": "code",
   "execution_count": 7,
   "metadata": {},
   "outputs": [],
   "source": [
    "counts = sio.mmread(\"E:/scrnaseqscript/foxa1_data/h2_data/foxA1_peak_counts_H2.mtx\")\n",
    "cell_ids = pd.read_csv(\"E:/scrnaseqscript/foxa1_data/h2_data/H2peakcelltypes.txt\", header = 0, sep = \"\\t\")\n",
    "cell_idrna = pd.read_csv(\"E:/scrnaseqscript/foxa1_data/h2_data/H2rnacelltypes.txt\", header = 0, sep = \"\\t\")\n"
   ]
  },
  {
   "cell_type": "code",
   "execution_count": 8,
   "metadata": {},
   "outputs": [],
   "source": [
    "cell_ids = cell_ids['x']\n",
    "cell_idrna = cell_idrna['x']\n",
    "#cell_idrna = cell_ids['rna.bc']\n",
    "#cell_ids = cell_ids['atac.bc']\n",
    "#bedfile <- data(counts, package = \"chromVAR\")\n",
    "counts.columns = cell_ids\n",
    "counts.rows = peaks['total']"
   ]
  },
  {
   "cell_type": "markdown",
   "metadata": {},
   "source": [
    "# find the dorc scores to create the dorc x cell matrix"
   ]
  },
  {
   "cell_type": "code",
   "execution_count": 9,
   "metadata": {},
   "outputs": [],
   "source": [
    "#for each gene in dorclist\n",
    "dorc_by_cell = []\n",
    "for i in dorclist:\n",
    "    #find all associated peak names from the table above,find them in the count matrix and sum their arrays into 1\n",
    "    peak_names = dorcs[dorcs['Gene'] == i]['region'].tolist()\n",
    "    geneind2 = [j for j, e in enumerate(counts.rows) if e in peak_names]\n",
    "    corr = counts.tocsr()[geneind2, : ]\n",
    "    corr = corr.toarray()\n",
    "    corr = np.sum(corr, axis = 0)\n",
    "    #print(corr)\n",
    "    #add this to a new dorc_matrix with the same cell columns\n",
    "    dorc_by_cell.append((i, corr))\n",
    "    #print(i)"
   ]
  },
  {
   "cell_type": "code",
   "execution_count": 10,
   "metadata": {
    "scrolled": true
   },
   "outputs": [
    {
     "data": {
      "text/html": [
       "<div>\n",
       "<style scoped>\n",
       "    .dataframe tbody tr th:only-of-type {\n",
       "        vertical-align: middle;\n",
       "    }\n",
       "\n",
       "    .dataframe tbody tr th {\n",
       "        vertical-align: top;\n",
       "    }\n",
       "\n",
       "    .dataframe thead th {\n",
       "        text-align: right;\n",
       "    }\n",
       "</style>\n",
       "<table border=\"1\" class=\"dataframe\">\n",
       "  <thead>\n",
       "    <tr style=\"text-align: right;\">\n",
       "      <th></th>\n",
       "      <th>0</th>\n",
       "      <th>1</th>\n",
       "    </tr>\n",
       "  </thead>\n",
       "  <tbody>\n",
       "    <tr>\n",
       "      <th>0</th>\n",
       "      <td>Fam71a</td>\n",
       "      <td>[39, 20, 11, 11, 22, 16, 15, 60, 36, 23, 12, 3...</td>\n",
       "    </tr>\n",
       "    <tr>\n",
       "      <th>1</th>\n",
       "      <td>Krt16</td>\n",
       "      <td>[54, 46, 44, 38, 10, 54, 20, 88, 52, 57, 12, 7...</td>\n",
       "    </tr>\n",
       "    <tr>\n",
       "      <th>2</th>\n",
       "      <td>Mybbp1a</td>\n",
       "      <td>[29, 23, 44, 6, 6, 8, 5, 25, 20, 40, 11, 21, 2...</td>\n",
       "    </tr>\n",
       "    <tr>\n",
       "      <th>3</th>\n",
       "      <td>Brf2</td>\n",
       "      <td>[40, 5, 19, 7, 2, 13, 19, 9, 20, 11, 0, 8, 21,...</td>\n",
       "    </tr>\n",
       "    <tr>\n",
       "      <th>4</th>\n",
       "      <td>Krt8</td>\n",
       "      <td>[26, 17, 17, 4, 9, 32, 13, 23, 18, 15, 13, 15,...</td>\n",
       "    </tr>\n",
       "  </tbody>\n",
       "</table>\n",
       "</div>"
      ],
      "text/plain": [
       "         0                                                  1\n",
       "0   Fam71a  [39, 20, 11, 11, 22, 16, 15, 60, 36, 23, 12, 3...\n",
       "1    Krt16  [54, 46, 44, 38, 10, 54, 20, 88, 52, 57, 12, 7...\n",
       "2  Mybbp1a  [29, 23, 44, 6, 6, 8, 5, 25, 20, 40, 11, 21, 2...\n",
       "3     Brf2  [40, 5, 19, 7, 2, 13, 19, 9, 20, 11, 0, 8, 21,...\n",
       "4     Krt8  [26, 17, 17, 4, 9, 32, 13, 23, 18, 15, 13, 15,..."
      ]
     },
     "execution_count": 10,
     "metadata": {},
     "output_type": "execute_result"
    }
   ],
   "source": [
    "dorc_by_cell = pd.DataFrame(dorc_by_cell)\n",
    "dorc_by_cell.head()"
   ]
  },
  {
   "cell_type": "code",
   "execution_count": 11,
   "metadata": {},
   "outputs": [],
   "source": [
    "dorc_by_cell.columns = ['gene', 'cell']\n",
    "dorc_by_cell.index = dorc_by_cell['gene']\n",
    "dorc_by_cell = dorc_by_cell[['cell']]"
   ]
  },
  {
   "cell_type": "markdown",
   "metadata": {},
   "source": [
    "# read in rna counts"
   ]
  },
  {
   "cell_type": "code",
   "execution_count": 12,
   "metadata": {
    "scrolled": true
   },
   "outputs": [],
   "source": [
    "rna_expression = sio.mmread('E:/scrnaseqscript/foxa1_data/h2_data/foxA1_rna_counts_H2.mtx')\n",
    "\n"
   ]
  },
  {
   "cell_type": "code",
   "execution_count": 13,
   "metadata": {},
   "outputs": [],
   "source": [
    "to_meta = pd.read_csv('E:/scrnaseqscript/foxa1_data/h2_data/H2_rna_features.tsv', sep = '\\t', header = 0)"
   ]
  },
  {
   "cell_type": "code",
   "execution_count": 14,
   "metadata": {
    "scrolled": false
   },
   "outputs": [
    {
     "data": {
      "text/html": [
       "<div>\n",
       "<style scoped>\n",
       "    .dataframe tbody tr th:only-of-type {\n",
       "        vertical-align: middle;\n",
       "    }\n",
       "\n",
       "    .dataframe tbody tr th {\n",
       "        vertical-align: top;\n",
       "    }\n",
       "\n",
       "    .dataframe thead th {\n",
       "        text-align: right;\n",
       "    }\n",
       "</style>\n",
       "<table border=\"1\" class=\"dataframe\">\n",
       "  <thead>\n",
       "    <tr style=\"text-align: right;\">\n",
       "      <th></th>\n",
       "      <th>x</th>\n",
       "    </tr>\n",
       "  </thead>\n",
       "  <tbody>\n",
       "    <tr>\n",
       "      <th>1</th>\n",
       "      <td>Xkr4</td>\n",
       "    </tr>\n",
       "    <tr>\n",
       "      <th>2</th>\n",
       "      <td>Mrpl15</td>\n",
       "    </tr>\n",
       "    <tr>\n",
       "      <th>3</th>\n",
       "      <td>Lypla1</td>\n",
       "    </tr>\n",
       "    <tr>\n",
       "      <th>4</th>\n",
       "      <td>Tcea1</td>\n",
       "    </tr>\n",
       "    <tr>\n",
       "      <th>5</th>\n",
       "      <td>Rgs20</td>\n",
       "    </tr>\n",
       "  </tbody>\n",
       "</table>\n",
       "</div>"
      ],
      "text/plain": [
       "        x\n",
       "1    Xkr4\n",
       "2  Mrpl15\n",
       "3  Lypla1\n",
       "4   Tcea1\n",
       "5   Rgs20"
      ]
     },
     "execution_count": 14,
     "metadata": {},
     "output_type": "execute_result"
    }
   ],
   "source": [
    "to_meta.head()"
   ]
  },
  {
   "cell_type": "code",
   "execution_count": 15,
   "metadata": {},
   "outputs": [
    {
     "data": {
      "text/plain": [
       "16446"
      ]
     },
     "execution_count": 15,
     "metadata": {},
     "output_type": "execute_result"
    }
   ],
   "source": [
    "len(to_meta)"
   ]
  },
  {
   "cell_type": "code",
   "execution_count": 16,
   "metadata": {},
   "outputs": [
    {
     "data": {
      "text/plain": [
       "3521"
      ]
     },
     "execution_count": 16,
     "metadata": {},
     "output_type": "execute_result"
    }
   ],
   "source": [
    "len(cell_idrna)"
   ]
  },
  {
   "cell_type": "code",
   "execution_count": 17,
   "metadata": {},
   "outputs": [],
   "source": [
    "to_meta.columns = ['gene']"
   ]
  },
  {
   "cell_type": "code",
   "execution_count": 18,
   "metadata": {},
   "outputs": [],
   "source": [
    "rna_expression.rows = to_meta['gene']\n",
    "rna_expression.columns = cell_idrna"
   ]
  },
  {
   "cell_type": "markdown",
   "metadata": {},
   "source": [
    "# Create dictionary for indexes of atac cells and rna cells in the dorc cell matrix"
   ]
  },
  {
   "cell_type": "code",
   "execution_count": 19,
   "metadata": {},
   "outputs": [],
   "source": [
    "todic = counts.columns\n",
    "todic = dict(todic)\n",
    "todic = {v: k for k, v in todic.items()}\n",
    "todic2 = dict(rna_expression.columns)\n",
    "\n",
    "todic2 = {v: k for k, v in todic2.items()}\n",
    "\n",
    "#dictionary of cells and their atac index\n",
    "atac_cells = todic\n",
    "#dictionary of cells and their rna index\n",
    "rna_cells = todic2"
   ]
  },
  {
   "cell_type": "markdown",
   "metadata": {},
   "source": [
    "# read in the topic knn"
   ]
  },
  {
   "cell_type": "code",
   "execution_count": 20,
   "metadata": {
    "scrolled": true
   },
   "outputs": [
    {
     "data": {
      "text/html": [
       "<div>\n",
       "<style scoped>\n",
       "    .dataframe tbody tr th:only-of-type {\n",
       "        vertical-align: middle;\n",
       "    }\n",
       "\n",
       "    .dataframe tbody tr th {\n",
       "        vertical-align: top;\n",
       "    }\n",
       "\n",
       "    .dataframe thead th {\n",
       "        text-align: right;\n",
       "    }\n",
       "</style>\n",
       "<table border=\"1\" class=\"dataframe\">\n",
       "  <thead>\n",
       "    <tr style=\"text-align: right;\">\n",
       "      <th></th>\n",
       "      <th>H2_multiome#ACCTTGCTCTTGTCCA-1</th>\n",
       "      <th>H2_multiome#CTACTAAAGACAGGTA-1</th>\n",
       "      <th>H2_multiome#GGACATAAGCGAGCGA-1</th>\n",
       "      <th>H2_multiome#CAACTAATCAATCATG-1</th>\n",
       "      <th>H2_multiome#ATTCATGAGCGGATAA-1</th>\n",
       "      <th>H2_multiome#ATTGGTTCATTAGCCA-1</th>\n",
       "      <th>H2_multiome#TCATGAGGTTAGCGTA-1</th>\n",
       "      <th>H2_multiome#TATAACCCATCTTGAG-1</th>\n",
       "      <th>H2_multiome#AGGAGCTAGCTACTGG-1</th>\n",
       "      <th>H2_multiome#ATCCGTGAGACTTACA-1</th>\n",
       "      <th>...</th>\n",
       "      <th>H2_multiome#AACCGCTCACTCAACA-1</th>\n",
       "      <th>H2_multiome#CTCCTAATCTACCTAT-1</th>\n",
       "      <th>H2_multiome#TTGGTGAGTTCATTTG-1</th>\n",
       "      <th>H2_multiome#CCTAAGCCATTCCTCG-1</th>\n",
       "      <th>H2_multiome#ACCAGGACACCTGGTG-1</th>\n",
       "      <th>H2_multiome#ATCCTCATCTTAGGAC-1</th>\n",
       "      <th>H2_multiome#TACTGAGGTCTAGCTT-1</th>\n",
       "      <th>H2_multiome#CTTTAGTTCGTTTCTG-1</th>\n",
       "      <th>H2_multiome#AAGCTTGGTTTACCGT-1</th>\n",
       "      <th>H2_multiome#GAGCTTAGTGGTTCCC-1</th>\n",
       "    </tr>\n",
       "  </thead>\n",
       "  <tbody>\n",
       "    <tr>\n",
       "      <th>Topic1</th>\n",
       "      <td>0.006659</td>\n",
       "      <td>0.009050</td>\n",
       "      <td>0.010735</td>\n",
       "      <td>0.009295</td>\n",
       "      <td>0.023565</td>\n",
       "      <td>0.000039</td>\n",
       "      <td>0.018717</td>\n",
       "      <td>0.024882</td>\n",
       "      <td>0.026413</td>\n",
       "      <td>0.025617</td>\n",
       "      <td>...</td>\n",
       "      <td>0.032947</td>\n",
       "      <td>0.027108</td>\n",
       "      <td>0.047781</td>\n",
       "      <td>0.040610</td>\n",
       "      <td>0.002503</td>\n",
       "      <td>0.005705</td>\n",
       "      <td>0.069680</td>\n",
       "      <td>0.018845</td>\n",
       "      <td>0.000714</td>\n",
       "      <td>0.038061</td>\n",
       "    </tr>\n",
       "    <tr>\n",
       "      <th>Topic2</th>\n",
       "      <td>0.012900</td>\n",
       "      <td>0.014235</td>\n",
       "      <td>0.019404</td>\n",
       "      <td>0.013930</td>\n",
       "      <td>0.021002</td>\n",
       "      <td>0.000372</td>\n",
       "      <td>0.016498</td>\n",
       "      <td>0.001633</td>\n",
       "      <td>0.004154</td>\n",
       "      <td>0.027107</td>\n",
       "      <td>...</td>\n",
       "      <td>0.017185</td>\n",
       "      <td>0.009244</td>\n",
       "      <td>0.009967</td>\n",
       "      <td>0.000511</td>\n",
       "      <td>0.009177</td>\n",
       "      <td>0.001701</td>\n",
       "      <td>0.020252</td>\n",
       "      <td>0.004031</td>\n",
       "      <td>0.003000</td>\n",
       "      <td>0.014924</td>\n",
       "    </tr>\n",
       "    <tr>\n",
       "      <th>Topic3</th>\n",
       "      <td>0.015606</td>\n",
       "      <td>0.019998</td>\n",
       "      <td>0.033047</td>\n",
       "      <td>0.020893</td>\n",
       "      <td>0.026886</td>\n",
       "      <td>0.048324</td>\n",
       "      <td>0.028907</td>\n",
       "      <td>0.031974</td>\n",
       "      <td>0.038643</td>\n",
       "      <td>0.040092</td>\n",
       "      <td>...</td>\n",
       "      <td>0.063157</td>\n",
       "      <td>0.019215</td>\n",
       "      <td>0.045725</td>\n",
       "      <td>0.024243</td>\n",
       "      <td>0.050334</td>\n",
       "      <td>0.040132</td>\n",
       "      <td>0.078833</td>\n",
       "      <td>0.042810</td>\n",
       "      <td>0.057857</td>\n",
       "      <td>0.057959</td>\n",
       "    </tr>\n",
       "    <tr>\n",
       "      <th>Topic4</th>\n",
       "      <td>0.024671</td>\n",
       "      <td>0.026210</td>\n",
       "      <td>0.024273</td>\n",
       "      <td>0.021265</td>\n",
       "      <td>0.003754</td>\n",
       "      <td>0.026890</td>\n",
       "      <td>0.007266</td>\n",
       "      <td>0.045835</td>\n",
       "      <td>0.037464</td>\n",
       "      <td>0.045654</td>\n",
       "      <td>...</td>\n",
       "      <td>0.009742</td>\n",
       "      <td>0.003843</td>\n",
       "      <td>0.011611</td>\n",
       "      <td>0.025471</td>\n",
       "      <td>0.018076</td>\n",
       "      <td>0.043735</td>\n",
       "      <td>0.002403</td>\n",
       "      <td>0.001416</td>\n",
       "      <td>0.004143</td>\n",
       "      <td>0.005206</td>\n",
       "    </tr>\n",
       "    <tr>\n",
       "      <th>Topic5</th>\n",
       "      <td>0.018242</td>\n",
       "      <td>0.016585</td>\n",
       "      <td>0.022015</td>\n",
       "      <td>0.016499</td>\n",
       "      <td>0.029282</td>\n",
       "      <td>0.029326</td>\n",
       "      <td>0.018415</td>\n",
       "      <td>0.026458</td>\n",
       "      <td>0.031490</td>\n",
       "      <td>0.014393</td>\n",
       "      <td>...</td>\n",
       "      <td>0.020687</td>\n",
       "      <td>0.015476</td>\n",
       "      <td>0.037916</td>\n",
       "      <td>0.004194</td>\n",
       "      <td>0.023637</td>\n",
       "      <td>0.019716</td>\n",
       "      <td>0.018421</td>\n",
       "      <td>0.007952</td>\n",
       "      <td>0.006429</td>\n",
       "      <td>0.047316</td>\n",
       "    </tr>\n",
       "  </tbody>\n",
       "</table>\n",
       "<p>5 rows × 3521 columns</p>\n",
       "</div>"
      ],
      "text/plain": [
       "        H2_multiome#ACCTTGCTCTTGTCCA-1  H2_multiome#CTACTAAAGACAGGTA-1  \\\n",
       "Topic1                        0.006659                        0.009050   \n",
       "Topic2                        0.012900                        0.014235   \n",
       "Topic3                        0.015606                        0.019998   \n",
       "Topic4                        0.024671                        0.026210   \n",
       "Topic5                        0.018242                        0.016585   \n",
       "\n",
       "        H2_multiome#GGACATAAGCGAGCGA-1  H2_multiome#CAACTAATCAATCATG-1  \\\n",
       "Topic1                        0.010735                        0.009295   \n",
       "Topic2                        0.019404                        0.013930   \n",
       "Topic3                        0.033047                        0.020893   \n",
       "Topic4                        0.024273                        0.021265   \n",
       "Topic5                        0.022015                        0.016499   \n",
       "\n",
       "        H2_multiome#ATTCATGAGCGGATAA-1  H2_multiome#ATTGGTTCATTAGCCA-1  \\\n",
       "Topic1                        0.023565                        0.000039   \n",
       "Topic2                        0.021002                        0.000372   \n",
       "Topic3                        0.026886                        0.048324   \n",
       "Topic4                        0.003754                        0.026890   \n",
       "Topic5                        0.029282                        0.029326   \n",
       "\n",
       "        H2_multiome#TCATGAGGTTAGCGTA-1  H2_multiome#TATAACCCATCTTGAG-1  \\\n",
       "Topic1                        0.018717                        0.024882   \n",
       "Topic2                        0.016498                        0.001633   \n",
       "Topic3                        0.028907                        0.031974   \n",
       "Topic4                        0.007266                        0.045835   \n",
       "Topic5                        0.018415                        0.026458   \n",
       "\n",
       "        H2_multiome#AGGAGCTAGCTACTGG-1  H2_multiome#ATCCGTGAGACTTACA-1  ...  \\\n",
       "Topic1                        0.026413                        0.025617  ...   \n",
       "Topic2                        0.004154                        0.027107  ...   \n",
       "Topic3                        0.038643                        0.040092  ...   \n",
       "Topic4                        0.037464                        0.045654  ...   \n",
       "Topic5                        0.031490                        0.014393  ...   \n",
       "\n",
       "        H2_multiome#AACCGCTCACTCAACA-1  H2_multiome#CTCCTAATCTACCTAT-1  \\\n",
       "Topic1                        0.032947                        0.027108   \n",
       "Topic2                        0.017185                        0.009244   \n",
       "Topic3                        0.063157                        0.019215   \n",
       "Topic4                        0.009742                        0.003843   \n",
       "Topic5                        0.020687                        0.015476   \n",
       "\n",
       "        H2_multiome#TTGGTGAGTTCATTTG-1  H2_multiome#CCTAAGCCATTCCTCG-1  \\\n",
       "Topic1                        0.047781                        0.040610   \n",
       "Topic2                        0.009967                        0.000511   \n",
       "Topic3                        0.045725                        0.024243   \n",
       "Topic4                        0.011611                        0.025471   \n",
       "Topic5                        0.037916                        0.004194   \n",
       "\n",
       "        H2_multiome#ACCAGGACACCTGGTG-1  H2_multiome#ATCCTCATCTTAGGAC-1  \\\n",
       "Topic1                        0.002503                        0.005705   \n",
       "Topic2                        0.009177                        0.001701   \n",
       "Topic3                        0.050334                        0.040132   \n",
       "Topic4                        0.018076                        0.043735   \n",
       "Topic5                        0.023637                        0.019716   \n",
       "\n",
       "        H2_multiome#TACTGAGGTCTAGCTT-1  H2_multiome#CTTTAGTTCGTTTCTG-1  \\\n",
       "Topic1                        0.069680                        0.018845   \n",
       "Topic2                        0.020252                        0.004031   \n",
       "Topic3                        0.078833                        0.042810   \n",
       "Topic4                        0.002403                        0.001416   \n",
       "Topic5                        0.018421                        0.007952   \n",
       "\n",
       "        H2_multiome#AAGCTTGGTTTACCGT-1  H2_multiome#GAGCTTAGTGGTTCCC-1  \n",
       "Topic1                        0.000714                        0.038061  \n",
       "Topic2                        0.003000                        0.014924  \n",
       "Topic3                        0.057857                        0.057959  \n",
       "Topic4                        0.004143                        0.005206  \n",
       "Topic5                        0.006429                        0.047316  \n",
       "\n",
       "[5 rows x 3521 columns]"
      ]
     },
     "execution_count": 20,
     "metadata": {},
     "output_type": "execute_result"
    }
   ],
   "source": [
    "topics = pd.read_csv('E:/scrnaseqscript/foxa1_data/h2_data/cisTopic40H2.tsv', delimiter = '\\t')\n",
    "topics.head()"
   ]
  },
  {
   "cell_type": "code",
   "execution_count": 21,
   "metadata": {},
   "outputs": [],
   "source": [
    "import sklearn.neighbors as sk\n",
    "topicknn = sk.kneighbors_graph(topics.transpose(), mode='connectivity', n_neighbors=50)"
   ]
  },
  {
   "cell_type": "code",
   "execution_count": 22,
   "metadata": {},
   "outputs": [],
   "source": [
    "topicknn.columns = cell_ids\n",
    "topicknn.rows = cell_ids\n"
   ]
  },
  {
   "cell_type": "code",
   "execution_count": 23,
   "metadata": {},
   "outputs": [
    {
     "data": {
      "text/plain": [
       "<3521x3521 sparse matrix of type '<class 'numpy.float64'>'\n",
       "\twith 176050 stored elements in Compressed Sparse Row format>"
      ]
     },
     "execution_count": 23,
     "metadata": {},
     "output_type": "execute_result"
    }
   ],
   "source": [
    "topicknn"
   ]
  },
  {
   "cell_type": "code",
   "execution_count": 24,
   "metadata": {},
   "outputs": [],
   "source": [
    "topicknn.rows = topicknn.rows.reset_index(drop = True)\n",
    "topicknn.columns = topicknn.columns.reset_index(drop = True)"
   ]
  },
  {
   "cell_type": "code",
   "execution_count": 25,
   "metadata": {},
   "outputs": [],
   "source": [
    "topicdict = {}\n",
    "for i in range(len(topicknn.rows)):\n",
    "    row = topicknn.tocsr()[i, :].toarray()\n",
    "    indexes = []\n",
    "    [indexes.append(j) for j in range(len(row[0])) if row[0][j] > 0]\n",
    "    topicdict[topicknn.rows[i]] = indexes"
   ]
  },
  {
   "cell_type": "markdown",
   "metadata": {},
   "source": [
    "# create rna x cell modified matrix"
   ]
  },
  {
   "cell_type": "code",
   "execution_count": 26,
   "metadata": {},
   "outputs": [
    {
     "data": {
      "text/plain": [
       "<16446x3521 sparse matrix of type '<class 'numpy.float64'>'\n",
       "\twith 14206915 stored elements in COOrdinate format>"
      ]
     },
     "execution_count": 26,
     "metadata": {},
     "output_type": "execute_result"
    }
   ],
   "source": [
    "rna_expression"
   ]
  },
  {
   "cell_type": "code",
   "execution_count": 27,
   "metadata": {},
   "outputs": [
    {
     "data": {
      "text/plain": [
       "16446"
      ]
     },
     "execution_count": 27,
     "metadata": {},
     "output_type": "execute_result"
    }
   ],
   "source": [
    "len(rna_expression.rows.to_list())"
   ]
  },
  {
   "cell_type": "code",
   "execution_count": 28,
   "metadata": {},
   "outputs": [],
   "source": [
    "rind = [j for j, e in enumerate(rna_expression.rows.tolist()) if e in dorc_by_cell.index.tolist()]"
   ]
  },
  {
   "cell_type": "code",
   "execution_count": 29,
   "metadata": {},
   "outputs": [],
   "source": [
    "#this difference should be very small or 0, else rind = [j + 1 ... "
   ]
  },
  {
   "cell_type": "code",
   "execution_count": 30,
   "metadata": {},
   "outputs": [
    {
     "data": {
      "text/plain": [
       "878"
      ]
     },
     "execution_count": 30,
     "metadata": {},
     "output_type": "execute_result"
    }
   ],
   "source": [
    "len(rind)"
   ]
  },
  {
   "cell_type": "code",
   "execution_count": 31,
   "metadata": {
    "scrolled": false
   },
   "outputs": [
    {
     "data": {
      "text/plain": [
       "set()"
      ]
     },
     "execution_count": 31,
     "metadata": {},
     "output_type": "execute_result"
    }
   ],
   "source": [
    "set(dorc_by_cell.index.tolist()).difference([rna_expression.rows.tolist()[i] for i in rind])"
   ]
  },
  {
   "cell_type": "code",
   "execution_count": 32,
   "metadata": {},
   "outputs": [],
   "source": [
    "dind = [j for j, e in enumerate(dorc_by_cell.index.tolist()) if e in rna_expression.rows.tolist()]"
   ]
  },
  {
   "cell_type": "code",
   "execution_count": 33,
   "metadata": {},
   "outputs": [],
   "source": [
    "#should be empty"
   ]
  },
  {
   "cell_type": "code",
   "execution_count": 34,
   "metadata": {
    "scrolled": true
   },
   "outputs": [
    {
     "data": {
      "text/plain": [
       "set()"
      ]
     },
     "execution_count": 34,
     "metadata": {},
     "output_type": "execute_result"
    }
   ],
   "source": [
    "set([dorc_by_cell.index.tolist()[i] for i in dind]).difference([rna_expression.rows.tolist()[i] for i in rind])"
   ]
  },
  {
   "cell_type": "code",
   "execution_count": 35,
   "metadata": {},
   "outputs": [],
   "source": [
    "dorc_by_cell = dorc_by_cell[dorc_by_cell.index.isin(set([dorc_by_cell.index.tolist()[i] for i in dind]))]"
   ]
  },
  {
   "cell_type": "code",
   "execution_count": 36,
   "metadata": {},
   "outputs": [],
   "source": [
    "\n",
    "rna_expression = rna_expression.tocsr()[rind, : ]\n",
    "rna_expression.columns = cell_idrna"
   ]
  },
  {
   "cell_type": "code",
   "execution_count": 37,
   "metadata": {},
   "outputs": [],
   "source": [
    "rna_expression.rows = [to_meta['gene'].tolist()[i] for i in rind]\n",
    "rna_by_cell = pd.DataFrame(rna_expression.todense())\n",
    "rna_by_cell = rna_by_cell.values.tolist()"
   ]
  },
  {
   "cell_type": "code",
   "execution_count": 38,
   "metadata": {
    "scrolled": false
   },
   "outputs": [
    {
     "data": {
      "text/html": [
       "<div>\n",
       "<style scoped>\n",
       "    .dataframe tbody tr th:only-of-type {\n",
       "        vertical-align: middle;\n",
       "    }\n",
       "\n",
       "    .dataframe tbody tr th {\n",
       "        vertical-align: top;\n",
       "    }\n",
       "\n",
       "    .dataframe thead th {\n",
       "        text-align: right;\n",
       "    }\n",
       "</style>\n",
       "<table border=\"1\" class=\"dataframe\">\n",
       "  <thead>\n",
       "    <tr style=\"text-align: right;\">\n",
       "      <th></th>\n",
       "      <th>cell</th>\n",
       "    </tr>\n",
       "    <tr>\n",
       "      <th>gene</th>\n",
       "      <th></th>\n",
       "    </tr>\n",
       "  </thead>\n",
       "  <tbody>\n",
       "    <tr>\n",
       "      <th>Rpl7</th>\n",
       "      <td>[0.0, 0.0, 3.970291913552122, 0.0, 0.0, 3.7376...</td>\n",
       "    </tr>\n",
       "    <tr>\n",
       "      <th>Neurl3</th>\n",
       "      <td>[0.0, 0.0, 0.0, 0.0, 0.0, 0.0, 0.0, 0.0, 0.0, ...</td>\n",
       "    </tr>\n",
       "    <tr>\n",
       "      <th>Ankrd39</th>\n",
       "      <td>[0.0, 0.0, 0.6931471805599453, 0.0, 0.0, 0.0, ...</td>\n",
       "    </tr>\n",
       "    <tr>\n",
       "      <th>Tmem131</th>\n",
       "      <td>[0.0, 0.0, 0.0, 0.0, 0.0, 0.6931471805599453, ...</td>\n",
       "    </tr>\n",
       "    <tr>\n",
       "      <th>Slc9a2</th>\n",
       "      <td>[0.0, 0.0, 0.0, 0.0, 0.0, 0.0, 0.0, 0.0, 0.0, ...</td>\n",
       "    </tr>\n",
       "  </tbody>\n",
       "</table>\n",
       "</div>"
      ],
      "text/plain": [
       "                                                      cell\n",
       "gene                                                      \n",
       "Rpl7     [0.0, 0.0, 3.970291913552122, 0.0, 0.0, 3.7376...\n",
       "Neurl3   [0.0, 0.0, 0.0, 0.0, 0.0, 0.0, 0.0, 0.0, 0.0, ...\n",
       "Ankrd39  [0.0, 0.0, 0.6931471805599453, 0.0, 0.0, 0.0, ...\n",
       "Tmem131  [0.0, 0.0, 0.0, 0.0, 0.0, 0.6931471805599453, ...\n",
       "Slc9a2   [0.0, 0.0, 0.0, 0.0, 0.0, 0.0, 0.0, 0.0, 0.0, ..."
      ]
     },
     "execution_count": 38,
     "metadata": {},
     "output_type": "execute_result"
    }
   ],
   "source": [
    "\n",
    "rna_by_cell2 = pd.DataFrame(rna_expression.rows)\n",
    "rna_by_cell2.columns = ['gene']\n",
    "rna_by_cell2 = rna_by_cell2.reset_index(drop=True)\n",
    "rna_by_cell2['cell'] = [i for i in rna_by_cell]\n",
    "rna_by_cell2.index = rna_by_cell2['gene']\n",
    "rna_by_cell2 = rna_by_cell2[['cell']]\n",
    "rna_by_cell2.head()"
   ]
  },
  {
   "cell_type": "code",
   "execution_count": 39,
   "metadata": {},
   "outputs": [],
   "source": [
    "#dorc_by_cell = pd.read_csv('dorc_by_cell.csv')"
   ]
  },
  {
   "cell_type": "code",
   "execution_count": 40,
   "metadata": {
    "scrolled": true
   },
   "outputs": [
    {
     "data": {
      "text/plain": [
       "set()"
      ]
     },
     "execution_count": 40,
     "metadata": {},
     "output_type": "execute_result"
    }
   ],
   "source": [
    "set(rna_by_cell2.index.tolist()).difference(set(dorc_by_cell.index.tolist()))"
   ]
  },
  {
   "cell_type": "code",
   "execution_count": 41,
   "metadata": {},
   "outputs": [
    {
     "data": {
      "text/plain": [
       "set()"
      ]
     },
     "execution_count": 41,
     "metadata": {},
     "output_type": "execute_result"
    }
   ],
   "source": [
    "set(dorc_by_cell.index.tolist()).difference(set(rna_by_cell2.index.tolist()))"
   ]
  },
  {
   "cell_type": "markdown",
   "metadata": {},
   "source": [
    "# smooth functions"
   ]
  },
  {
   "cell_type": "code",
   "execution_count": 42,
   "metadata": {},
   "outputs": [],
   "source": [
    "def Avg(array, knn):\n",
    "    toreturn = []\n",
    "    for i in range(len(array)):\n",
    "        val = topicknn.rows[i]\n",
    "        inds = knn.get(val)\n",
    "        total = int(array[i])\n",
    "        for num in inds:\n",
    "            total += array[num]\n",
    "        total = (total/(1 + len(inds)) )\n",
    "        toreturn.append(total)\n",
    "    return toreturn"
   ]
  },
  {
   "cell_type": "code",
   "execution_count": 43,
   "metadata": {},
   "outputs": [],
   "source": [
    "def smooth(dataframe, knn):\n",
    "    count = 0\n",
    "    #dataframe is a dorc x cell matrix or a rna x cell matrix\n",
    "    #make sure if rna x cell matrix, we only use the dorc rnas \n",
    "    print(len(dataframe.index))\n",
    "    newmat = []\n",
    "    for key, value in dataframe.iterrows():\n",
    "        rep = value[0]\n",
    "        newrep = Avg(rep, knn)\n",
    "        newmat.append((key, newrep))    \n",
    "        \n",
    "        #genename = key\n",
    "        #geneind2 = [j for j, e in enumerate(tempy) if i == e]\n",
    "        #corr = counts.tocsr()[geneind2, : ]\n",
    "        #corr = corr.toarray()\n",
    "        if count % 200 == 0:\n",
    "            print(len(newmat))\n",
    "        count += 1\n",
    "    return(newmat)"
   ]
  },
  {
   "cell_type": "markdown",
   "metadata": {},
   "source": [
    "# normalize our dorc matrix by peak counts - dont do this\n",
    "\n"
   ]
  },
  {
   "cell_type": "code",
   "execution_count": null,
   "metadata": {},
   "outputs": [],
   "source": [
    "#curr = [0 for i in range(len(dorc_by_cell.iloc[0][0]))]\n",
    "#for i in dorc_by_cell['cell']:\n",
    "#    zipped_lists = zip(i, curr)\n",
    "#    curr = [x + y for (x, y) in zipped_lists]"
   ]
  },
  {
   "cell_type": "code",
   "execution_count": null,
   "metadata": {},
   "outputs": [],
   "source": [
    "#d2 = []\n",
    "#for index, row in dorc_by_cell.iterrows():\n",
    "#    zipped_lists = zip(row['cell'], curr)\n",
    "#    tp = [np.log(((x / y)*10000)+1) for (x, y) in zipped_lists]\n",
    "#    d2.append(tp)\n",
    "\n",
    "#d2 = pd.Series(d2)\n",
    "#d2.index = dorc_by_cell.index\n",
    "#dorc_by_cell['cell'] = d2\n",
    "#dorc_by_cell = dorc_by_cell[['cell']]\n",
    "#dorc_by_cell.head()"
   ]
  },
  {
   "cell_type": "markdown",
   "metadata": {},
   "source": [
    "# smooth the dorc scores"
   ]
  },
  {
   "cell_type": "code",
   "execution_count": 44,
   "metadata": {},
   "outputs": [
    {
     "name": "stdout",
     "output_type": "stream",
     "text": [
      "878\n",
      "1\n",
      "201\n",
      "401\n",
      "601\n",
      "801\n"
     ]
    }
   ],
   "source": [
    "#smooth the dorc scores\n",
    "smoothed_dorc = smooth(dorc_by_cell, topicdict)\n",
    "#smooth the rna scores"
   ]
  },
  {
   "cell_type": "markdown",
   "metadata": {},
   "source": [
    "# smooth the rna scores"
   ]
  },
  {
   "cell_type": "code",
   "execution_count": 45,
   "metadata": {},
   "outputs": [
    {
     "name": "stdout",
     "output_type": "stream",
     "text": [
      "878\n",
      "1\n",
      "201\n",
      "401\n",
      "601\n",
      "801\n"
     ]
    }
   ],
   "source": [
    "smoothed_rna = smooth(rna_by_cell2, topicdict)"
   ]
  },
  {
   "cell_type": "markdown",
   "metadata": {},
   "source": [
    "# get dorc scores and rna in usable formats"
   ]
  },
  {
   "cell_type": "code",
   "execution_count": 46,
   "metadata": {},
   "outputs": [],
   "source": [
    "smoothed_rna = pd.DataFrame(smoothed_rna)\n",
    "smoothed_rna.columns = ['gene', 'cell']\n",
    "smoothed_dorc = pd.DataFrame(smoothed_dorc)\n",
    "smoothed_dorc.columns = ['gene', 'cell']\n",
    "revdorc = pd.DataFrame(cell_ids)"
   ]
  },
  {
   "cell_type": "code",
   "execution_count": 47,
   "metadata": {},
   "outputs": [],
   "source": [
    "#was trying with more identified dorcs >= 10"
   ]
  },
  {
   "cell_type": "code",
   "execution_count": 48,
   "metadata": {
    "scrolled": false
   },
   "outputs": [],
   "source": [
    "matsmoothvals = smoothed_dorc.cell.apply(pd.Series)"
   ]
  },
  {
   "cell_type": "code",
   "execution_count": 49,
   "metadata": {},
   "outputs": [],
   "source": [
    "matsmoothvals.index = dorc_by_cell.index\n",
    "matsmoothvals = matsmoothvals.reindex(dorc_by_cell.index)"
   ]
  },
  {
   "cell_type": "code",
   "execution_count": 50,
   "metadata": {
    "scrolled": true
   },
   "outputs": [
    {
     "data": {
      "text/html": [
       "<div>\n",
       "<style scoped>\n",
       "    .dataframe tbody tr th:only-of-type {\n",
       "        vertical-align: middle;\n",
       "    }\n",
       "\n",
       "    .dataframe tbody tr th {\n",
       "        vertical-align: top;\n",
       "    }\n",
       "\n",
       "    .dataframe thead th {\n",
       "        text-align: right;\n",
       "    }\n",
       "</style>\n",
       "<table border=\"1\" class=\"dataframe\">\n",
       "  <thead>\n",
       "    <tr style=\"text-align: right;\">\n",
       "      <th></th>\n",
       "      <th>0</th>\n",
       "      <th>1</th>\n",
       "      <th>2</th>\n",
       "      <th>3</th>\n",
       "      <th>4</th>\n",
       "      <th>5</th>\n",
       "      <th>6</th>\n",
       "      <th>7</th>\n",
       "      <th>8</th>\n",
       "      <th>9</th>\n",
       "      <th>...</th>\n",
       "      <th>3511</th>\n",
       "      <th>3512</th>\n",
       "      <th>3513</th>\n",
       "      <th>3514</th>\n",
       "      <th>3515</th>\n",
       "      <th>3516</th>\n",
       "      <th>3517</th>\n",
       "      <th>3518</th>\n",
       "      <th>3519</th>\n",
       "      <th>3520</th>\n",
       "    </tr>\n",
       "    <tr>\n",
       "      <th>gene</th>\n",
       "      <th></th>\n",
       "      <th></th>\n",
       "      <th></th>\n",
       "      <th></th>\n",
       "      <th></th>\n",
       "      <th></th>\n",
       "      <th></th>\n",
       "      <th></th>\n",
       "      <th></th>\n",
       "      <th></th>\n",
       "      <th></th>\n",
       "      <th></th>\n",
       "      <th></th>\n",
       "      <th></th>\n",
       "      <th></th>\n",
       "      <th></th>\n",
       "      <th></th>\n",
       "      <th></th>\n",
       "      <th></th>\n",
       "      <th></th>\n",
       "      <th></th>\n",
       "    </tr>\n",
       "  </thead>\n",
       "  <tbody>\n",
       "    <tr>\n",
       "      <th>Fam71a</th>\n",
       "      <td>11.274510</td>\n",
       "      <td>11.803922</td>\n",
       "      <td>15.078431</td>\n",
       "      <td>10.686275</td>\n",
       "      <td>12.960784</td>\n",
       "      <td>14.607843</td>\n",
       "      <td>11.549020</td>\n",
       "      <td>20.019608</td>\n",
       "      <td>18.803922</td>\n",
       "      <td>15.117647</td>\n",
       "      <td>...</td>\n",
       "      <td>11.549020</td>\n",
       "      <td>5.980392</td>\n",
       "      <td>9.333333</td>\n",
       "      <td>6.235294</td>\n",
       "      <td>7.764706</td>\n",
       "      <td>5.764706</td>\n",
       "      <td>6.823529</td>\n",
       "      <td>2.274510</td>\n",
       "      <td>2.098039</td>\n",
       "      <td>6.196078</td>\n",
       "    </tr>\n",
       "    <tr>\n",
       "      <th>Krt16</th>\n",
       "      <td>20.098039</td>\n",
       "      <td>21.137255</td>\n",
       "      <td>30.431373</td>\n",
       "      <td>20.196078</td>\n",
       "      <td>20.098039</td>\n",
       "      <td>31.372549</td>\n",
       "      <td>22.039216</td>\n",
       "      <td>42.941176</td>\n",
       "      <td>41.901961</td>\n",
       "      <td>38.490196</td>\n",
       "      <td>...</td>\n",
       "      <td>12.627451</td>\n",
       "      <td>12.980392</td>\n",
       "      <td>10.921569</td>\n",
       "      <td>14.117647</td>\n",
       "      <td>13.803922</td>\n",
       "      <td>17.352941</td>\n",
       "      <td>4.450980</td>\n",
       "      <td>2.333333</td>\n",
       "      <td>2.882353</td>\n",
       "      <td>5.117647</td>\n",
       "    </tr>\n",
       "    <tr>\n",
       "      <th>Mybbp1a</th>\n",
       "      <td>8.078431</td>\n",
       "      <td>8.333333</td>\n",
       "      <td>13.666667</td>\n",
       "      <td>8.117647</td>\n",
       "      <td>8.254902</td>\n",
       "      <td>10.686275</td>\n",
       "      <td>8.411765</td>\n",
       "      <td>18.098039</td>\n",
       "      <td>16.098039</td>\n",
       "      <td>16.549020</td>\n",
       "      <td>...</td>\n",
       "      <td>6.901961</td>\n",
       "      <td>5.333333</td>\n",
       "      <td>4.333333</td>\n",
       "      <td>5.411765</td>\n",
       "      <td>5.647059</td>\n",
       "      <td>5.862745</td>\n",
       "      <td>3.352941</td>\n",
       "      <td>0.784314</td>\n",
       "      <td>0.784314</td>\n",
       "      <td>3.235294</td>\n",
       "    </tr>\n",
       "    <tr>\n",
       "      <th>Brf2</th>\n",
       "      <td>6.431373</td>\n",
       "      <td>6.745098</td>\n",
       "      <td>8.980392</td>\n",
       "      <td>6.274510</td>\n",
       "      <td>7.666667</td>\n",
       "      <td>7.627451</td>\n",
       "      <td>6.745098</td>\n",
       "      <td>9.843137</td>\n",
       "      <td>9.078431</td>\n",
       "      <td>8.078431</td>\n",
       "      <td>...</td>\n",
       "      <td>5.529412</td>\n",
       "      <td>3.882353</td>\n",
       "      <td>5.960784</td>\n",
       "      <td>3.823529</td>\n",
       "      <td>4.568627</td>\n",
       "      <td>2.705882</td>\n",
       "      <td>3.274510</td>\n",
       "      <td>0.686275</td>\n",
       "      <td>0.509804</td>\n",
       "      <td>4.196078</td>\n",
       "    </tr>\n",
       "    <tr>\n",
       "      <th>Krt8</th>\n",
       "      <td>8.058824</td>\n",
       "      <td>8.137255</td>\n",
       "      <td>13.725490</td>\n",
       "      <td>7.921569</td>\n",
       "      <td>8.843137</td>\n",
       "      <td>11.058824</td>\n",
       "      <td>8.647059</td>\n",
       "      <td>11.078431</td>\n",
       "      <td>12.607843</td>\n",
       "      <td>12.235294</td>\n",
       "      <td>...</td>\n",
       "      <td>7.039216</td>\n",
       "      <td>3.196078</td>\n",
       "      <td>5.000000</td>\n",
       "      <td>4.039216</td>\n",
       "      <td>5.921569</td>\n",
       "      <td>3.372549</td>\n",
       "      <td>4.313725</td>\n",
       "      <td>1.627451</td>\n",
       "      <td>2.196078</td>\n",
       "      <td>4.313725</td>\n",
       "    </tr>\n",
       "  </tbody>\n",
       "</table>\n",
       "<p>5 rows × 3521 columns</p>\n",
       "</div>"
      ],
      "text/plain": [
       "              0          1          2          3          4          5     \\\n",
       "gene                                                                        \n",
       "Fam71a   11.274510  11.803922  15.078431  10.686275  12.960784  14.607843   \n",
       "Krt16    20.098039  21.137255  30.431373  20.196078  20.098039  31.372549   \n",
       "Mybbp1a   8.078431   8.333333  13.666667   8.117647   8.254902  10.686275   \n",
       "Brf2      6.431373   6.745098   8.980392   6.274510   7.666667   7.627451   \n",
       "Krt8      8.058824   8.137255  13.725490   7.921569   8.843137  11.058824   \n",
       "\n",
       "              6          7          8          9     ...       3511  \\\n",
       "gene                                                 ...              \n",
       "Fam71a   11.549020  20.019608  18.803922  15.117647  ...  11.549020   \n",
       "Krt16    22.039216  42.941176  41.901961  38.490196  ...  12.627451   \n",
       "Mybbp1a   8.411765  18.098039  16.098039  16.549020  ...   6.901961   \n",
       "Brf2      6.745098   9.843137   9.078431   8.078431  ...   5.529412   \n",
       "Krt8      8.647059  11.078431  12.607843  12.235294  ...   7.039216   \n",
       "\n",
       "              3512       3513       3514       3515       3516      3517  \\\n",
       "gene                                                                       \n",
       "Fam71a    5.980392   9.333333   6.235294   7.764706   5.764706  6.823529   \n",
       "Krt16    12.980392  10.921569  14.117647  13.803922  17.352941  4.450980   \n",
       "Mybbp1a   5.333333   4.333333   5.411765   5.647059   5.862745  3.352941   \n",
       "Brf2      3.882353   5.960784   3.823529   4.568627   2.705882  3.274510   \n",
       "Krt8      3.196078   5.000000   4.039216   5.921569   3.372549  4.313725   \n",
       "\n",
       "             3518      3519      3520  \n",
       "gene                                   \n",
       "Fam71a   2.274510  2.098039  6.196078  \n",
       "Krt16    2.333333  2.882353  5.117647  \n",
       "Mybbp1a  0.784314  0.784314  3.235294  \n",
       "Brf2     0.686275  0.509804  4.196078  \n",
       "Krt8     1.627451  2.196078  4.313725  \n",
       "\n",
       "[5 rows x 3521 columns]"
      ]
     },
     "execution_count": 50,
     "metadata": {},
     "output_type": "execute_result"
    }
   ],
   "source": [
    "matsmoothvals.head()"
   ]
  },
  {
   "cell_type": "code",
   "execution_count": 52,
   "metadata": {},
   "outputs": [],
   "source": [
    "matsmoothvals.to_csv('E:/scrnaseqscript/foxa1_data/h2_data/smoothed_dorc_table_H2_700.csv')"
   ]
  },
  {
   "cell_type": "code",
   "execution_count": 53,
   "metadata": {},
   "outputs": [],
   "source": [
    "matsmoothvals = smoothed_rna.cell.apply(pd.Series)"
   ]
  },
  {
   "cell_type": "code",
   "execution_count": 54,
   "metadata": {
    "scrolled": true
   },
   "outputs": [],
   "source": [
    "matsmoothvals.index = rna_by_cell2.index\n",
    "matsmoothvals = matsmoothvals.reindex(rna_by_cell2.index)"
   ]
  },
  {
   "cell_type": "code",
   "execution_count": 55,
   "metadata": {},
   "outputs": [
    {
     "data": {
      "text/html": [
       "<div>\n",
       "<style scoped>\n",
       "    .dataframe tbody tr th:only-of-type {\n",
       "        vertical-align: middle;\n",
       "    }\n",
       "\n",
       "    .dataframe tbody tr th {\n",
       "        vertical-align: top;\n",
       "    }\n",
       "\n",
       "    .dataframe thead th {\n",
       "        text-align: right;\n",
       "    }\n",
       "</style>\n",
       "<table border=\"1\" class=\"dataframe\">\n",
       "  <thead>\n",
       "    <tr style=\"text-align: right;\">\n",
       "      <th></th>\n",
       "      <th>0</th>\n",
       "      <th>1</th>\n",
       "      <th>2</th>\n",
       "      <th>3</th>\n",
       "      <th>4</th>\n",
       "      <th>5</th>\n",
       "      <th>6</th>\n",
       "      <th>7</th>\n",
       "      <th>8</th>\n",
       "      <th>9</th>\n",
       "      <th>...</th>\n",
       "      <th>3511</th>\n",
       "      <th>3512</th>\n",
       "      <th>3513</th>\n",
       "      <th>3514</th>\n",
       "      <th>3515</th>\n",
       "      <th>3516</th>\n",
       "      <th>3517</th>\n",
       "      <th>3518</th>\n",
       "      <th>3519</th>\n",
       "      <th>3520</th>\n",
       "    </tr>\n",
       "    <tr>\n",
       "      <th>gene</th>\n",
       "      <th></th>\n",
       "      <th></th>\n",
       "      <th></th>\n",
       "      <th></th>\n",
       "      <th></th>\n",
       "      <th></th>\n",
       "      <th></th>\n",
       "      <th></th>\n",
       "      <th></th>\n",
       "      <th></th>\n",
       "      <th></th>\n",
       "      <th></th>\n",
       "      <th></th>\n",
       "      <th></th>\n",
       "      <th></th>\n",
       "      <th></th>\n",
       "      <th></th>\n",
       "      <th></th>\n",
       "      <th></th>\n",
       "      <th></th>\n",
       "      <th></th>\n",
       "    </tr>\n",
       "  </thead>\n",
       "  <tbody>\n",
       "    <tr>\n",
       "      <th>Rpl7</th>\n",
       "      <td>2.935687</td>\n",
       "      <td>3.010328</td>\n",
       "      <td>3.218136</td>\n",
       "      <td>3.001809</td>\n",
       "      <td>3.037858</td>\n",
       "      <td>3.677103</td>\n",
       "      <td>3.198629</td>\n",
       "      <td>3.597739</td>\n",
       "      <td>3.627663</td>\n",
       "      <td>3.769155</td>\n",
       "      <td>...</td>\n",
       "      <td>3.582980</td>\n",
       "      <td>3.542646</td>\n",
       "      <td>3.504519</td>\n",
       "      <td>3.596495</td>\n",
       "      <td>2.621617</td>\n",
       "      <td>3.649016</td>\n",
       "      <td>3.695713</td>\n",
       "      <td>3.778133</td>\n",
       "      <td>3.872427</td>\n",
       "      <td>3.860735</td>\n",
       "    </tr>\n",
       "    <tr>\n",
       "      <th>Neurl3</th>\n",
       "      <td>0.013591</td>\n",
       "      <td>0.013591</td>\n",
       "      <td>0.013591</td>\n",
       "      <td>0.013591</td>\n",
       "      <td>0.013591</td>\n",
       "      <td>0.013591</td>\n",
       "      <td>0.013591</td>\n",
       "      <td>0.000000</td>\n",
       "      <td>0.000000</td>\n",
       "      <td>0.000000</td>\n",
       "      <td>...</td>\n",
       "      <td>0.000000</td>\n",
       "      <td>0.000000</td>\n",
       "      <td>0.000000</td>\n",
       "      <td>0.000000</td>\n",
       "      <td>0.013591</td>\n",
       "      <td>0.000000</td>\n",
       "      <td>0.000000</td>\n",
       "      <td>0.000000</td>\n",
       "      <td>0.000000</td>\n",
       "      <td>0.013591</td>\n",
       "    </tr>\n",
       "    <tr>\n",
       "      <th>Ankrd39</th>\n",
       "      <td>0.122320</td>\n",
       "      <td>0.135911</td>\n",
       "      <td>0.135911</td>\n",
       "      <td>0.122320</td>\n",
       "      <td>0.122320</td>\n",
       "      <td>0.135911</td>\n",
       "      <td>0.108729</td>\n",
       "      <td>0.135911</td>\n",
       "      <td>0.143862</td>\n",
       "      <td>0.184635</td>\n",
       "      <td>...</td>\n",
       "      <td>0.203867</td>\n",
       "      <td>0.233359</td>\n",
       "      <td>0.097447</td>\n",
       "      <td>0.200535</td>\n",
       "      <td>0.122320</td>\n",
       "      <td>0.151812</td>\n",
       "      <td>0.122320</td>\n",
       "      <td>0.054364</td>\n",
       "      <td>0.075906</td>\n",
       "      <td>0.135911</td>\n",
       "    </tr>\n",
       "    <tr>\n",
       "      <th>Tmem131</th>\n",
       "      <td>0.639048</td>\n",
       "      <td>0.652640</td>\n",
       "      <td>0.508534</td>\n",
       "      <td>0.646999</td>\n",
       "      <td>0.655971</td>\n",
       "      <td>0.746755</td>\n",
       "      <td>0.626855</td>\n",
       "      <td>0.829235</td>\n",
       "      <td>0.714865</td>\n",
       "      <td>0.550352</td>\n",
       "      <td>...</td>\n",
       "      <td>0.454883</td>\n",
       "      <td>0.705522</td>\n",
       "      <td>0.595413</td>\n",
       "      <td>0.563721</td>\n",
       "      <td>0.551861</td>\n",
       "      <td>0.713512</td>\n",
       "      <td>0.460054</td>\n",
       "      <td>0.614954</td>\n",
       "      <td>0.574181</td>\n",
       "      <td>0.352480</td>\n",
       "    </tr>\n",
       "    <tr>\n",
       "      <th>Slc9a2</th>\n",
       "      <td>0.000000</td>\n",
       "      <td>0.000000</td>\n",
       "      <td>0.013591</td>\n",
       "      <td>0.000000</td>\n",
       "      <td>0.000000</td>\n",
       "      <td>0.000000</td>\n",
       "      <td>0.000000</td>\n",
       "      <td>0.013591</td>\n",
       "      <td>0.000000</td>\n",
       "      <td>0.000000</td>\n",
       "      <td>...</td>\n",
       "      <td>0.000000</td>\n",
       "      <td>0.000000</td>\n",
       "      <td>0.000000</td>\n",
       "      <td>0.000000</td>\n",
       "      <td>0.000000</td>\n",
       "      <td>0.000000</td>\n",
       "      <td>0.013591</td>\n",
       "      <td>0.000000</td>\n",
       "      <td>0.000000</td>\n",
       "      <td>0.000000</td>\n",
       "    </tr>\n",
       "  </tbody>\n",
       "</table>\n",
       "<p>5 rows × 3521 columns</p>\n",
       "</div>"
      ],
      "text/plain": [
       "             0         1         2         3         4         5         6     \\\n",
       "gene                                                                            \n",
       "Rpl7     2.935687  3.010328  3.218136  3.001809  3.037858  3.677103  3.198629   \n",
       "Neurl3   0.013591  0.013591  0.013591  0.013591  0.013591  0.013591  0.013591   \n",
       "Ankrd39  0.122320  0.135911  0.135911  0.122320  0.122320  0.135911  0.108729   \n",
       "Tmem131  0.639048  0.652640  0.508534  0.646999  0.655971  0.746755  0.626855   \n",
       "Slc9a2   0.000000  0.000000  0.013591  0.000000  0.000000  0.000000  0.000000   \n",
       "\n",
       "             7         8         9     ...      3511      3512      3513  \\\n",
       "gene                                   ...                                 \n",
       "Rpl7     3.597739  3.627663  3.769155  ...  3.582980  3.542646  3.504519   \n",
       "Neurl3   0.000000  0.000000  0.000000  ...  0.000000  0.000000  0.000000   \n",
       "Ankrd39  0.135911  0.143862  0.184635  ...  0.203867  0.233359  0.097447   \n",
       "Tmem131  0.829235  0.714865  0.550352  ...  0.454883  0.705522  0.595413   \n",
       "Slc9a2   0.013591  0.000000  0.000000  ...  0.000000  0.000000  0.000000   \n",
       "\n",
       "             3514      3515      3516      3517      3518      3519      3520  \n",
       "gene                                                                           \n",
       "Rpl7     3.596495  2.621617  3.649016  3.695713  3.778133  3.872427  3.860735  \n",
       "Neurl3   0.000000  0.013591  0.000000  0.000000  0.000000  0.000000  0.013591  \n",
       "Ankrd39  0.200535  0.122320  0.151812  0.122320  0.054364  0.075906  0.135911  \n",
       "Tmem131  0.563721  0.551861  0.713512  0.460054  0.614954  0.574181  0.352480  \n",
       "Slc9a2   0.000000  0.000000  0.000000  0.013591  0.000000  0.000000  0.000000  \n",
       "\n",
       "[5 rows x 3521 columns]"
      ]
     },
     "execution_count": 55,
     "metadata": {},
     "output_type": "execute_result"
    }
   ],
   "source": [
    "matsmoothvals.head()"
   ]
  },
  {
   "cell_type": "code",
   "execution_count": 56,
   "metadata": {},
   "outputs": [],
   "source": [
    "matsmoothvals.to_csv('E:/scrnaseqscript/foxa1_data/h2_data/smoothed_rna_table_H2_700.csv')"
   ]
  },
  {
   "cell_type": "code",
   "execution_count": 57,
   "metadata": {},
   "outputs": [],
   "source": [
    "cell_ids.to_csv('E:/scrnaseqscript/foxa1_data/h2_data/smoothed_dorc_columns_H2_700.csv', header = False)"
   ]
  }
 ],
 "metadata": {
  "kernelspec": {
   "display_name": "Python 3",
   "language": "python",
   "name": "python3"
  },
  "language_info": {
   "codemirror_mode": {
    "name": "ipython",
    "version": 3
   },
   "file_extension": ".py",
   "mimetype": "text/x-python",
   "name": "python",
   "nbconvert_exporter": "python",
   "pygments_lexer": "ipython3",
   "version": "3.7.4"
  }
 },
 "nbformat": 4,
 "nbformat_minor": 2
}
