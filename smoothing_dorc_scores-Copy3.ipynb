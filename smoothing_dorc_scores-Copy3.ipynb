{
 "cells": [
  {
   "cell_type": "code",
   "execution_count": 271,
   "metadata": {},
   "outputs": [],
   "source": [
    "import pandas as pd\n",
    "import numpy as np\n",
    "import scipy.io as sio\n",
    "from scipy import stats"
   ]
  },
  {
   "cell_type": "markdown",
   "metadata": {},
   "source": [
    "# Read in dorcs \n"
   ]
  },
  {
   "cell_type": "code",
   "execution_count": 272,
   "metadata": {},
   "outputs": [],
   "source": [
    "dorcs= pd.read_csv(\"1-s2.0-S0092867420312538-mmc4.csv\", sep = \",\")"
   ]
  },
  {
   "cell_type": "code",
   "execution_count": 273,
   "metadata": {},
   "outputs": [],
   "source": [
    "chroms = [i.split('_')[0] for i in dorcs['peak']]"
   ]
  },
  {
   "cell_type": "code",
   "execution_count": 274,
   "metadata": {},
   "outputs": [],
   "source": [
    "dorcs['Chr'] = chroms"
   ]
  },
  {
   "cell_type": "code",
   "execution_count": 275,
   "metadata": {},
   "outputs": [],
   "source": [
    "x = dorcs['Gene'].value_counts(dropna=True)\n",
    "y = dorcs['Gene'].value_counts(dropna=True).index\n",
    "dorclist = []\n",
    "dorcnums = []\n",
    "z = x.index\n",
    "for i in range(len(x)):\n",
    "    if x[i] > 10:\n",
    "        dorclist.append(z[i])\n",
    "        dorcnums.append(x[i])\n",
    "dorcs[\"region\"] = dorcs['Chr'] + \"_\" + (dorcs[\"Start\"].astype(int) + 1).astype(str) + \"_\" + dorcs[\"End\"].astype(str)\n",
    "#dorclist"
   ]
  },
  {
   "cell_type": "markdown",
   "metadata": {},
   "source": [
    "# Read in counts of atac peaks: Normalize the peak matrix - log normalize using lognormalize functon in r before loading in ^^^"
   ]
  },
  {
   "cell_type": "code",
   "execution_count": 278,
   "metadata": {
    "scrolled": true
   },
   "outputs": [],
   "source": [
    "#reading in the cell by peak matrix\n",
    "peaks = pd.read_csv(\"GSM4156597_skin.late.anagen.peaks.bed\", sep= \"\\t\", header = None)\n",
    "peaks.columns = [\"chr\", \"start\", \"end\"]\n",
    "peaks[\"start\"] = peaks[\"start\"] + 1\n",
    "peaks[\"region\"] = peaks[\"start\"].astype(str) + \"_\" + peaks[\"end\"].astype(str)\n",
    "peaks[\"total\"] = peaks[\"chr\"].astype(str) + \"_\" + peaks[\"region\"].astype(str)\n"
   ]
  },
  {
   "cell_type": "code",
   "execution_count": 279,
   "metadata": {},
   "outputs": [],
   "source": [
    "counts = sio.mmread(\"GSM4156597_skin.late.anagen.counts.txt\")\n",
    "cell_ids = pd.read_csv(\"GSM4156597_skin_celltype.txt\", header = 0, sep = \"\\t\")\n",
    "cell_idrna = cell_ids['rna.bc']\n",
    "cell_ids =cell_ids['atac.bc']\n"
   ]
  },
  {
   "cell_type": "code",
   "execution_count": 199,
   "metadata": {},
   "outputs": [
    {
     "ename": "KeyError",
     "evalue": "'x'",
     "output_type": "error",
     "traceback": [
      "\u001b[0;31m---------------------------------------------------------------------------\u001b[0m",
      "\u001b[0;31mKeyError\u001b[0m                                  Traceback (most recent call last)",
      "\u001b[0;32m<ipython-input-199-f4ea0980b1de>\u001b[0m in \u001b[0;36m<module>\u001b[0;34m\u001b[0m\n\u001b[0;32m----> 1\u001b[0;31m \u001b[0mcell_ids\u001b[0m \u001b[0;34m=\u001b[0m \u001b[0mcell_ids\u001b[0m\u001b[0;34m[\u001b[0m\u001b[0;34m'x'\u001b[0m\u001b[0;34m]\u001b[0m\u001b[0;34m\u001b[0m\u001b[0;34m\u001b[0m\u001b[0m\n\u001b[0m\u001b[1;32m      2\u001b[0m \u001b[0mcell_idrna\u001b[0m \u001b[0;34m=\u001b[0m \u001b[0mcell_idrna\u001b[0m\u001b[0;34m[\u001b[0m\u001b[0;34m'x'\u001b[0m\u001b[0;34m]\u001b[0m\u001b[0;34m\u001b[0m\u001b[0;34m\u001b[0m\u001b[0m\n\u001b[1;32m      3\u001b[0m \u001b[0;31m#cell_idrna = cell_ids['rna.bc']\u001b[0m\u001b[0;34m\u001b[0m\u001b[0;34m\u001b[0m\u001b[0;34m\u001b[0m\u001b[0m\n\u001b[1;32m      4\u001b[0m \u001b[0;31m#cell_ids = cell_ids['atac.bc']\u001b[0m\u001b[0;34m\u001b[0m\u001b[0;34m\u001b[0m\u001b[0;34m\u001b[0m\u001b[0m\n\u001b[1;32m      5\u001b[0m \u001b[0;31m#bedfile <- data(counts, package = \"chromVAR\")\u001b[0m\u001b[0;34m\u001b[0m\u001b[0;34m\u001b[0m\u001b[0;34m\u001b[0m\u001b[0m\n",
      "\u001b[0;32m/Users/wongw5/anaconda3/lib/python3.7/site-packages/pandas/core/series.py\u001b[0m in \u001b[0;36m__getitem__\u001b[0;34m(self, key)\u001b[0m\n\u001b[1;32m    866\u001b[0m         \u001b[0mkey\u001b[0m \u001b[0;34m=\u001b[0m \u001b[0mcom\u001b[0m\u001b[0;34m.\u001b[0m\u001b[0mapply_if_callable\u001b[0m\u001b[0;34m(\u001b[0m\u001b[0mkey\u001b[0m\u001b[0;34m,\u001b[0m \u001b[0mself\u001b[0m\u001b[0;34m)\u001b[0m\u001b[0;34m\u001b[0m\u001b[0;34m\u001b[0m\u001b[0m\n\u001b[1;32m    867\u001b[0m         \u001b[0;32mtry\u001b[0m\u001b[0;34m:\u001b[0m\u001b[0;34m\u001b[0m\u001b[0;34m\u001b[0m\u001b[0m\n\u001b[0;32m--> 868\u001b[0;31m             \u001b[0mresult\u001b[0m \u001b[0;34m=\u001b[0m \u001b[0mself\u001b[0m\u001b[0;34m.\u001b[0m\u001b[0mindex\u001b[0m\u001b[0;34m.\u001b[0m\u001b[0mget_value\u001b[0m\u001b[0;34m(\u001b[0m\u001b[0mself\u001b[0m\u001b[0;34m,\u001b[0m \u001b[0mkey\u001b[0m\u001b[0;34m)\u001b[0m\u001b[0;34m\u001b[0m\u001b[0;34m\u001b[0m\u001b[0m\n\u001b[0m\u001b[1;32m    869\u001b[0m \u001b[0;34m\u001b[0m\u001b[0m\n\u001b[1;32m    870\u001b[0m             \u001b[0;32mif\u001b[0m \u001b[0;32mnot\u001b[0m \u001b[0mis_scalar\u001b[0m\u001b[0;34m(\u001b[0m\u001b[0mresult\u001b[0m\u001b[0;34m)\u001b[0m\u001b[0;34m:\u001b[0m\u001b[0;34m\u001b[0m\u001b[0;34m\u001b[0m\u001b[0m\n",
      "\u001b[0;32m/Users/wongw5/anaconda3/lib/python3.7/site-packages/pandas/core/indexes/base.py\u001b[0m in \u001b[0;36mget_value\u001b[0;34m(self, series, key)\u001b[0m\n\u001b[1;32m   4373\u001b[0m         \u001b[0;32mtry\u001b[0m\u001b[0;34m:\u001b[0m\u001b[0;34m\u001b[0m\u001b[0;34m\u001b[0m\u001b[0m\n\u001b[1;32m   4374\u001b[0m             return self._engine.get_value(s, k,\n\u001b[0;32m-> 4375\u001b[0;31m                                           tz=getattr(series.dtype, 'tz', None))\n\u001b[0m\u001b[1;32m   4376\u001b[0m         \u001b[0;32mexcept\u001b[0m \u001b[0mKeyError\u001b[0m \u001b[0;32mas\u001b[0m \u001b[0me1\u001b[0m\u001b[0;34m:\u001b[0m\u001b[0;34m\u001b[0m\u001b[0;34m\u001b[0m\u001b[0m\n\u001b[1;32m   4377\u001b[0m             \u001b[0;32mif\u001b[0m \u001b[0mlen\u001b[0m\u001b[0;34m(\u001b[0m\u001b[0mself\u001b[0m\u001b[0;34m)\u001b[0m \u001b[0;34m>\u001b[0m \u001b[0;36m0\u001b[0m \u001b[0;32mand\u001b[0m \u001b[0;34m(\u001b[0m\u001b[0mself\u001b[0m\u001b[0;34m.\u001b[0m\u001b[0mholds_integer\u001b[0m\u001b[0;34m(\u001b[0m\u001b[0;34m)\u001b[0m \u001b[0;32mor\u001b[0m \u001b[0mself\u001b[0m\u001b[0;34m.\u001b[0m\u001b[0mis_boolean\u001b[0m\u001b[0;34m(\u001b[0m\u001b[0;34m)\u001b[0m\u001b[0;34m)\u001b[0m\u001b[0;34m:\u001b[0m\u001b[0;34m\u001b[0m\u001b[0;34m\u001b[0m\u001b[0m\n",
      "\u001b[0;32mpandas/_libs/index.pyx\u001b[0m in \u001b[0;36mpandas._libs.index.IndexEngine.get_value\u001b[0;34m()\u001b[0m\n",
      "\u001b[0;32mpandas/_libs/index.pyx\u001b[0m in \u001b[0;36mpandas._libs.index.IndexEngine.get_value\u001b[0;34m()\u001b[0m\n",
      "\u001b[0;32mpandas/_libs/index.pyx\u001b[0m in \u001b[0;36mpandas._libs.index.IndexEngine.get_loc\u001b[0;34m()\u001b[0m\n",
      "\u001b[0;32mpandas/_libs/index_class_helper.pxi\u001b[0m in \u001b[0;36mpandas._libs.index.Int64Engine._check_type\u001b[0;34m()\u001b[0m\n",
      "\u001b[0;31mKeyError\u001b[0m: 'x'"
     ]
    }
   ],
   "source": [
    "cell_ids = cell_ids['x']\n",
    "cell_idrna = cell_idrna['x']\n",
    "#cell_idrna = cell_ids['rna.bc']\n",
    "#cell_ids = cell_ids['atac.bc']\n",
    "#bedfile <- data(counts, package = \"chromVAR\")\n"
   ]
  },
  {
   "cell_type": "code",
   "execution_count": 280,
   "metadata": {},
   "outputs": [],
   "source": [
    "counts.columns = cell_ids\n",
    "counts.rows = peaks['total']"
   ]
  },
  {
   "cell_type": "markdown",
   "metadata": {},
   "source": [
    "# find the dorc scores to create the dorc x cell matrix"
   ]
  },
  {
   "cell_type": "code",
   "execution_count": 281,
   "metadata": {},
   "outputs": [
    {
     "data": {
      "text/plain": [
       "0    chrX_143482907_143483206\n",
       "1        chr6_3200977_3201276\n",
       "2    chr9_123461851_123462150\n",
       "3      chr1_56782096_56782395\n",
       "4      chr9_56223669_56223968\n",
       "Name: total, dtype: object"
      ]
     },
     "execution_count": 281,
     "metadata": {},
     "output_type": "execute_result"
    }
   ],
   "source": [
    "counts.rows.head()"
   ]
  },
  {
   "cell_type": "code",
   "execution_count": 282,
   "metadata": {},
   "outputs": [],
   "source": [
    "dorcs['region'] = [i.split('_')[0] + '_' + str(int(i.split('_')[1]) + 1) + '_' + i.split('_')[2] for i in dorcs['region']]"
   ]
  },
  {
   "cell_type": "code",
   "execution_count": 283,
   "metadata": {},
   "outputs": [],
   "source": [
    "#for each gene in dorclist\n",
    "dorc_by_cell = []\n",
    "for i in dorclist:\n",
    "    #find all associated peak names from the table above,find them in the count matrix and sum their arrays into 1\n",
    "    peak_names = dorcs[dorcs['Gene'] == i]['region'].tolist()\n",
    "    geneind2 = [j for j, e in enumerate(counts.rows) if e in peak_names]\n",
    "    corr = counts.tocsr()[geneind2, : ]\n",
    "    corr = corr.toarray()\n",
    "    corr = np.sum(corr, axis = 0)\n",
    "    #print(corr)\n",
    "    #add this to a new dorc_matrix with the same cell columns\n",
    "    dorc_by_cell.append((i, corr))\n",
    "    #print(i)"
   ]
  },
  {
   "cell_type": "code",
   "execution_count": 284,
   "metadata": {
    "scrolled": true
   },
   "outputs": [
    {
     "data": {
      "text/html": [
       "<div>\n",
       "<style scoped>\n",
       "    .dataframe tbody tr th:only-of-type {\n",
       "        vertical-align: middle;\n",
       "    }\n",
       "\n",
       "    .dataframe tbody tr th {\n",
       "        vertical-align: top;\n",
       "    }\n",
       "\n",
       "    .dataframe thead th {\n",
       "        text-align: right;\n",
       "    }\n",
       "</style>\n",
       "<table border=\"1\" class=\"dataframe\">\n",
       "  <thead>\n",
       "    <tr style=\"text-align: right;\">\n",
       "      <th></th>\n",
       "      <th>0</th>\n",
       "      <th>1</th>\n",
       "    </tr>\n",
       "  </thead>\n",
       "  <tbody>\n",
       "    <tr>\n",
       "      <th>0</th>\n",
       "      <td>Notch1</td>\n",
       "      <td>[0, 1, 0, 1, 0, 1, 0, 0, 3, 0, 0, 0, 0, 1, 0, ...</td>\n",
       "    </tr>\n",
       "    <tr>\n",
       "      <th>1</th>\n",
       "      <td>Emp1</td>\n",
       "      <td>[0, 0, 1, 2, 0, 0, 1, 0, 7, 2, 1, 0, 0, 0, 0, ...</td>\n",
       "    </tr>\n",
       "    <tr>\n",
       "      <th>2</th>\n",
       "      <td>Cux1</td>\n",
       "      <td>[0, 0, 1, 0, 0, 2, 1, 0, 1, 0, 0, 0, 1, 0, 0, ...</td>\n",
       "    </tr>\n",
       "    <tr>\n",
       "      <th>3</th>\n",
       "      <td>Ezr</td>\n",
       "      <td>[0, 0, 1, 0, 0, 0, 2, 0, 0, 0, 0, 0, 0, 0, 0, ...</td>\n",
       "    </tr>\n",
       "    <tr>\n",
       "      <th>4</th>\n",
       "      <td>Col3a1</td>\n",
       "      <td>[1, 1, 1, 2, 1, 0, 1, 0, 2, 0, 2, 1, 0, 1, 0, ...</td>\n",
       "    </tr>\n",
       "  </tbody>\n",
       "</table>\n",
       "</div>"
      ],
      "text/plain": [
       "        0                                                  1\n",
       "0  Notch1  [0, 1, 0, 1, 0, 1, 0, 0, 3, 0, 0, 0, 0, 1, 0, ...\n",
       "1    Emp1  [0, 0, 1, 2, 0, 0, 1, 0, 7, 2, 1, 0, 0, 0, 0, ...\n",
       "2    Cux1  [0, 0, 1, 0, 0, 2, 1, 0, 1, 0, 0, 0, 1, 0, 0, ...\n",
       "3     Ezr  [0, 0, 1, 0, 0, 0, 2, 0, 0, 0, 0, 0, 0, 0, 0, ...\n",
       "4  Col3a1  [1, 1, 1, 2, 1, 0, 1, 0, 2, 0, 2, 1, 0, 1, 0, ..."
      ]
     },
     "execution_count": 284,
     "metadata": {},
     "output_type": "execute_result"
    }
   ],
   "source": [
    "dorc_by_cell = pd.DataFrame(dorc_by_cell)\n",
    "dorc_by_cell.head()"
   ]
  },
  {
   "cell_type": "code",
   "execution_count": 285,
   "metadata": {},
   "outputs": [],
   "source": [
    "dorc_by_cell.columns = ['gene', 'cell']\n",
    "dorc_by_cell.index = dorc_by_cell['gene']\n",
    "dorc_by_cell = dorc_by_cell[['cell']]"
   ]
  },
  {
   "cell_type": "markdown",
   "metadata": {},
   "source": [
    "# read in rna counts"
   ]
  },
  {
   "cell_type": "code",
   "execution_count": 238,
   "metadata": {
    "scrolled": true
   },
   "outputs": [],
   "source": [
    "rna_expression = sio.mmread('rna_expression4.mtx')\n",
    "\n"
   ]
  },
  {
   "cell_type": "code",
   "execution_count": 239,
   "metadata": {},
   "outputs": [],
   "source": [
    "to_meta = pd.read_csv('features.tsv', sep = '\\t', header = 0)"
   ]
  },
  {
   "cell_type": "code",
   "execution_count": 240,
   "metadata": {},
   "outputs": [],
   "source": [
    "to_meta.columns = ['gene']"
   ]
  },
  {
   "cell_type": "code",
   "execution_count": 241,
   "metadata": {},
   "outputs": [],
   "source": [
    "rna_expression.rows = to_meta['gene']\n",
    "rna_expression.columns = cell_idrna"
   ]
  },
  {
   "cell_type": "markdown",
   "metadata": {},
   "source": [
    "# Create dictionary for indexes of atac cells and rna cells in the dorc cell matrix"
   ]
  },
  {
   "cell_type": "code",
   "execution_count": 242,
   "metadata": {},
   "outputs": [],
   "source": [
    "todic = counts.columns\n",
    "todic = dict(todic)\n",
    "todic = {v: k for k, v in todic.items()}\n",
    "todic2 = dict(rna_expression.columns)\n",
    "\n",
    "todic2 = {v: k for k, v in todic2.items()}\n",
    "\n",
    "#dictionary of cells and their atac index\n",
    "atac_cells = todic\n",
    "#dictionary of cells and their rna index\n",
    "rna_cells = todic2"
   ]
  },
  {
   "cell_type": "markdown",
   "metadata": {},
   "source": [
    "# read in the topic knn"
   ]
  },
  {
   "cell_type": "code",
   "execution_count": 243,
   "metadata": {},
   "outputs": [
    {
     "data": {
      "text/html": [
       "<div>\n",
       "<style scoped>\n",
       "    .dataframe tbody tr th:only-of-type {\n",
       "        vertical-align: middle;\n",
       "    }\n",
       "\n",
       "    .dataframe tbody tr th {\n",
       "        vertical-align: top;\n",
       "    }\n",
       "\n",
       "    .dataframe thead th {\n",
       "        text-align: right;\n",
       "    }\n",
       "</style>\n",
       "<table border=\"1\" class=\"dataframe\">\n",
       "  <thead>\n",
       "    <tr style=\"text-align: right;\">\n",
       "      <th></th>\n",
       "      <th>Trial60.skin.R1.01.R2.01.R3.06.P1.55</th>\n",
       "      <th>Trial60.skin.R1.01.R2.03.R3.68.P1.55</th>\n",
       "      <th>Trial60.skin.R1.01.R2.05.R3.15.P1.53</th>\n",
       "      <th>Trial60.skin.R1.01.R2.05.R3.40.P1.55</th>\n",
       "      <th>Trial60.skin.R1.01.R2.05.R3.49.P1.55</th>\n",
       "      <th>Trial60.skin.R1.01.R2.06.R3.14.P1.55</th>\n",
       "      <th>Trial60.skin.R1.01.R2.09.R3.17.P1.54</th>\n",
       "      <th>Trial60.skin.R1.01.R2.11.R3.27.P1.54</th>\n",
       "      <th>Trial60.skin.R1.01.R2.12.R3.50.P1.54</th>\n",
       "      <th>Trial60.skin.R1.01.R2.13.R3.24.P1.54</th>\n",
       "      <th>...</th>\n",
       "      <th>Trial60.skin.R1.91.R2.61.R3.24.P1.54</th>\n",
       "      <th>Trial60.skin.R1.91.R2.89.R3.05.P1.53</th>\n",
       "      <th>Trial60.skin.R1.92.R2.28.R3.67.P1.56</th>\n",
       "      <th>Trial60.skin.R1.92.R2.36.R3.69.P1.53</th>\n",
       "      <th>Trial60.skin.R1.92.R2.69.R3.22.P1.53</th>\n",
       "      <th>Trial60.skin.R1.92.R2.79.R3.05.P1.56</th>\n",
       "      <th>Trial60.skin.R1.93.R2.20.R3.18.P1.53</th>\n",
       "      <th>Trial60.skin.R1.93.R2.80.R3.62.P1.55</th>\n",
       "      <th>Trial60.skin.R1.93.R2.91.R3.82.P1.56</th>\n",
       "      <th>Trial60.skin.R1.94.R2.75.R3.40.P1.55</th>\n",
       "    </tr>\n",
       "  </thead>\n",
       "  <tbody>\n",
       "    <tr>\n",
       "      <th>Topic1</th>\n",
       "      <td>0.059573</td>\n",
       "      <td>0.115929</td>\n",
       "      <td>0.096909</td>\n",
       "      <td>0.058176</td>\n",
       "      <td>0.089527</td>\n",
       "      <td>0.062683</td>\n",
       "      <td>0.145751</td>\n",
       "      <td>0.113575</td>\n",
       "      <td>0.071527</td>\n",
       "      <td>0.099691</td>\n",
       "      <td>...</td>\n",
       "      <td>0.104023</td>\n",
       "      <td>0.020935</td>\n",
       "      <td>0.210407</td>\n",
       "      <td>0.047316</td>\n",
       "      <td>0.070249</td>\n",
       "      <td>0.071842</td>\n",
       "      <td>0.032515</td>\n",
       "      <td>0.046531</td>\n",
       "      <td>0.097605</td>\n",
       "      <td>0.070463</td>\n",
       "    </tr>\n",
       "    <tr>\n",
       "      <th>Topic2</th>\n",
       "      <td>0.044501</td>\n",
       "      <td>0.010027</td>\n",
       "      <td>0.027378</td>\n",
       "      <td>0.023606</td>\n",
       "      <td>0.020505</td>\n",
       "      <td>0.013993</td>\n",
       "      <td>0.054002</td>\n",
       "      <td>0.020445</td>\n",
       "      <td>0.025584</td>\n",
       "      <td>0.013652</td>\n",
       "      <td>...</td>\n",
       "      <td>0.046202</td>\n",
       "      <td>0.014110</td>\n",
       "      <td>0.046513</td>\n",
       "      <td>0.020455</td>\n",
       "      <td>0.051858</td>\n",
       "      <td>0.050436</td>\n",
       "      <td>0.029044</td>\n",
       "      <td>0.013905</td>\n",
       "      <td>0.099103</td>\n",
       "      <td>0.066249</td>\n",
       "    </tr>\n",
       "    <tr>\n",
       "      <th>Topic3</th>\n",
       "      <td>0.003217</td>\n",
       "      <td>0.032631</td>\n",
       "      <td>0.010982</td>\n",
       "      <td>0.011513</td>\n",
       "      <td>0.001606</td>\n",
       "      <td>0.012614</td>\n",
       "      <td>0.024880</td>\n",
       "      <td>0.006663</td>\n",
       "      <td>0.006955</td>\n",
       "      <td>0.002311</td>\n",
       "      <td>...</td>\n",
       "      <td>0.012726</td>\n",
       "      <td>0.015169</td>\n",
       "      <td>0.004084</td>\n",
       "      <td>0.004231</td>\n",
       "      <td>0.035767</td>\n",
       "      <td>0.018580</td>\n",
       "      <td>0.012386</td>\n",
       "      <td>0.018477</td>\n",
       "      <td>0.036931</td>\n",
       "      <td>0.023337</td>\n",
       "    </tr>\n",
       "    <tr>\n",
       "      <th>Topic4</th>\n",
       "      <td>0.005838</td>\n",
       "      <td>0.012120</td>\n",
       "      <td>0.005793</td>\n",
       "      <td>0.013795</td>\n",
       "      <td>0.007769</td>\n",
       "      <td>0.015266</td>\n",
       "      <td>0.001238</td>\n",
       "      <td>0.000607</td>\n",
       "      <td>0.019021</td>\n",
       "      <td>0.003875</td>\n",
       "      <td>...</td>\n",
       "      <td>0.006640</td>\n",
       "      <td>0.006108</td>\n",
       "      <td>0.005748</td>\n",
       "      <td>0.013806</td>\n",
       "      <td>0.020660</td>\n",
       "      <td>0.004819</td>\n",
       "      <td>0.004156</td>\n",
       "      <td>0.004137</td>\n",
       "      <td>0.007218</td>\n",
       "      <td>0.003413</td>\n",
       "    </tr>\n",
       "    <tr>\n",
       "      <th>Topic5</th>\n",
       "      <td>0.003217</td>\n",
       "      <td>0.002911</td>\n",
       "      <td>0.007661</td>\n",
       "      <td>0.015278</td>\n",
       "      <td>0.003660</td>\n",
       "      <td>0.003915</td>\n",
       "      <td>0.000612</td>\n",
       "      <td>0.008960</td>\n",
       "      <td>0.014049</td>\n",
       "      <td>0.009742</td>\n",
       "      <td>...</td>\n",
       "      <td>0.000553</td>\n",
       "      <td>0.017994</td>\n",
       "      <td>0.004916</td>\n",
       "      <td>0.033221</td>\n",
       "      <td>0.014092</td>\n",
       "      <td>0.003545</td>\n",
       "      <td>0.010303</td>\n",
       "      <td>0.036972</td>\n",
       "      <td>0.000726</td>\n",
       "      <td>0.011076</td>\n",
       "    </tr>\n",
       "  </tbody>\n",
       "</table>\n",
       "<p>5 rows × 34774 columns</p>\n",
       "</div>"
      ],
      "text/plain": [
       "        Trial60.skin.R1.01.R2.01.R3.06.P1.55  \\\n",
       "Topic1                              0.059573   \n",
       "Topic2                              0.044501   \n",
       "Topic3                              0.003217   \n",
       "Topic4                              0.005838   \n",
       "Topic5                              0.003217   \n",
       "\n",
       "        Trial60.skin.R1.01.R2.03.R3.68.P1.55  \\\n",
       "Topic1                              0.115929   \n",
       "Topic2                              0.010027   \n",
       "Topic3                              0.032631   \n",
       "Topic4                              0.012120   \n",
       "Topic5                              0.002911   \n",
       "\n",
       "        Trial60.skin.R1.01.R2.05.R3.15.P1.53  \\\n",
       "Topic1                              0.096909   \n",
       "Topic2                              0.027378   \n",
       "Topic3                              0.010982   \n",
       "Topic4                              0.005793   \n",
       "Topic5                              0.007661   \n",
       "\n",
       "        Trial60.skin.R1.01.R2.05.R3.40.P1.55  \\\n",
       "Topic1                              0.058176   \n",
       "Topic2                              0.023606   \n",
       "Topic3                              0.011513   \n",
       "Topic4                              0.013795   \n",
       "Topic5                              0.015278   \n",
       "\n",
       "        Trial60.skin.R1.01.R2.05.R3.49.P1.55  \\\n",
       "Topic1                              0.089527   \n",
       "Topic2                              0.020505   \n",
       "Topic3                              0.001606   \n",
       "Topic4                              0.007769   \n",
       "Topic5                              0.003660   \n",
       "\n",
       "        Trial60.skin.R1.01.R2.06.R3.14.P1.55  \\\n",
       "Topic1                              0.062683   \n",
       "Topic2                              0.013993   \n",
       "Topic3                              0.012614   \n",
       "Topic4                              0.015266   \n",
       "Topic5                              0.003915   \n",
       "\n",
       "        Trial60.skin.R1.01.R2.09.R3.17.P1.54  \\\n",
       "Topic1                              0.145751   \n",
       "Topic2                              0.054002   \n",
       "Topic3                              0.024880   \n",
       "Topic4                              0.001238   \n",
       "Topic5                              0.000612   \n",
       "\n",
       "        Trial60.skin.R1.01.R2.11.R3.27.P1.54  \\\n",
       "Topic1                              0.113575   \n",
       "Topic2                              0.020445   \n",
       "Topic3                              0.006663   \n",
       "Topic4                              0.000607   \n",
       "Topic5                              0.008960   \n",
       "\n",
       "        Trial60.skin.R1.01.R2.12.R3.50.P1.54  \\\n",
       "Topic1                              0.071527   \n",
       "Topic2                              0.025584   \n",
       "Topic3                              0.006955   \n",
       "Topic4                              0.019021   \n",
       "Topic5                              0.014049   \n",
       "\n",
       "        Trial60.skin.R1.01.R2.13.R3.24.P1.54  ...  \\\n",
       "Topic1                              0.099691  ...   \n",
       "Topic2                              0.013652  ...   \n",
       "Topic3                              0.002311  ...   \n",
       "Topic4                              0.003875  ...   \n",
       "Topic5                              0.009742  ...   \n",
       "\n",
       "        Trial60.skin.R1.91.R2.61.R3.24.P1.54  \\\n",
       "Topic1                              0.104023   \n",
       "Topic2                              0.046202   \n",
       "Topic3                              0.012726   \n",
       "Topic4                              0.006640   \n",
       "Topic5                              0.000553   \n",
       "\n",
       "        Trial60.skin.R1.91.R2.89.R3.05.P1.53  \\\n",
       "Topic1                              0.020935   \n",
       "Topic2                              0.014110   \n",
       "Topic3                              0.015169   \n",
       "Topic4                              0.006108   \n",
       "Topic5                              0.017994   \n",
       "\n",
       "        Trial60.skin.R1.92.R2.28.R3.67.P1.56  \\\n",
       "Topic1                              0.210407   \n",
       "Topic2                              0.046513   \n",
       "Topic3                              0.004084   \n",
       "Topic4                              0.005748   \n",
       "Topic5                              0.004916   \n",
       "\n",
       "        Trial60.skin.R1.92.R2.36.R3.69.P1.53  \\\n",
       "Topic1                              0.047316   \n",
       "Topic2                              0.020455   \n",
       "Topic3                              0.004231   \n",
       "Topic4                              0.013806   \n",
       "Topic5                              0.033221   \n",
       "\n",
       "        Trial60.skin.R1.92.R2.69.R3.22.P1.53  \\\n",
       "Topic1                              0.070249   \n",
       "Topic2                              0.051858   \n",
       "Topic3                              0.035767   \n",
       "Topic4                              0.020660   \n",
       "Topic5                              0.014092   \n",
       "\n",
       "        Trial60.skin.R1.92.R2.79.R3.05.P1.56  \\\n",
       "Topic1                              0.071842   \n",
       "Topic2                              0.050436   \n",
       "Topic3                              0.018580   \n",
       "Topic4                              0.004819   \n",
       "Topic5                              0.003545   \n",
       "\n",
       "        Trial60.skin.R1.93.R2.20.R3.18.P1.53  \\\n",
       "Topic1                              0.032515   \n",
       "Topic2                              0.029044   \n",
       "Topic3                              0.012386   \n",
       "Topic4                              0.004156   \n",
       "Topic5                              0.010303   \n",
       "\n",
       "        Trial60.skin.R1.93.R2.80.R3.62.P1.55  \\\n",
       "Topic1                              0.046531   \n",
       "Topic2                              0.013905   \n",
       "Topic3                              0.018477   \n",
       "Topic4                              0.004137   \n",
       "Topic5                              0.036972   \n",
       "\n",
       "        Trial60.skin.R1.93.R2.91.R3.82.P1.56  \\\n",
       "Topic1                              0.097605   \n",
       "Topic2                              0.099103   \n",
       "Topic3                              0.036931   \n",
       "Topic4                              0.007218   \n",
       "Topic5                              0.000726   \n",
       "\n",
       "        Trial60.skin.R1.94.R2.75.R3.40.P1.55  \n",
       "Topic1                              0.070463  \n",
       "Topic2                              0.066249  \n",
       "Topic3                              0.023337  \n",
       "Topic4                              0.003413  \n",
       "Topic5                              0.011076  \n",
       "\n",
       "[5 rows x 34774 columns]"
      ]
     },
     "execution_count": 243,
     "metadata": {},
     "output_type": "execute_result"
    }
   ],
   "source": [
    "topics = pd.read_csv('topic.matrix.csv', delimiter = '\\t')\n",
    "topics.head()"
   ]
  },
  {
   "cell_type": "code",
   "execution_count": 244,
   "metadata": {},
   "outputs": [],
   "source": [
    "import sklearn.neighbors as sk\n",
    "topicknn = sk.kneighbors_graph(topics.transpose(), mode='connectivity', n_neighbors=50)"
   ]
  },
  {
   "cell_type": "code",
   "execution_count": 245,
   "metadata": {},
   "outputs": [],
   "source": [
    "topicknn.columns = cell_ids\n",
    "topicknn.rows = cell_ids\n"
   ]
  },
  {
   "cell_type": "code",
   "execution_count": 246,
   "metadata": {},
   "outputs": [
    {
     "data": {
      "text/plain": [
       "<34774x34774 sparse matrix of type '<class 'numpy.float64'>'\n",
       "\twith 1738700 stored elements in Compressed Sparse Row format>"
      ]
     },
     "execution_count": 246,
     "metadata": {},
     "output_type": "execute_result"
    }
   ],
   "source": [
    "topicknn"
   ]
  },
  {
   "cell_type": "code",
   "execution_count": 247,
   "metadata": {},
   "outputs": [],
   "source": [
    "topicknn.rows = topicknn.rows.reset_index(drop = True)\n",
    "topicknn.columns = topicknn.columns.reset_index(drop = True)"
   ]
  },
  {
   "cell_type": "code",
   "execution_count": 248,
   "metadata": {},
   "outputs": [],
   "source": [
    "topicdict = {}\n",
    "for i in range(len(topicknn.rows)):\n",
    "    row = topicknn.tocsr()[i, :].toarray()\n",
    "    indexes = []\n",
    "    [indexes.append(j) for j in range(len(row[0])) if row[0][j] > 0]\n",
    "    topicdict[topicknn.rows[i]] = indexes"
   ]
  },
  {
   "cell_type": "markdown",
   "metadata": {},
   "source": [
    "# create rna x cell modified matrix"
   ]
  },
  {
   "cell_type": "code",
   "execution_count": 249,
   "metadata": {},
   "outputs": [
    {
     "data": {
      "text/plain": [
       "<23296x34774 sparse matrix of type '<class 'numpy.float64'>'\n",
       "\twith 22350084 stored elements in COOrdinate format>"
      ]
     },
     "execution_count": 249,
     "metadata": {},
     "output_type": "execute_result"
    }
   ],
   "source": [
    "rna_expression"
   ]
  },
  {
   "cell_type": "code",
   "execution_count": 250,
   "metadata": {},
   "outputs": [],
   "source": [
    "rind = [j for j, e in enumerate(rna_expression.rows.tolist()) if e in dorc_by_cell.index.tolist()]"
   ]
  },
  {
   "cell_type": "code",
   "execution_count": 251,
   "metadata": {
    "scrolled": true
   },
   "outputs": [],
   "source": [
    "\n",
    "rna_expression = rna_expression.tocsr()[rind, : ]\n",
    "rna_expression.columns = cell_idrna"
   ]
  },
  {
   "cell_type": "code",
   "execution_count": 252,
   "metadata": {},
   "outputs": [],
   "source": [
    "\n",
    "rna_expression.rows = to_meta['gene'][rind]\n",
    "rna_by_cell = pd.DataFrame(rna_expression.todense())\n",
    "rna_by_cell = rna_by_cell.values.tolist()"
   ]
  },
  {
   "cell_type": "code",
   "execution_count": 253,
   "metadata": {
    "scrolled": false
   },
   "outputs": [
    {
     "data": {
      "text/html": [
       "<div>\n",
       "<style scoped>\n",
       "    .dataframe tbody tr th:only-of-type {\n",
       "        vertical-align: middle;\n",
       "    }\n",
       "\n",
       "    .dataframe tbody tr th {\n",
       "        vertical-align: top;\n",
       "    }\n",
       "\n",
       "    .dataframe thead th {\n",
       "        text-align: right;\n",
       "    }\n",
       "</style>\n",
       "<table border=\"1\" class=\"dataframe\">\n",
       "  <thead>\n",
       "    <tr style=\"text-align: right;\">\n",
       "      <th></th>\n",
       "      <th>cell</th>\n",
       "    </tr>\n",
       "    <tr>\n",
       "      <th>gene</th>\n",
       "      <th></th>\n",
       "    </tr>\n",
       "  </thead>\n",
       "  <tbody>\n",
       "    <tr>\n",
       "      <th>1810011O10Rik</th>\n",
       "      <td>[0.0, 0.0, 0.0, 0.0, 0.0, 0.0, 0.0, 0.0, 0.0, ...</td>\n",
       "    </tr>\n",
       "    <tr>\n",
       "      <th>2210411M09Rik</th>\n",
       "      <td>[0.0, 0.0, 0.0, 0.0, 0.0, 0.0, 0.0, 0.0, 0.0, ...</td>\n",
       "    </tr>\n",
       "    <tr>\n",
       "      <th>2610035D17Rik</th>\n",
       "      <td>[0.0, 2.285044688700701, 0.0, 0.0, 0.0, 0.0, 0...</td>\n",
       "    </tr>\n",
       "    <tr>\n",
       "      <th>2810030D12Rik</th>\n",
       "      <td>[0.0, 0.0, 0.0, 0.0, 0.0, 0.0, 0.0, 0.0, 0.0, ...</td>\n",
       "    </tr>\n",
       "    <tr>\n",
       "      <th>2900026A02Rik</th>\n",
       "      <td>[0.0, 0.0, 0.0, 0.0, 0.0, 1.5319370085144932, ...</td>\n",
       "    </tr>\n",
       "  </tbody>\n",
       "</table>\n",
       "</div>"
      ],
      "text/plain": [
       "                                                            cell\n",
       "gene                                                            \n",
       "1810011O10Rik  [0.0, 0.0, 0.0, 0.0, 0.0, 0.0, 0.0, 0.0, 0.0, ...\n",
       "2210411M09Rik  [0.0, 0.0, 0.0, 0.0, 0.0, 0.0, 0.0, 0.0, 0.0, ...\n",
       "2610035D17Rik  [0.0, 2.285044688700701, 0.0, 0.0, 0.0, 0.0, 0...\n",
       "2810030D12Rik  [0.0, 0.0, 0.0, 0.0, 0.0, 0.0, 0.0, 0.0, 0.0, ...\n",
       "2900026A02Rik  [0.0, 0.0, 0.0, 0.0, 0.0, 1.5319370085144932, ..."
      ]
     },
     "execution_count": 253,
     "metadata": {},
     "output_type": "execute_result"
    }
   ],
   "source": [
    "\n",
    "rna_by_cell2 = pd.DataFrame(rna_expression.rows)\n",
    "rna_by_cell2 = rna_by_cell2.reset_index(drop=True)\n",
    "rna_by_cell2['cell'] = [i for i in rna_by_cell]\n",
    "rna_by_cell2.index = rna_by_cell2['gene']\n",
    "rna_by_cell2 = rna_by_cell2[['cell']]\n",
    "rna_by_cell2.head()"
   ]
  },
  {
   "cell_type": "code",
   "execution_count": 143,
   "metadata": {},
   "outputs": [],
   "source": [
    "#dorc_by_cell = pd.read_csv('dorc_by_cell.csv')"
   ]
  },
  {
   "cell_type": "markdown",
   "metadata": {},
   "source": [
    "# smooth functions"
   ]
  },
  {
   "cell_type": "code",
   "execution_count": 257,
   "metadata": {},
   "outputs": [],
   "source": [
    "def Avg(array, knn):\n",
    "    toreturn = []\n",
    "    for i in range(len(array)):\n",
    "        val = topicknn.rows[i]\n",
    "        inds = knn.get(val)\n",
    "        total = int(array[i])\n",
    "        for num in inds:\n",
    "            total += array[num]\n",
    "        total = (total/(1 + len(inds)) )\n",
    "        toreturn.append(total)\n",
    "    return toreturn"
   ]
  },
  {
   "cell_type": "code",
   "execution_count": 258,
   "metadata": {},
   "outputs": [],
   "source": [
    "def smooth(dataframe, knn):\n",
    "    count = 0\n",
    "    #dataframe is a dorc x cell matrix or a rna x cell matrix\n",
    "    #make sure if rna x cell matrix, we only use the dorc rnas \n",
    "    print(len(dataframe.index))\n",
    "    newmat = []\n",
    "    for key, value in dataframe.iterrows():\n",
    "        rep = value[0]\n",
    "        newrep = Avg(rep, knn)\n",
    "        newmat.append((key, newrep))    \n",
    "        \n",
    "        #genename = key\n",
    "        #geneind2 = [j for j, e in enumerate(tempy) if i == e]\n",
    "        #corr = counts.tocsr()[geneind2, : ]\n",
    "        #corr = corr.toarray()\n",
    "        if count % 200 == 0:\n",
    "            print(len(newmat))\n",
    "        count += 1\n",
    "    return(newmat)"
   ]
  },
  {
   "cell_type": "markdown",
   "metadata": {},
   "source": [
    "# normalize our dorc matrix by peak counts - dont do this\n",
    "\n"
   ]
  },
  {
   "cell_type": "code",
   "execution_count": null,
   "metadata": {},
   "outputs": [],
   "source": [
    "#curr = [0 for i in range(len(dorc_by_cell.iloc[0][0]))]\n",
    "#for i in dorc_by_cell['cell']:\n",
    "#    zipped_lists = zip(i, curr)\n",
    "#    curr = [x + y for (x, y) in zipped_lists]"
   ]
  },
  {
   "cell_type": "code",
   "execution_count": null,
   "metadata": {},
   "outputs": [],
   "source": [
    "#d2 = []\n",
    "#for index, row in dorc_by_cell.iterrows():\n",
    "#    zipped_lists = zip(row['cell'], curr)\n",
    "#    tp = [np.log(((x / y)*10000)+1) for (x, y) in zipped_lists]\n",
    "#    d2.append(tp)\n",
    "\n",
    "#d2 = pd.Series(d2)\n",
    "#d2.index = dorc_by_cell.index\n",
    "#dorc_by_cell['cell'] = d2\n",
    "#dorc_by_cell = dorc_by_cell[['cell']]\n",
    "#dorc_by_cell.head()"
   ]
  },
  {
   "cell_type": "markdown",
   "metadata": {},
   "source": [
    "# smooth the dorc scores"
   ]
  },
  {
   "cell_type": "code",
   "execution_count": 259,
   "metadata": {},
   "outputs": [
    {
     "name": "stdout",
     "output_type": "stream",
     "text": [
      "857\n",
      "1\n",
      "201\n",
      "401\n",
      "601\n",
      "801\n"
     ]
    }
   ],
   "source": [
    "#smooth the dorc scores\n",
    "smoothed_dorc = smooth(dorc_by_cell, topicdict)\n",
    "#smooth the rna scores"
   ]
  },
  {
   "cell_type": "markdown",
   "metadata": {},
   "source": [
    "# smooth the rna scores"
   ]
  },
  {
   "cell_type": "code",
   "execution_count": 260,
   "metadata": {},
   "outputs": [
    {
     "name": "stdout",
     "output_type": "stream",
     "text": [
      "857\n",
      "1\n",
      "201\n",
      "401\n",
      "601\n",
      "801\n"
     ]
    }
   ],
   "source": [
    "smoothed_rna = smooth(rna_by_cell2, topicdict)"
   ]
  },
  {
   "cell_type": "markdown",
   "metadata": {},
   "source": [
    "# get dorc scores and rna in usable formats"
   ]
  },
  {
   "cell_type": "code",
   "execution_count": 261,
   "metadata": {},
   "outputs": [],
   "source": [
    "smoothed_rna = pd.DataFrame(smoothed_rna)\n",
    "smoothed_rna.columns = ['gene', 'cell']\n",
    "smoothed_dorc = pd.DataFrame(smoothed_dorc)\n",
    "smoothed_dorc.columns = ['gene', 'cell']\n",
    "revdorc = pd.DataFrame(cell_ids)"
   ]
  },
  {
   "cell_type": "code",
   "execution_count": null,
   "metadata": {},
   "outputs": [],
   "source": [
    "#was trying with more identified dorcs >= 10"
   ]
  },
  {
   "cell_type": "code",
   "execution_count": 262,
   "metadata": {
    "scrolled": false
   },
   "outputs": [],
   "source": [
    "matsmoothvals = smoothed_dorc.cell.apply(pd.Series)"
   ]
  },
  {
   "cell_type": "code",
   "execution_count": 263,
   "metadata": {},
   "outputs": [],
   "source": [
    "matsmoothvals.index = dorc_by_cell.index\n",
    "matsmoothvals = matsmoothvals.reindex(dorc_by_cell.index)"
   ]
  },
  {
   "cell_type": "code",
   "execution_count": 264,
   "metadata": {
    "scrolled": false
   },
   "outputs": [
    {
     "data": {
      "text/html": [
       "<div>\n",
       "<style scoped>\n",
       "    .dataframe tbody tr th:only-of-type {\n",
       "        vertical-align: middle;\n",
       "    }\n",
       "\n",
       "    .dataframe tbody tr th {\n",
       "        vertical-align: top;\n",
       "    }\n",
       "\n",
       "    .dataframe thead th {\n",
       "        text-align: right;\n",
       "    }\n",
       "</style>\n",
       "<table border=\"1\" class=\"dataframe\">\n",
       "  <thead>\n",
       "    <tr style=\"text-align: right;\">\n",
       "      <th></th>\n",
       "      <th>0</th>\n",
       "      <th>1</th>\n",
       "      <th>2</th>\n",
       "      <th>3</th>\n",
       "      <th>4</th>\n",
       "      <th>5</th>\n",
       "      <th>6</th>\n",
       "      <th>7</th>\n",
       "      <th>8</th>\n",
       "      <th>9</th>\n",
       "      <th>...</th>\n",
       "      <th>34764</th>\n",
       "      <th>34765</th>\n",
       "      <th>34766</th>\n",
       "      <th>34767</th>\n",
       "      <th>34768</th>\n",
       "      <th>34769</th>\n",
       "      <th>34770</th>\n",
       "      <th>34771</th>\n",
       "      <th>34772</th>\n",
       "      <th>34773</th>\n",
       "    </tr>\n",
       "    <tr>\n",
       "      <th>gene</th>\n",
       "      <th></th>\n",
       "      <th></th>\n",
       "      <th></th>\n",
       "      <th></th>\n",
       "      <th></th>\n",
       "      <th></th>\n",
       "      <th></th>\n",
       "      <th></th>\n",
       "      <th></th>\n",
       "      <th></th>\n",
       "      <th></th>\n",
       "      <th></th>\n",
       "      <th></th>\n",
       "      <th></th>\n",
       "      <th></th>\n",
       "      <th></th>\n",
       "      <th></th>\n",
       "      <th></th>\n",
       "      <th></th>\n",
       "      <th></th>\n",
       "      <th></th>\n",
       "    </tr>\n",
       "  </thead>\n",
       "  <tbody>\n",
       "    <tr>\n",
       "      <th>Notch1</th>\n",
       "      <td>0.279730</td>\n",
       "      <td>0.450000</td>\n",
       "      <td>0.139692</td>\n",
       "      <td>0.440453</td>\n",
       "      <td>0.228379</td>\n",
       "      <td>0.594662</td>\n",
       "      <td>0.391085</td>\n",
       "      <td>0.105586</td>\n",
       "      <td>0.702317</td>\n",
       "      <td>0.557076</td>\n",
       "      <td>...</td>\n",
       "      <td>0.389861</td>\n",
       "      <td>0.852848</td>\n",
       "      <td>0.156783</td>\n",
       "      <td>0.767788</td>\n",
       "      <td>0.495097</td>\n",
       "      <td>0.543240</td>\n",
       "      <td>1.815804</td>\n",
       "      <td>1.665381</td>\n",
       "      <td>0.518777</td>\n",
       "      <td>0.529881</td>\n",
       "    </tr>\n",
       "    <tr>\n",
       "      <th>Emp1</th>\n",
       "      <td>1.377394</td>\n",
       "      <td>0.929515</td>\n",
       "      <td>0.708628</td>\n",
       "      <td>0.779310</td>\n",
       "      <td>0.668980</td>\n",
       "      <td>0.990497</td>\n",
       "      <td>0.612192</td>\n",
       "      <td>0.583553</td>\n",
       "      <td>1.090697</td>\n",
       "      <td>0.723754</td>\n",
       "      <td>...</td>\n",
       "      <td>0.228150</td>\n",
       "      <td>0.579898</td>\n",
       "      <td>0.196125</td>\n",
       "      <td>0.435223</td>\n",
       "      <td>0.235297</td>\n",
       "      <td>0.341355</td>\n",
       "      <td>0.632954</td>\n",
       "      <td>0.343178</td>\n",
       "      <td>0.259543</td>\n",
       "      <td>0.324056</td>\n",
       "    </tr>\n",
       "    <tr>\n",
       "      <th>Cux1</th>\n",
       "      <td>0.142799</td>\n",
       "      <td>0.237633</td>\n",
       "      <td>0.315237</td>\n",
       "      <td>0.316433</td>\n",
       "      <td>0.209893</td>\n",
       "      <td>0.305983</td>\n",
       "      <td>0.230662</td>\n",
       "      <td>0.265982</td>\n",
       "      <td>0.242461</td>\n",
       "      <td>0.286611</td>\n",
       "      <td>...</td>\n",
       "      <td>0.253120</td>\n",
       "      <td>0.654121</td>\n",
       "      <td>0.195187</td>\n",
       "      <td>0.439499</td>\n",
       "      <td>0.235638</td>\n",
       "      <td>0.405416</td>\n",
       "      <td>0.992977</td>\n",
       "      <td>1.717085</td>\n",
       "      <td>0.369243</td>\n",
       "      <td>0.401603</td>\n",
       "    </tr>\n",
       "    <tr>\n",
       "      <th>Ezr</th>\n",
       "      <td>0.226680</td>\n",
       "      <td>0.117173</td>\n",
       "      <td>0.078160</td>\n",
       "      <td>0.505194</td>\n",
       "      <td>0.217456</td>\n",
       "      <td>0.427406</td>\n",
       "      <td>0.149088</td>\n",
       "      <td>0.099382</td>\n",
       "      <td>0.326719</td>\n",
       "      <td>0.176588</td>\n",
       "      <td>...</td>\n",
       "      <td>0.238350</td>\n",
       "      <td>0.389667</td>\n",
       "      <td>0.177946</td>\n",
       "      <td>0.697414</td>\n",
       "      <td>0.380694</td>\n",
       "      <td>0.300832</td>\n",
       "      <td>0.619393</td>\n",
       "      <td>0.328509</td>\n",
       "      <td>0.420152</td>\n",
       "      <td>0.347978</td>\n",
       "    </tr>\n",
       "    <tr>\n",
       "      <th>Col3a1</th>\n",
       "      <td>1.367936</td>\n",
       "      <td>0.894577</td>\n",
       "      <td>1.514720</td>\n",
       "      <td>0.414442</td>\n",
       "      <td>1.532768</td>\n",
       "      <td>1.154620</td>\n",
       "      <td>1.303296</td>\n",
       "      <td>1.606660</td>\n",
       "      <td>0.934855</td>\n",
       "      <td>0.790225</td>\n",
       "      <td>...</td>\n",
       "      <td>0.000000</td>\n",
       "      <td>0.024740</td>\n",
       "      <td>0.026186</td>\n",
       "      <td>0.048852</td>\n",
       "      <td>0.000000</td>\n",
       "      <td>0.000000</td>\n",
       "      <td>0.062664</td>\n",
       "      <td>0.125257</td>\n",
       "      <td>0.042240</td>\n",
       "      <td>0.000000</td>\n",
       "    </tr>\n",
       "  </tbody>\n",
       "</table>\n",
       "<p>5 rows × 34774 columns</p>\n",
       "</div>"
      ],
      "text/plain": [
       "           0         1         2         3         4         5         6      \\\n",
       "gene                                                                           \n",
       "Notch1  0.279730  0.450000  0.139692  0.440453  0.228379  0.594662  0.391085   \n",
       "Emp1    1.377394  0.929515  0.708628  0.779310  0.668980  0.990497  0.612192   \n",
       "Cux1    0.142799  0.237633  0.315237  0.316433  0.209893  0.305983  0.230662   \n",
       "Ezr     0.226680  0.117173  0.078160  0.505194  0.217456  0.427406  0.149088   \n",
       "Col3a1  1.367936  0.894577  1.514720  0.414442  1.532768  1.154620  1.303296   \n",
       "\n",
       "           7         8         9      ...     34764     34765     34766  \\\n",
       "gene                                  ...                                 \n",
       "Notch1  0.105586  0.702317  0.557076  ...  0.389861  0.852848  0.156783   \n",
       "Emp1    0.583553  1.090697  0.723754  ...  0.228150  0.579898  0.196125   \n",
       "Cux1    0.265982  0.242461  0.286611  ...  0.253120  0.654121  0.195187   \n",
       "Ezr     0.099382  0.326719  0.176588  ...  0.238350  0.389667  0.177946   \n",
       "Col3a1  1.606660  0.934855  0.790225  ...  0.000000  0.024740  0.026186   \n",
       "\n",
       "           34767     34768     34769     34770     34771     34772     34773  \n",
       "gene                                                                          \n",
       "Notch1  0.767788  0.495097  0.543240  1.815804  1.665381  0.518777  0.529881  \n",
       "Emp1    0.435223  0.235297  0.341355  0.632954  0.343178  0.259543  0.324056  \n",
       "Cux1    0.439499  0.235638  0.405416  0.992977  1.717085  0.369243  0.401603  \n",
       "Ezr     0.697414  0.380694  0.300832  0.619393  0.328509  0.420152  0.347978  \n",
       "Col3a1  0.048852  0.000000  0.000000  0.062664  0.125257  0.042240  0.000000  \n",
       "\n",
       "[5 rows x 34774 columns]"
      ]
     },
     "execution_count": 264,
     "metadata": {},
     "output_type": "execute_result"
    }
   ],
   "source": [
    "matsmoothvals.head()"
   ]
  },
  {
   "cell_type": "code",
   "execution_count": 265,
   "metadata": {},
   "outputs": [],
   "source": [
    "matsmoothvals.to_csv('smoothed_dorc_table_my_umap.csv')"
   ]
  },
  {
   "cell_type": "code",
   "execution_count": 266,
   "metadata": {},
   "outputs": [],
   "source": [
    "matsmoothvals = smoothed_rna.cell.apply(pd.Series)"
   ]
  },
  {
   "cell_type": "code",
   "execution_count": 267,
   "metadata": {
    "scrolled": true
   },
   "outputs": [],
   "source": [
    "matsmoothvals.index = rna_by_cell2.index\n",
    "matsmoothvals = matsmoothvals.reindex(rna_by_cell2.index)"
   ]
  },
  {
   "cell_type": "code",
   "execution_count": 268,
   "metadata": {
    "scrolled": true
   },
   "outputs": [
    {
     "data": {
      "text/html": [
       "<div>\n",
       "<style scoped>\n",
       "    .dataframe tbody tr th:only-of-type {\n",
       "        vertical-align: middle;\n",
       "    }\n",
       "\n",
       "    .dataframe tbody tr th {\n",
       "        vertical-align: top;\n",
       "    }\n",
       "\n",
       "    .dataframe thead th {\n",
       "        text-align: right;\n",
       "    }\n",
       "</style>\n",
       "<table border=\"1\" class=\"dataframe\">\n",
       "  <thead>\n",
       "    <tr style=\"text-align: right;\">\n",
       "      <th></th>\n",
       "      <th>0</th>\n",
       "      <th>1</th>\n",
       "      <th>2</th>\n",
       "      <th>3</th>\n",
       "      <th>4</th>\n",
       "      <th>5</th>\n",
       "      <th>6</th>\n",
       "      <th>7</th>\n",
       "      <th>8</th>\n",
       "      <th>9</th>\n",
       "      <th>...</th>\n",
       "      <th>34764</th>\n",
       "      <th>34765</th>\n",
       "      <th>34766</th>\n",
       "      <th>34767</th>\n",
       "      <th>34768</th>\n",
       "      <th>34769</th>\n",
       "      <th>34770</th>\n",
       "      <th>34771</th>\n",
       "      <th>34772</th>\n",
       "      <th>34773</th>\n",
       "    </tr>\n",
       "    <tr>\n",
       "      <th>gene</th>\n",
       "      <th></th>\n",
       "      <th></th>\n",
       "      <th></th>\n",
       "      <th></th>\n",
       "      <th></th>\n",
       "      <th></th>\n",
       "      <th></th>\n",
       "      <th></th>\n",
       "      <th></th>\n",
       "      <th></th>\n",
       "      <th></th>\n",
       "      <th></th>\n",
       "      <th></th>\n",
       "      <th></th>\n",
       "      <th></th>\n",
       "      <th></th>\n",
       "      <th></th>\n",
       "      <th></th>\n",
       "      <th></th>\n",
       "      <th></th>\n",
       "      <th></th>\n",
       "    </tr>\n",
       "  </thead>\n",
       "  <tbody>\n",
       "    <tr>\n",
       "      <th>1810011O10Rik</th>\n",
       "      <td>0.000000</td>\n",
       "      <td>0.000000</td>\n",
       "      <td>0.000000</td>\n",
       "      <td>0.024691</td>\n",
       "      <td>0.000000</td>\n",
       "      <td>0.000000</td>\n",
       "      <td>0.000000</td>\n",
       "      <td>0.000000</td>\n",
       "      <td>0.024135</td>\n",
       "      <td>0.000000</td>\n",
       "      <td>...</td>\n",
       "      <td>0.000000</td>\n",
       "      <td>0.085558</td>\n",
       "      <td>0.000000</td>\n",
       "      <td>0.014062</td>\n",
       "      <td>0.000000</td>\n",
       "      <td>0.000000</td>\n",
       "      <td>0.057506</td>\n",
       "      <td>0.027684</td>\n",
       "      <td>0.000000</td>\n",
       "      <td>0.000000</td>\n",
       "    </tr>\n",
       "    <tr>\n",
       "      <th>2210411M09Rik</th>\n",
       "      <td>0.000000</td>\n",
       "      <td>0.000000</td>\n",
       "      <td>0.000000</td>\n",
       "      <td>0.000000</td>\n",
       "      <td>0.000000</td>\n",
       "      <td>0.000000</td>\n",
       "      <td>0.000000</td>\n",
       "      <td>0.000000</td>\n",
       "      <td>0.000000</td>\n",
       "      <td>0.000000</td>\n",
       "      <td>...</td>\n",
       "      <td>0.000000</td>\n",
       "      <td>0.000000</td>\n",
       "      <td>0.000000</td>\n",
       "      <td>0.000000</td>\n",
       "      <td>0.000000</td>\n",
       "      <td>0.000000</td>\n",
       "      <td>0.028196</td>\n",
       "      <td>0.000000</td>\n",
       "      <td>0.000000</td>\n",
       "      <td>0.000000</td>\n",
       "    </tr>\n",
       "    <tr>\n",
       "      <th>2610035D17Rik</th>\n",
       "      <td>0.116407</td>\n",
       "      <td>0.343902</td>\n",
       "      <td>0.076082</td>\n",
       "      <td>0.445522</td>\n",
       "      <td>0.105774</td>\n",
       "      <td>0.222690</td>\n",
       "      <td>0.000000</td>\n",
       "      <td>0.090479</td>\n",
       "      <td>0.328456</td>\n",
       "      <td>0.307445</td>\n",
       "      <td>...</td>\n",
       "      <td>0.350622</td>\n",
       "      <td>0.546727</td>\n",
       "      <td>0.261444</td>\n",
       "      <td>0.749499</td>\n",
       "      <td>0.386467</td>\n",
       "      <td>0.332733</td>\n",
       "      <td>0.534031</td>\n",
       "      <td>0.101193</td>\n",
       "      <td>0.317929</td>\n",
       "      <td>0.271799</td>\n",
       "    </tr>\n",
       "    <tr>\n",
       "      <th>2810030D12Rik</th>\n",
       "      <td>0.000000</td>\n",
       "      <td>0.000000</td>\n",
       "      <td>0.040889</td>\n",
       "      <td>0.000000</td>\n",
       "      <td>0.000000</td>\n",
       "      <td>0.000000</td>\n",
       "      <td>0.000000</td>\n",
       "      <td>0.000000</td>\n",
       "      <td>0.000000</td>\n",
       "      <td>0.000000</td>\n",
       "      <td>...</td>\n",
       "      <td>0.000000</td>\n",
       "      <td>0.000000</td>\n",
       "      <td>0.000000</td>\n",
       "      <td>0.000000</td>\n",
       "      <td>0.000000</td>\n",
       "      <td>0.000000</td>\n",
       "      <td>0.000000</td>\n",
       "      <td>0.000000</td>\n",
       "      <td>0.000000</td>\n",
       "      <td>0.000000</td>\n",
       "    </tr>\n",
       "    <tr>\n",
       "      <th>2900026A02Rik</th>\n",
       "      <td>0.257301</td>\n",
       "      <td>0.081348</td>\n",
       "      <td>0.101401</td>\n",
       "      <td>0.192018</td>\n",
       "      <td>0.034432</td>\n",
       "      <td>0.246808</td>\n",
       "      <td>0.205058</td>\n",
       "      <td>0.101401</td>\n",
       "      <td>0.057482</td>\n",
       "      <td>0.081348</td>\n",
       "      <td>...</td>\n",
       "      <td>0.041145</td>\n",
       "      <td>0.358309</td>\n",
       "      <td>0.052159</td>\n",
       "      <td>0.146001</td>\n",
       "      <td>0.068547</td>\n",
       "      <td>0.041145</td>\n",
       "      <td>0.141647</td>\n",
       "      <td>0.102852</td>\n",
       "      <td>0.041145</td>\n",
       "      <td>0.041145</td>\n",
       "    </tr>\n",
       "  </tbody>\n",
       "</table>\n",
       "<p>5 rows × 34774 columns</p>\n",
       "</div>"
      ],
      "text/plain": [
       "                  0         1         2         3         4         5      \\\n",
       "gene                                                                        \n",
       "1810011O10Rik  0.000000  0.000000  0.000000  0.024691  0.000000  0.000000   \n",
       "2210411M09Rik  0.000000  0.000000  0.000000  0.000000  0.000000  0.000000   \n",
       "2610035D17Rik  0.116407  0.343902  0.076082  0.445522  0.105774  0.222690   \n",
       "2810030D12Rik  0.000000  0.000000  0.040889  0.000000  0.000000  0.000000   \n",
       "2900026A02Rik  0.257301  0.081348  0.101401  0.192018  0.034432  0.246808   \n",
       "\n",
       "                  6         7         8         9      ...     34764  \\\n",
       "gene                                                   ...             \n",
       "1810011O10Rik  0.000000  0.000000  0.024135  0.000000  ...  0.000000   \n",
       "2210411M09Rik  0.000000  0.000000  0.000000  0.000000  ...  0.000000   \n",
       "2610035D17Rik  0.000000  0.090479  0.328456  0.307445  ...  0.350622   \n",
       "2810030D12Rik  0.000000  0.000000  0.000000  0.000000  ...  0.000000   \n",
       "2900026A02Rik  0.205058  0.101401  0.057482  0.081348  ...  0.041145   \n",
       "\n",
       "                  34765     34766     34767     34768     34769     34770  \\\n",
       "gene                                                                        \n",
       "1810011O10Rik  0.085558  0.000000  0.014062  0.000000  0.000000  0.057506   \n",
       "2210411M09Rik  0.000000  0.000000  0.000000  0.000000  0.000000  0.028196   \n",
       "2610035D17Rik  0.546727  0.261444  0.749499  0.386467  0.332733  0.534031   \n",
       "2810030D12Rik  0.000000  0.000000  0.000000  0.000000  0.000000  0.000000   \n",
       "2900026A02Rik  0.358309  0.052159  0.146001  0.068547  0.041145  0.141647   \n",
       "\n",
       "                  34771     34772     34773  \n",
       "gene                                         \n",
       "1810011O10Rik  0.027684  0.000000  0.000000  \n",
       "2210411M09Rik  0.000000  0.000000  0.000000  \n",
       "2610035D17Rik  0.101193  0.317929  0.271799  \n",
       "2810030D12Rik  0.000000  0.000000  0.000000  \n",
       "2900026A02Rik  0.102852  0.041145  0.041145  \n",
       "\n",
       "[5 rows x 34774 columns]"
      ]
     },
     "execution_count": 268,
     "metadata": {},
     "output_type": "execute_result"
    }
   ],
   "source": [
    "matsmoothvals.head()"
   ]
  },
  {
   "cell_type": "code",
   "execution_count": 269,
   "metadata": {},
   "outputs": [
    {
     "data": {
      "text/plain": [
       "857"
      ]
     },
     "execution_count": 269,
     "metadata": {},
     "output_type": "execute_result"
    }
   ],
   "source": [
    "len(matsmoothvals)"
   ]
  },
  {
   "cell_type": "code",
   "execution_count": 270,
   "metadata": {},
   "outputs": [],
   "source": [
    "matsmoothvals.to_csv('smoothed_rna_table_my_umap.csv')"
   ]
  },
  {
   "cell_type": "code",
   "execution_count": 357,
   "metadata": {},
   "outputs": [],
   "source": [
    "cell_ids.to_csv('foxa1_data/smoothed_dorc_columns_G2.csv', header = False)"
   ]
  },
  {
   "cell_type": "markdown",
   "metadata": {},
   "source": [
    "# get dorc scores in a usable format"
   ]
  },
  {
   "cell_type": "code",
   "execution_count": 24,
   "metadata": {},
   "outputs": [],
   "source": [
    "torev= smoothed_dorc['cell'].tolist()\n"
   ]
  },
  {
   "cell_type": "code",
   "execution_count": 25,
   "metadata": {},
   "outputs": [],
   "source": [
    "ttl = []\n",
    "for num in range(len(cell_ids)):\n",
    "    current = [i[num] for i in torev]\n",
    "    ttl.append(current)"
   ]
  },
  {
   "cell_type": "code",
   "execution_count": 26,
   "metadata": {},
   "outputs": [
    {
     "data": {
      "text/html": [
       "<div>\n",
       "<style scoped>\n",
       "    .dataframe tbody tr th:only-of-type {\n",
       "        vertical-align: middle;\n",
       "    }\n",
       "\n",
       "    .dataframe tbody tr th {\n",
       "        vertical-align: top;\n",
       "    }\n",
       "\n",
       "    .dataframe thead th {\n",
       "        text-align: right;\n",
       "    }\n",
       "</style>\n",
       "<table border=\"1\" class=\"dataframe\">\n",
       "  <thead>\n",
       "    <tr style=\"text-align: right;\">\n",
       "      <th></th>\n",
       "      <th>gene</th>\n",
       "      <th>cell</th>\n",
       "    </tr>\n",
       "  </thead>\n",
       "  <tbody>\n",
       "    <tr>\n",
       "      <th>0</th>\n",
       "      <td>R1.01.R2.01.R3.06.P1.07</td>\n",
       "      <td>[0.35758890270808635, 0.9269752628817349, 0.26...</td>\n",
       "    </tr>\n",
       "    <tr>\n",
       "      <th>1</th>\n",
       "      <td>R1.01.R2.03.R3.68.P1.07</td>\n",
       "      <td>[0.48813308295675284, 0.5161800576539798, 0.28...</td>\n",
       "    </tr>\n",
       "    <tr>\n",
       "      <th>2</th>\n",
       "      <td>R1.01.R2.05.R3.15.P1.05</td>\n",
       "      <td>[0.16342593772709105, 0.6361023923212689, 0.24...</td>\n",
       "    </tr>\n",
       "    <tr>\n",
       "      <th>3</th>\n",
       "      <td>R1.01.R2.05.R3.40.P1.07</td>\n",
       "      <td>[0.34969012536097777, 0.9331951688499204, 0.22...</td>\n",
       "    </tr>\n",
       "    <tr>\n",
       "      <th>4</th>\n",
       "      <td>R1.01.R2.05.R3.49.P1.07</td>\n",
       "      <td>[0.37514884698894024, 0.5516189074912695, 0.12...</td>\n",
       "    </tr>\n",
       "  </tbody>\n",
       "</table>\n",
       "</div>"
      ],
      "text/plain": [
       "                      gene                                               cell\n",
       "0  R1.01.R2.01.R3.06.P1.07  [0.35758890270808635, 0.9269752628817349, 0.26...\n",
       "1  R1.01.R2.03.R3.68.P1.07  [0.48813308295675284, 0.5161800576539798, 0.28...\n",
       "2  R1.01.R2.05.R3.15.P1.05  [0.16342593772709105, 0.6361023923212689, 0.24...\n",
       "3  R1.01.R2.05.R3.40.P1.07  [0.34969012536097777, 0.9331951688499204, 0.22...\n",
       "4  R1.01.R2.05.R3.49.P1.07  [0.37514884698894024, 0.5516189074912695, 0.12..."
      ]
     },
     "execution_count": 26,
     "metadata": {},
     "output_type": "execute_result"
    }
   ],
   "source": [
    "torev = pd.DataFrame(revdorc)\n",
    "torev['cell'] = [i for i in ttl]\n",
    "torev.columns = ['gene', 'cell']\n",
    "torev.head()"
   ]
  },
  {
   "cell_type": "markdown",
   "metadata": {},
   "source": [
    "# get rna scores in a usable format"
   ]
  },
  {
   "cell_type": "code",
   "execution_count": 192,
   "metadata": {
    "scrolled": true
   },
   "outputs": [
    {
     "data": {
      "text/html": [
       "<div>\n",
       "<style scoped>\n",
       "    .dataframe tbody tr th:only-of-type {\n",
       "        vertical-align: middle;\n",
       "    }\n",
       "\n",
       "    .dataframe tbody tr th {\n",
       "        vertical-align: top;\n",
       "    }\n",
       "\n",
       "    .dataframe thead th {\n",
       "        text-align: right;\n",
       "    }\n",
       "</style>\n",
       "<table border=\"1\" class=\"dataframe\">\n",
       "  <thead>\n",
       "    <tr style=\"text-align: right;\">\n",
       "      <th></th>\n",
       "      <th>gene</th>\n",
       "      <th>cell</th>\n",
       "    </tr>\n",
       "    <tr>\n",
       "      <th>gene</th>\n",
       "      <th></th>\n",
       "      <th></th>\n",
       "    </tr>\n",
       "  </thead>\n",
       "  <tbody>\n",
       "    <tr>\n",
       "      <th>R1.01.R2.01.R3.06.P1.07</th>\n",
       "      <td>R1.01.R2.01.R3.06.P1.07</td>\n",
       "      <td>[0.2797303788279889, 1.3773942882283392, 0.142...</td>\n",
       "    </tr>\n",
       "    <tr>\n",
       "      <th>R1.01.R2.03.R3.68.P1.07</th>\n",
       "      <td>R1.01.R2.03.R3.68.P1.07</td>\n",
       "      <td>[0.4499995987279155, 0.9295145369521522, 0.237...</td>\n",
       "    </tr>\n",
       "    <tr>\n",
       "      <th>R1.01.R2.05.R3.15.P1.05</th>\n",
       "      <td>R1.01.R2.05.R3.15.P1.05</td>\n",
       "      <td>[0.1396919136737811, 0.7086278116998733, 0.315...</td>\n",
       "    </tr>\n",
       "    <tr>\n",
       "      <th>R1.01.R2.05.R3.40.P1.07</th>\n",
       "      <td>R1.01.R2.05.R3.40.P1.07</td>\n",
       "      <td>[0.4404529519612967, 0.7793095804823703, 0.316...</td>\n",
       "    </tr>\n",
       "    <tr>\n",
       "      <th>R1.01.R2.05.R3.49.P1.07</th>\n",
       "      <td>R1.01.R2.05.R3.49.P1.07</td>\n",
       "      <td>[0.22837919788698074, 0.6689797832693414, 0.20...</td>\n",
       "    </tr>\n",
       "  </tbody>\n",
       "</table>\n",
       "</div>"
      ],
      "text/plain": [
       "                                            gene  \\\n",
       "gene                                               \n",
       "R1.01.R2.01.R3.06.P1.07  R1.01.R2.01.R3.06.P1.07   \n",
       "R1.01.R2.03.R3.68.P1.07  R1.01.R2.03.R3.68.P1.07   \n",
       "R1.01.R2.05.R3.15.P1.05  R1.01.R2.05.R3.15.P1.05   \n",
       "R1.01.R2.05.R3.40.P1.07  R1.01.R2.05.R3.40.P1.07   \n",
       "R1.01.R2.05.R3.49.P1.07  R1.01.R2.05.R3.49.P1.07   \n",
       "\n",
       "                                                                      cell  \n",
       "gene                                                                        \n",
       "R1.01.R2.01.R3.06.P1.07  [0.2797303788279889, 1.3773942882283392, 0.142...  \n",
       "R1.01.R2.03.R3.68.P1.07  [0.4499995987279155, 0.9295145369521522, 0.237...  \n",
       "R1.01.R2.05.R3.15.P1.05  [0.1396919136737811, 0.7086278116998733, 0.315...  \n",
       "R1.01.R2.05.R3.40.P1.07  [0.4404529519612967, 0.7793095804823703, 0.316...  \n",
       "R1.01.R2.05.R3.49.P1.07  [0.22837919788698074, 0.6689797832693414, 0.20...  "
      ]
     },
     "execution_count": 192,
     "metadata": {},
     "output_type": "execute_result"
    }
   ],
   "source": [
    "torna= smoothed_dorc['cell'].tolist()\n",
    "ttl = []\n",
    "for num in range(len(cell_ids)):\n",
    "    current = [i[num] for i in torna]\n",
    "    ttl.append(current)\n",
    "torna = pd.DataFrame(revdorc)\n",
    "torna['cell'] = [i for i in ttl]\n",
    "torna.columns = ['gene', 'cell']\n",
    "torna.index = torna['gene']\n",
    "torna.head()"
   ]
  },
  {
   "cell_type": "markdown",
   "metadata": {},
   "source": [
    "# find the top half of differentially expressed genes"
   ]
  },
  {
   "cell_type": "code",
   "execution_count": null,
   "metadata": {},
   "outputs": [],
   "source": [
    "x = [np.log(np.mean(row['cell'])) for i, row in torev"
   ]
  },
  {
   "cell_type": "markdown",
   "metadata": {},
   "source": [
    "# get the 50 knns of each in gene column from the sparse matrix, perform 50 correlations choose 10 best (this one takes a while ~20 - 30 min for 20k genes) - need to edit for pearson correlations accross all cells"
   ]
  },
  {
   "cell_type": "code",
   "execution_count": 28,
   "metadata": {},
   "outputs": [],
   "source": [
    "def GetNeighbors(cellname, knn):\n",
    "    ids = knn.get(cellname)\n",
    "    toret = [cell_ids[i] for i in ids]\n",
    "    return toret"
   ]
  },
  {
   "cell_type": "code",
   "execution_count": 31,
   "metadata": {},
   "outputs": [
    {
     "name": "stdout",
     "output_type": "stream",
     "text": [
      "34774\n",
      "0\n",
      "100\n",
      "200\n",
      "300\n",
      "400\n",
      "500\n",
      "600\n",
      "700\n",
      "800\n",
      "900\n",
      "1000\n",
      "1100\n",
      "1200\n",
      "1300\n",
      "1400\n",
      "1500\n",
      "1600\n",
      "1700\n",
      "1800\n",
      "1900\n",
      "2000\n",
      "2100\n",
      "2200\n",
      "2300\n",
      "2400\n",
      "2500\n",
      "2600\n",
      "2700\n",
      "2800\n",
      "2900\n",
      "3000\n",
      "3100\n",
      "3200\n",
      "3300\n",
      "3400\n",
      "3500\n",
      "3600\n",
      "3700\n",
      "3800\n",
      "3900\n",
      "4000\n",
      "4100\n",
      "4200\n",
      "4300\n",
      "4400\n",
      "4500\n",
      "4600\n",
      "4700\n",
      "4800\n",
      "4900\n",
      "5000\n",
      "5100\n",
      "5200\n",
      "5300\n",
      "5400\n",
      "5500\n",
      "5600\n",
      "5700\n",
      "5800\n",
      "5900\n",
      "6000\n",
      "6100\n",
      "6200\n",
      "6300\n",
      "6400\n",
      "6500\n",
      "6600\n",
      "6700\n",
      "6800\n",
      "6900\n",
      "7000\n",
      "7100\n",
      "7200\n",
      "7300\n",
      "7400\n",
      "7500\n",
      "7600\n",
      "7700\n",
      "7800\n",
      "7900\n",
      "8000\n",
      "8100\n",
      "8200\n",
      "8300\n",
      "8400\n",
      "8500\n",
      "8600\n",
      "8700\n",
      "8800\n",
      "8900\n",
      "9000\n",
      "9100\n",
      "9200\n",
      "9300\n",
      "9400\n",
      "9500\n",
      "9600\n",
      "9700\n",
      "9800\n",
      "9900\n",
      "10000\n",
      "10100\n",
      "10200\n",
      "10300\n",
      "10400\n",
      "10500\n",
      "10600\n",
      "10700\n",
      "10800\n",
      "10900\n",
      "11000\n",
      "11100\n",
      "11200\n",
      "11300\n",
      "11400\n",
      "11500\n",
      "11600\n",
      "11700\n",
      "11800\n",
      "11900\n",
      "12000\n",
      "12100\n",
      "12200\n",
      "12300\n",
      "12400\n",
      "12500\n",
      "12600\n",
      "12700\n",
      "12800\n",
      "12900\n",
      "13000\n",
      "13100\n",
      "13200\n",
      "13300\n",
      "13400\n",
      "13500\n",
      "13600\n",
      "13700\n",
      "13800\n",
      "13900\n",
      "14000\n",
      "14100\n",
      "14200\n",
      "14300\n",
      "14400\n",
      "14500\n",
      "14600\n",
      "14700\n",
      "14800\n",
      "14900\n",
      "15000\n",
      "15100\n",
      "15200\n",
      "15300\n",
      "15400\n",
      "15500\n",
      "15600\n",
      "15700\n",
      "15800\n",
      "15900\n",
      "16000\n",
      "16100\n",
      "16200\n",
      "16300\n",
      "16400\n",
      "16500\n",
      "16600\n",
      "16700\n",
      "16800\n",
      "16900\n",
      "17000\n",
      "17100\n",
      "17200\n",
      "17300\n",
      "17400\n",
      "17500\n",
      "17600\n",
      "17700\n",
      "17800\n",
      "17900\n",
      "18000\n",
      "18100\n",
      "18200\n",
      "18300\n",
      "18400\n",
      "18500\n",
      "18600\n",
      "18700\n",
      "18800\n",
      "18900\n",
      "19000\n",
      "19100\n",
      "19200\n",
      "19300\n",
      "19400\n",
      "19500\n",
      "19600\n",
      "19700\n",
      "19800\n",
      "19900\n",
      "20000\n",
      "20100\n",
      "20200\n",
      "20300\n",
      "20400\n",
      "20500\n",
      "20600\n",
      "20700\n",
      "20800\n",
      "20900\n",
      "21000\n",
      "21100\n",
      "21200\n",
      "21300\n",
      "21400\n",
      "21500\n",
      "21600\n",
      "21700\n",
      "21800\n",
      "21900\n",
      "22000\n",
      "22100\n",
      "22200\n",
      "22300\n",
      "22400\n",
      "22500\n",
      "22600\n",
      "22700\n",
      "22800\n",
      "22900\n",
      "23000\n",
      "23100\n",
      "23200\n",
      "23300\n",
      "23400\n",
      "23500\n",
      "23600\n",
      "23700\n",
      "23800\n",
      "23900\n",
      "24000\n",
      "24100\n",
      "24200\n",
      "24300\n",
      "24400\n",
      "24500\n",
      "24600\n",
      "24700\n",
      "24800\n",
      "24900\n",
      "25000\n",
      "25100\n",
      "25200\n",
      "25300\n",
      "25400\n",
      "25500\n",
      "25600\n",
      "25700\n",
      "25800\n",
      "25900\n",
      "26000\n",
      "26100\n",
      "26200\n",
      "26300\n",
      "26400\n",
      "26500\n",
      "26600\n",
      "26700\n",
      "26800\n",
      "26900\n",
      "27000\n",
      "27100\n",
      "27200\n",
      "27300\n",
      "27400\n",
      "27500\n",
      "27600\n",
      "27700\n",
      "27800\n",
      "27900\n",
      "28000\n",
      "28100\n",
      "28200\n",
      "28300\n",
      "28400\n",
      "28500\n",
      "28600\n",
      "28700\n",
      "28800\n",
      "28900\n",
      "29000\n",
      "29100\n",
      "29200\n",
      "29300\n",
      "29400\n",
      "29500\n",
      "29600\n",
      "29700\n",
      "29800\n",
      "29900\n",
      "30000\n",
      "30100\n",
      "30200\n",
      "30300\n",
      "30400\n",
      "30500\n",
      "30600\n",
      "30700\n",
      "30800\n",
      "30900\n",
      "31000\n",
      "31100\n",
      "31200\n",
      "31300\n",
      "31400\n",
      "31500\n",
      "31600\n",
      "31700\n",
      "31800\n",
      "31900\n",
      "32000\n",
      "32100\n",
      "32200\n",
      "32300\n",
      "32400\n",
      "32500\n",
      "32600\n",
      "32700\n",
      "32800\n",
      "32900\n",
      "33000\n",
      "33100\n",
      "33200\n",
      "33300\n",
      "33400\n",
      "33500\n",
      "33600\n",
      "33700\n",
      "33800\n",
      "33900\n",
      "34000\n",
      "34100\n",
      "34200\n",
      "34300\n",
      "34400\n",
      "34500\n",
      "34600\n",
      "34700\n"
     ]
    }
   ],
   "source": [
    "newknn = {}\n",
    "print(len(torev['gene']))\n",
    "counter = 0\n",
    "for i in torev['gene']:\n",
    "    nn = GetNeighbors(i, topicdict)\n",
    "    #we now have list of cell ids to perform correlations with\n",
    "    rnaspace = torna.loc[nn]['cell']#.tolist()\n",
    "    celllist = rnaspace.index\n",
    "    rnaspace = rnaspace.tolist()\n",
    "    chromatin_space = torev.loc[i]['cell']\n",
    "    spearresults = [stats.pearsonr(x = chromatin_space, y = rna)[0] for rna in rnaspace]\n",
    "    speardf = pd.DataFrame(zip(celllist,spearresults))\n",
    "    speardf.columns = ['cell', 'spearman']\n",
    "    speardf = speardf.sort_values(['spearman'], ascending = False).head(10)\n",
    "    newknn[i] = speardf['cell'].tolist()\n",
    "    if counter % 100 == 0:\n",
    "        print(counter)\n",
    "    counter += 1"
   ]
  },
  {
   "cell_type": "code",
   "execution_count": null,
   "metadata": {},
   "outputs": [],
   "source": [
    "newknn = {}\n",
    "for i in torev['gene']:\n",
    "    nn = GetNeighbors(i, topicdict)\n",
    "    #we now have list of cell ids to perform correlations with\n",
    "    rnaspace = torna.loc[nn]['cell']#.tolist()\n",
    "    celllist = rnaspace.index\n",
    "    rnaspace = rnaspace.tolist()\n",
    "    chromatin_space = torev.loc[i]['cell']\n",
    "    spearresults = [stats.spearmanr(chromatin_space, b = rna, axis = 1)[0] for rna in rnaspace]\n",
    "    speardf = pd.DataFrame(zip(celllist,spearresults))\n",
    "    speardf.columns = ['cell', 'spearman']\n",
    "    speardf = speardf.sort_values(['spearman'], ascending = False).head(10)\n",
    "    newknn[i] = speardf['cell'].tolist()"
   ]
  },
  {
   "cell_type": "markdown",
   "metadata": {},
   "source": [
    "# with our new knn graph calculate the distance between each cell and its neighbors using atac seq umap coordinates."
   ]
  },
  {
   "cell_type": "code",
   "execution_count": 32,
   "metadata": {
    "scrolled": true
   },
   "outputs": [
    {
     "data": {
      "text/html": [
       "<div>\n",
       "<style scoped>\n",
       "    .dataframe tbody tr th:only-of-type {\n",
       "        vertical-align: middle;\n",
       "    }\n",
       "\n",
       "    .dataframe tbody tr th {\n",
       "        vertical-align: top;\n",
       "    }\n",
       "\n",
       "    .dataframe thead th {\n",
       "        text-align: right;\n",
       "    }\n",
       "</style>\n",
       "<table border=\"1\" class=\"dataframe\">\n",
       "  <thead>\n",
       "    <tr style=\"text-align: right;\">\n",
       "      <th></th>\n",
       "      <th>UMAP1</th>\n",
       "      <th>UMAP2</th>\n",
       "    </tr>\n",
       "  </thead>\n",
       "  <tbody>\n",
       "    <tr>\n",
       "      <th>R1.01.R2.01.R3.06.P1.07</th>\n",
       "      <td>6.594912</td>\n",
       "      <td>-9.484761</td>\n",
       "    </tr>\n",
       "    <tr>\n",
       "      <th>R1.01.R2.03.R3.68.P1.07</th>\n",
       "      <td>6.102664</td>\n",
       "      <td>-9.647321</td>\n",
       "    </tr>\n",
       "    <tr>\n",
       "      <th>R1.01.R2.05.R3.15.P1.05</th>\n",
       "      <td>6.693468</td>\n",
       "      <td>-9.509410</td>\n",
       "    </tr>\n",
       "    <tr>\n",
       "      <th>R1.01.R2.05.R3.40.P1.07</th>\n",
       "      <td>6.464937</td>\n",
       "      <td>-9.584708</td>\n",
       "    </tr>\n",
       "    <tr>\n",
       "      <th>R1.01.R2.05.R3.49.P1.07</th>\n",
       "      <td>6.867137</td>\n",
       "      <td>-9.760105</td>\n",
       "    </tr>\n",
       "  </tbody>\n",
       "</table>\n",
       "</div>"
      ],
      "text/plain": [
       "                            UMAP1     UMAP2\n",
       "R1.01.R2.01.R3.06.P1.07  6.594912 -9.484761\n",
       "R1.01.R2.03.R3.68.P1.07  6.102664 -9.647321\n",
       "R1.01.R2.05.R3.15.P1.05  6.693468 -9.509410\n",
       "R1.01.R2.05.R3.40.P1.07  6.464937 -9.584708\n",
       "R1.01.R2.05.R3.49.P1.07  6.867137 -9.760105"
      ]
     },
     "execution_count": 32,
     "metadata": {},
     "output_type": "execute_result"
    }
   ],
   "source": [
    "#read in atac seq umap coordinates\n",
    "atac_umap = pd.read_csv('umap55top.tsv', sep = '\\t')\n",
    "atac_umap.head()"
   ]
  },
  {
   "cell_type": "code",
   "execution_count": 33,
   "metadata": {},
   "outputs": [],
   "source": [
    "def GetUmaps(nb):\n",
    "    umaps = []\n",
    "    for i in nb:\n",
    "        cell_name = atac_umap.loc[i]\n",
    "        umaps.append((cell_name['UMAP1'], cell_name['UMAP2']))\n",
    "    return umaps"
   ]
  },
  {
   "cell_type": "code",
   "execution_count": 34,
   "metadata": {},
   "outputs": [],
   "source": [
    "import math\n",
    "def GetEuclideanDistance(coord1, coord2):\n",
    "    coord1_x = coord1[0]\n",
    "    coord1_y = coord1[1]\n",
    "    coord2_x = coord2[0]\n",
    "    coord2_y = coord2[1]\n",
    "    distance = math.sqrt(((coord1_x - coord2_x)**2)+((coord1_y-coord2_y)**2))\n",
    "    return distance\n",
    "    "
   ]
  },
  {
   "cell_type": "code",
   "execution_count": 35,
   "metadata": {},
   "outputs": [],
   "source": [
    "def FindCentroid(coordset):\n",
    "    return np.mean(coordset, axis=0)"
   ]
  },
  {
   "cell_type": "code",
   "execution_count": 112,
   "metadata": {},
   "outputs": [],
   "source": [
    "#we need to have a umap matrix where every cell has its coordinates\n",
    "arrowlength = []\n",
    "endingpoint = []\n",
    "for i in newknn:\n",
    "    nbs= newknn.get(i)\n",
    "    #umaps is a list of the umap coordinates of the neighbors.\n",
    "    umaps = GetUmaps(nbs)\n",
    "    distlist = []\n",
    "    centroid = FindCentroid(umaps)\n",
    "    endingpoint.append(centroid)\n",
    "    dist = GetEuclideanDistance(centroid, GetUmaps([i])[0])\n",
    "    arrowlength.append(dist)\n",
    "    "
   ]
  },
  {
   "cell_type": "code",
   "execution_count": 113,
   "metadata": {},
   "outputs": [],
   "source": [
    "arrowlength = pd.DataFrame(arrowlength)\n",
    "t1 = pd.Series([i for i in newknn])\n",
    "t2 = pd.Series([GetUmaps([i])[0] for i in newknn])\n",
    "arrowlength['startingCell'] = t1\n",
    "arrowlength['startingPoint'] = t2\n",
    "arrowlength['endingPoint'] = pd.Series(endingpoint)"
   ]
  },
  {
   "cell_type": "code",
   "execution_count": 114,
   "metadata": {},
   "outputs": [
    {
     "data": {
      "text/html": [
       "<div>\n",
       "<style scoped>\n",
       "    .dataframe tbody tr th:only-of-type {\n",
       "        vertical-align: middle;\n",
       "    }\n",
       "\n",
       "    .dataframe tbody tr th {\n",
       "        vertical-align: top;\n",
       "    }\n",
       "\n",
       "    .dataframe thead th {\n",
       "        text-align: right;\n",
       "    }\n",
       "</style>\n",
       "<table border=\"1\" class=\"dataframe\">\n",
       "  <thead>\n",
       "    <tr style=\"text-align: right;\">\n",
       "      <th></th>\n",
       "      <th>distance</th>\n",
       "      <th>startingCell</th>\n",
       "      <th>startingPoint</th>\n",
       "      <th>endPoint</th>\n",
       "    </tr>\n",
       "  </thead>\n",
       "  <tbody>\n",
       "    <tr>\n",
       "      <th>0</th>\n",
       "      <td>0.250741</td>\n",
       "      <td>R1.01.R2.01.R3.06.P1.07</td>\n",
       "      <td>(6.59491209996567, -9.48476083204823)</td>\n",
       "      <td>(6.369304824651999, -9.594178308771118)</td>\n",
       "    </tr>\n",
       "    <tr>\n",
       "      <th>1</th>\n",
       "      <td>0.227026</td>\n",
       "      <td>R1.01.R2.03.R3.68.P1.07</td>\n",
       "      <td>(6.102664354598191, -9.64732072932513)</td>\n",
       "      <td>(6.305649766520302, -9.748995666278326)</td>\n",
       "    </tr>\n",
       "    <tr>\n",
       "      <th>2</th>\n",
       "      <td>0.204265</td>\n",
       "      <td>R1.01.R2.05.R3.15.P1.05</td>\n",
       "      <td>(6.693468208827361, -9.509410383229019)</td>\n",
       "      <td>(6.615385630633543, -9.698162465291867)</td>\n",
       "    </tr>\n",
       "    <tr>\n",
       "      <th>3</th>\n",
       "      <td>0.208040</td>\n",
       "      <td>R1.01.R2.05.R3.40.P1.07</td>\n",
       "      <td>(6.46493742062397, -9.58470817755299)</td>\n",
       "      <td>(6.5410346587015535, -9.391085319924581)</td>\n",
       "    </tr>\n",
       "    <tr>\n",
       "      <th>4</th>\n",
       "      <td>0.210339</td>\n",
       "      <td>R1.01.R2.05.R3.49.P1.07</td>\n",
       "      <td>(6.867136780829201, -9.76010490038398)</td>\n",
       "      <td>(6.687321326984599, -9.869233699888357)</td>\n",
       "    </tr>\n",
       "  </tbody>\n",
       "</table>\n",
       "</div>"
      ],
      "text/plain": [
       "   distance             startingCell                            startingPoint  \\\n",
       "0  0.250741  R1.01.R2.01.R3.06.P1.07    (6.59491209996567, -9.48476083204823)   \n",
       "1  0.227026  R1.01.R2.03.R3.68.P1.07   (6.102664354598191, -9.64732072932513)   \n",
       "2  0.204265  R1.01.R2.05.R3.15.P1.05  (6.693468208827361, -9.509410383229019)   \n",
       "3  0.208040  R1.01.R2.05.R3.40.P1.07    (6.46493742062397, -9.58470817755299)   \n",
       "4  0.210339  R1.01.R2.05.R3.49.P1.07   (6.867136780829201, -9.76010490038398)   \n",
       "\n",
       "                                   endPoint  \n",
       "0   (6.369304824651999, -9.594178308771118)  \n",
       "1   (6.305649766520302, -9.748995666278326)  \n",
       "2   (6.615385630633543, -9.698162465291867)  \n",
       "3  (6.5410346587015535, -9.391085319924581)  \n",
       "4   (6.687321326984599, -9.869233699888357)  "
      ]
     },
     "execution_count": 114,
     "metadata": {},
     "output_type": "execute_result"
    }
   ],
   "source": [
    "arrowlength.columns = ['distance', 'startingCell', 'startingPoint', 'endingPoint']\n",
    "arrowlength['endPoint'] = tuple(arrowlength['endingPoint'])\n",
    "arrowlength = arrowlength[['distance', 'startingCell', 'startingPoint', 'endPoint']]\n",
    "arrowlength.head()"
   ]
  },
  {
   "cell_type": "markdown",
   "metadata": {},
   "source": [
    "# plot arrow length distribution"
   ]
  },
  {
   "cell_type": "code",
   "execution_count": 115,
   "metadata": {},
   "outputs": [],
   "source": [
    "arrowlength = arrowlength[arrowlength['distance'].isin(sorted((arrowlength['distance'].tolist()), key = lambda x:float(x))[0:int(len(arrowlength)*0.7)])]"
   ]
  },
  {
   "cell_type": "code",
   "execution_count": 116,
   "metadata": {},
   "outputs": [],
   "source": [
    "arrowlength = arrowlength.reset_index(drop=True)"
   ]
  },
  {
   "cell_type": "code",
   "execution_count": 117,
   "metadata": {
    "scrolled": true
   },
   "outputs": [
    {
     "data": {
      "text/plain": [
       "0.2556351115673623"
      ]
     },
     "execution_count": 117,
     "metadata": {},
     "output_type": "execute_result"
    }
   ],
   "source": [
    "np.mean(np.sort(arrowlength['distance'].tolist()))"
   ]
  },
  {
   "cell_type": "code",
   "execution_count": 118,
   "metadata": {},
   "outputs": [
    {
     "data": {
      "image/png": "[encoded data removed]",
      "text/plain": [
       "<Figure size 1440x1440 with 1 Axes>"
      ]
     },
     "metadata": {
      "needs_background": "light"
     },
     "output_type": "display_data"
    }
   ],
   "source": [
    "import pandas as pd\n",
    "import matplotlib.pyplot as plt\n",
    "\n",
    "commutes = arrowlength['distance']\n",
    "\n",
    "commutes.plot.hist(grid=True, bins=100, rwidth=0.9,\n",
    "                   color='#607c8e')\n",
    "plt.title('Arrow Distribution')\n",
    "plt.xlabel('Arrow length')\n",
    "plt.ylabel('number of')\n",
    "plt.grid(axis='y', alpha=0.75)\n",
    "plt.show()"
   ]
  },
  {
   "cell_type": "markdown",
   "metadata": {},
   "source": [
    "# set normalization cap for the above plot"
   ]
  },
  {
   "cell_type": "code",
   "execution_count": 119,
   "metadata": {
    "scrolled": true
   },
   "outputs": [],
   "source": [
    "cap = max(arrowlength['distance'])\n",
    "arrowlength['newdistance'] = arrowlength['distance']\n",
    "arrowlength['newdistance'].values[arrowlength['newdistance'] > cap] = cap"
   ]
  },
  {
   "cell_type": "code",
   "execution_count": 120,
   "metadata": {},
   "outputs": [],
   "source": [
    "arrowlength['newdistance'] = arrowlength['newdistance']/(cap*3)"
   ]
  },
  {
   "cell_type": "code",
   "execution_count": 121,
   "metadata": {},
   "outputs": [],
   "source": [
    "coordinates = []\n",
    "for index, row in arrowlength.iterrows():\n",
    "    t = row['newdistance']/row['distance']\n",
    "    xcoord = ((1-t)*row['startingPoint'][0])+(t * row['endPoint'][0])\n",
    "    ycoord = ((1-t)*row['startingPoint'][1])+(t * row['endPoint'][1])\n",
    "    coords = (xcoord, ycoord)\n",
    "    coordinates.append(coords)\n",
    "arrowlength['new_endpoint'] = pd.Series(coordinates)"
   ]
  },
  {
   "cell_type": "code",
   "execution_count": 122,
   "metadata": {},
   "outputs": [
    {
     "data": {
      "text/html": [
       "<div>\n",
       "<style scoped>\n",
       "    .dataframe tbody tr th:only-of-type {\n",
       "        vertical-align: middle;\n",
       "    }\n",
       "\n",
       "    .dataframe tbody tr th {\n",
       "        vertical-align: top;\n",
       "    }\n",
       "\n",
       "    .dataframe thead th {\n",
       "        text-align: right;\n",
       "    }\n",
       "</style>\n",
       "<table border=\"1\" class=\"dataframe\">\n",
       "  <thead>\n",
       "    <tr style=\"text-align: right;\">\n",
       "      <th></th>\n",
       "      <th>distance</th>\n",
       "      <th>startingCell</th>\n",
       "      <th>startingPoint</th>\n",
       "      <th>endPoint</th>\n",
       "      <th>newdistance</th>\n",
       "      <th>new_endpoint</th>\n",
       "    </tr>\n",
       "  </thead>\n",
       "  <tbody>\n",
       "    <tr>\n",
       "      <th>0</th>\n",
       "      <td>0.250741</td>\n",
       "      <td>R1.01.R2.01.R3.06.P1.07</td>\n",
       "      <td>(6.59491209996567, -9.48476083204823)</td>\n",
       "      <td>(6.369304824651999, -9.594178308771118)</td>\n",
       "      <td>0.143834</td>\n",
       "      <td>(6.46549538835877, -9.547526760186464)</td>\n",
       "    </tr>\n",
       "    <tr>\n",
       "      <th>1</th>\n",
       "      <td>0.227026</td>\n",
       "      <td>R1.01.R2.03.R3.68.P1.07</td>\n",
       "      <td>(6.102664354598191, -9.64732072932513)</td>\n",
       "      <td>(6.305649766520302, -9.748995666278326)</td>\n",
       "      <td>0.130231</td>\n",
       "      <td>(6.219104325244562, -9.705645249113008)</td>\n",
       "    </tr>\n",
       "    <tr>\n",
       "      <th>2</th>\n",
       "      <td>0.204265</td>\n",
       "      <td>R1.01.R2.05.R3.15.P1.05</td>\n",
       "      <td>(6.693468208827361, -9.509410383229019)</td>\n",
       "      <td>(6.615385630633543, -9.698162465291867)</td>\n",
       "      <td>0.117174</td>\n",
       "      <td>(6.6486771421847495, -9.617685587278032)</td>\n",
       "    </tr>\n",
       "    <tr>\n",
       "      <th>3</th>\n",
       "      <td>0.208040</td>\n",
       "      <td>R1.01.R2.05.R3.40.P1.07</td>\n",
       "      <td>(6.46493742062397, -9.58470817755299)</td>\n",
       "      <td>(6.5410346587015535, -9.391085319924581)</td>\n",
       "      <td>0.119339</td>\n",
       "      <td>(6.508589622445369, -9.473638915751213)</td>\n",
       "    </tr>\n",
       "    <tr>\n",
       "      <th>4</th>\n",
       "      <td>0.210339</td>\n",
       "      <td>R1.01.R2.05.R3.49.P1.07</td>\n",
       "      <td>(6.867136780829201, -9.76010490038398)</td>\n",
       "      <td>(6.687321326984599, -9.869233699888357)</td>\n",
       "      <td>0.120659</td>\n",
       "      <td>(6.763987958610078, -9.82270523254893)</td>\n",
       "    </tr>\n",
       "  </tbody>\n",
       "</table>\n",
       "</div>"
      ],
      "text/plain": [
       "   distance             startingCell                            startingPoint  \\\n",
       "0  0.250741  R1.01.R2.01.R3.06.P1.07    (6.59491209996567, -9.48476083204823)   \n",
       "1  0.227026  R1.01.R2.03.R3.68.P1.07   (6.102664354598191, -9.64732072932513)   \n",
       "2  0.204265  R1.01.R2.05.R3.15.P1.05  (6.693468208827361, -9.509410383229019)   \n",
       "3  0.208040  R1.01.R2.05.R3.40.P1.07    (6.46493742062397, -9.58470817755299)   \n",
       "4  0.210339  R1.01.R2.05.R3.49.P1.07   (6.867136780829201, -9.76010490038398)   \n",
       "\n",
       "                                   endPoint  newdistance  \\\n",
       "0   (6.369304824651999, -9.594178308771118)     0.143834   \n",
       "1   (6.305649766520302, -9.748995666278326)     0.130231   \n",
       "2   (6.615385630633543, -9.698162465291867)     0.117174   \n",
       "3  (6.5410346587015535, -9.391085319924581)     0.119339   \n",
       "4   (6.687321326984599, -9.869233699888357)     0.120659   \n",
       "\n",
       "                               new_endpoint  \n",
       "0    (6.46549538835877, -9.547526760186464)  \n",
       "1   (6.219104325244562, -9.705645249113008)  \n",
       "2  (6.6486771421847495, -9.617685587278032)  \n",
       "3   (6.508589622445369, -9.473638915751213)  \n",
       "4    (6.763987958610078, -9.82270523254893)  "
      ]
     },
     "execution_count": 122,
     "metadata": {},
     "output_type": "execute_result"
    }
   ],
   "source": [
    "arrowlength.head()"
   ]
  },
  {
   "cell_type": "markdown",
   "metadata": {},
   "source": [
    "# smooth arrows for 15 knn"
   ]
  },
  {
   "cell_type": "code",
   "execution_count": 123,
   "metadata": {},
   "outputs": [],
   "source": [
    "arrowknn = arrowlength[['startingCell', 'startingPoint']]"
   ]
  },
  {
   "cell_type": "code",
   "execution_count": 124,
   "metadata": {},
   "outputs": [
    {
     "name": "stderr",
     "output_type": "stream",
     "text": [
      "/Users/wongw5/anaconda3/lib/python3.7/site-packages/ipykernel_launcher.py:1: SettingWithCopyWarning: \n",
      "A value is trying to be set on a copy of a slice from a DataFrame.\n",
      "Try using .loc[row_indexer,col_indexer] = value instead\n",
      "\n",
      "See the caveats in the documentation: http://pandas.pydata.org/pandas-docs/stable/indexing.html#indexing-view-versus-copy\n",
      "  \"\"\"Entry point for launching an IPython kernel.\n",
      "/Users/wongw5/anaconda3/lib/python3.7/site-packages/ipykernel_launcher.py:2: SettingWithCopyWarning: \n",
      "A value is trying to be set on a copy of a slice from a DataFrame.\n",
      "Try using .loc[row_indexer,col_indexer] = value instead\n",
      "\n",
      "See the caveats in the documentation: http://pandas.pydata.org/pandas-docs/stable/indexing.html#indexing-view-versus-copy\n",
      "  \n"
     ]
    },
    {
     "data": {
      "text/html": [
       "<div>\n",
       "<style scoped>\n",
       "    .dataframe tbody tr th:only-of-type {\n",
       "        vertical-align: middle;\n",
       "    }\n",
       "\n",
       "    .dataframe tbody tr th {\n",
       "        vertical-align: top;\n",
       "    }\n",
       "\n",
       "    .dataframe thead th {\n",
       "        text-align: right;\n",
       "    }\n",
       "</style>\n",
       "<table border=\"1\" class=\"dataframe\">\n",
       "  <thead>\n",
       "    <tr style=\"text-align: right;\">\n",
       "      <th></th>\n",
       "      <th>startingCell</th>\n",
       "      <th>startingPoint</th>\n",
       "      <th>startx</th>\n",
       "      <th>starty</th>\n",
       "    </tr>\n",
       "  </thead>\n",
       "  <tbody>\n",
       "    <tr>\n",
       "      <th>0</th>\n",
       "      <td>R1.01.R2.01.R3.06.P1.07</td>\n",
       "      <td>(6.59491209996567, -9.48476083204823)</td>\n",
       "      <td>6.594912</td>\n",
       "      <td>-9.484761</td>\n",
       "    </tr>\n",
       "    <tr>\n",
       "      <th>1</th>\n",
       "      <td>R1.01.R2.03.R3.68.P1.07</td>\n",
       "      <td>(6.102664354598191, -9.64732072932513)</td>\n",
       "      <td>6.102664</td>\n",
       "      <td>-9.647321</td>\n",
       "    </tr>\n",
       "    <tr>\n",
       "      <th>2</th>\n",
       "      <td>R1.01.R2.05.R3.15.P1.05</td>\n",
       "      <td>(6.693468208827361, -9.509410383229019)</td>\n",
       "      <td>6.693468</td>\n",
       "      <td>-9.509410</td>\n",
       "    </tr>\n",
       "    <tr>\n",
       "      <th>3</th>\n",
       "      <td>R1.01.R2.05.R3.40.P1.07</td>\n",
       "      <td>(6.46493742062397, -9.58470817755299)</td>\n",
       "      <td>6.464937</td>\n",
       "      <td>-9.584708</td>\n",
       "    </tr>\n",
       "    <tr>\n",
       "      <th>4</th>\n",
       "      <td>R1.01.R2.05.R3.49.P1.07</td>\n",
       "      <td>(6.867136780829201, -9.76010490038398)</td>\n",
       "      <td>6.867137</td>\n",
       "      <td>-9.760105</td>\n",
       "    </tr>\n",
       "  </tbody>\n",
       "</table>\n",
       "</div>"
      ],
      "text/plain": [
       "              startingCell                            startingPoint    startx  \\\n",
       "0  R1.01.R2.01.R3.06.P1.07    (6.59491209996567, -9.48476083204823)  6.594912   \n",
       "1  R1.01.R2.03.R3.68.P1.07   (6.102664354598191, -9.64732072932513)  6.102664   \n",
       "2  R1.01.R2.05.R3.15.P1.05  (6.693468208827361, -9.509410383229019)  6.693468   \n",
       "3  R1.01.R2.05.R3.40.P1.07    (6.46493742062397, -9.58470817755299)  6.464937   \n",
       "4  R1.01.R2.05.R3.49.P1.07   (6.867136780829201, -9.76010490038398)  6.867137   \n",
       "\n",
       "     starty  \n",
       "0 -9.484761  \n",
       "1 -9.647321  \n",
       "2 -9.509410  \n",
       "3 -9.584708  \n",
       "4 -9.760105  "
      ]
     },
     "execution_count": 124,
     "metadata": {},
     "output_type": "execute_result"
    }
   ],
   "source": [
    "arrowknn['startx'] = [i[0] for i in arrowknn['startingPoint']]\n",
    "arrowknn['starty'] = [i[1] for i in arrowknn['startingPoint']]\n",
    "arrowknn.head()"
   ]
  },
  {
   "cell_type": "code",
   "execution_count": 125,
   "metadata": {},
   "outputs": [],
   "source": [
    "arrowknn.index = arrowknn['startingCell']\n",
    "arrowknn = arrowknn[['startx', 'starty']]"
   ]
  },
  {
   "cell_type": "code",
   "execution_count": 126,
   "metadata": {},
   "outputs": [],
   "source": [
    "arrowknn = sk.kneighbors_graph(arrowknn, mode='connectivity', n_neighbors=15)"
   ]
  },
  {
   "cell_type": "code",
   "execution_count": 127,
   "metadata": {
    "scrolled": true
   },
   "outputs": [
    {
     "data": {
      "text/plain": [
       "<24341x24341 sparse matrix of type '<class 'numpy.float64'>'\n",
       "\twith 365115 stored elements in Compressed Sparse Row format>"
      ]
     },
     "execution_count": 127,
     "metadata": {},
     "output_type": "execute_result"
    }
   ],
   "source": [
    "arrowknn"
   ]
  },
  {
   "cell_type": "code",
   "execution_count": 128,
   "metadata": {},
   "outputs": [],
   "source": [
    "arrowknn.columns = arrowlength['startingCell'].tolist()\n",
    "arrowknn.rows = arrowlength['startingCell'].tolist()"
   ]
  },
  {
   "cell_type": "code",
   "execution_count": 129,
   "metadata": {},
   "outputs": [],
   "source": [
    "arrowdict = {}\n",
    "for i in range(len(arrowknn.rows)):\n",
    "    row = arrowknn.tocsr()[i, :].toarray()\n",
    "    indexes = []\n",
    "    for j in range(len(row[0])):\n",
    "        if row[0][j] > 0:\n",
    "            indexes.append(j)\n",
    "    arrowdict[arrowknn.rows[i]] = indexes"
   ]
  },
  {
   "cell_type": "code",
   "execution_count": 130,
   "metadata": {},
   "outputs": [],
   "source": [
    "#arrowset should be list of the starting and end coordinates of arrows [((start1,start2), (end1, end2)), ...]\n",
    "def ArrowAverage(arrowset):\n",
    "    startones = np.mean([i[0][0] for i in arrowset])\n",
    "    starttwos = np.mean([i[0][1] for i in arrowset])\n",
    "    endones = np.mean([i[1][0] for i in arrowset])\n",
    "    endtwos = np.mean([i[1][1] for i in arrowset])\n",
    "    return ((arrowset[0][0][0], arrowset[0][0][1]), (endones, endtwos))"
   ]
  },
  {
   "cell_type": "code",
   "execution_count": 131,
   "metadata": {},
   "outputs": [],
   "source": [
    "def AvgTowardsArrow(pointstart, starter, adf, knn):\n",
    "    val = pointstart\n",
    "    inds = knn.get(val)\n",
    "    bigset = [i for i in arrowknn.rows if i in inds]\n",
    "    total = [starter]\n",
    "    location = adf[adf['startingCell'].isin(bigset)]\n",
    "    sta = [i for i in location['startingPoint']]\n",
    "    end = [i for i in location['new_endpoint']]\n",
    "    #print(bigset)\n",
    "    #print()\n",
    "    #print(sta)\n",
    "    #print(end)\n",
    "    [total.append((sta[p], end[p])) for p in range(len(sta))] \n",
    "    #print(total)\n",
    "    return total"
   ]
  },
  {
   "cell_type": "code",
   "execution_count": 132,
   "metadata": {},
   "outputs": [],
   "source": [
    "def smootharrowscores(dataframe, knn):\n",
    "    count = 0\n",
    "    #dataframe is a dataframe with columns startingPoint, new_endpoint, starting_cell\n",
    "    print(len(dataframe.index))\n",
    "    newmat = []\n",
    "    for index, row in dataframe.iterrows():\n",
    "        rep = (row['startingPoint'], row['new_endpoint'])\n",
    "        #print(rep)\n",
    "        newrep = ArrowAverage(AvgTowardsArrow(row['startingCell'], rep, dataframe, knn))\n",
    "        #print(newrep)\n",
    "        newmat.append(newrep)    \n",
    "        \n",
    "        #genename = key\n",
    "        #geneind2 = [j for j, e in enumerate(tempy) if i == e]\n",
    "        #corr = counts.tocsr()[geneind2, : ]\n",
    "        #corr = corr.toarray()\n",
    "        if count % 10000 == 0:\n",
    "            print(len(newmat))\n",
    "        count += 1\n",
    "    \n",
    "    return(newmat)"
   ]
  },
  {
   "cell_type": "code",
   "execution_count": 133,
   "metadata": {},
   "outputs": [
    {
     "name": "stdout",
     "output_type": "stream",
     "text": [
      "24341\n",
      "1\n",
      "10001\n",
      "20001\n"
     ]
    }
   ],
   "source": [
    "forthearrowlength = smootharrowscores(arrowlength, arrowdict)\n",
    "arrowlength['newestcoords'] = forthearrowlength"
   ]
  },
  {
   "cell_type": "markdown",
   "metadata": {},
   "source": [
    "# getting only the cells that we are interested in"
   ]
  },
  {
   "cell_type": "code",
   "execution_count": 134,
   "metadata": {
    "scrolled": false
   },
   "outputs": [],
   "source": [
    "tomerge = pd.read_csv('cells_of_interest.txt', sep = '\\t', header = None)\n",
    "tomerge.columns = ['atac', 'rna', 'celltype']\n"
   ]
  },
  {
   "cell_type": "code",
   "execution_count": 135,
   "metadata": {},
   "outputs": [
    {
     "data": {
      "text/html": [
       "<div>\n",
       "<style scoped>\n",
       "    .dataframe tbody tr th:only-of-type {\n",
       "        vertical-align: middle;\n",
       "    }\n",
       "\n",
       "    .dataframe tbody tr th {\n",
       "        vertical-align: top;\n",
       "    }\n",
       "\n",
       "    .dataframe thead th {\n",
       "        text-align: right;\n",
       "    }\n",
       "</style>\n",
       "<table border=\"1\" class=\"dataframe\">\n",
       "  <thead>\n",
       "    <tr style=\"text-align: right;\">\n",
       "      <th></th>\n",
       "      <th>atac</th>\n",
       "      <th>rna</th>\n",
       "      <th>celltype</th>\n",
       "    </tr>\n",
       "  </thead>\n",
       "  <tbody>\n",
       "    <tr>\n",
       "      <th>0</th>\n",
       "      <td>R1.01.R2.03.R3.61.P1.06</td>\n",
       "      <td>R1.01.R2.03.R3.61.P1.54</td>\n",
       "      <td>Medulla</td>\n",
       "    </tr>\n",
       "    <tr>\n",
       "      <th>1</th>\n",
       "      <td>R1.01.R2.26.R3.65.P1.06</td>\n",
       "      <td>R1.01.R2.26.R3.65.P1.54</td>\n",
       "      <td>Medulla</td>\n",
       "    </tr>\n",
       "    <tr>\n",
       "      <th>2</th>\n",
       "      <td>R1.01.R2.67.R3.47.P1.07</td>\n",
       "      <td>R1.01.R2.67.R3.47.P1.55</td>\n",
       "      <td>Medulla</td>\n",
       "    </tr>\n",
       "    <tr>\n",
       "      <th>3</th>\n",
       "      <td>R1.01.R2.68.R3.20.P1.08</td>\n",
       "      <td>R1.01.R2.68.R3.20.P1.56</td>\n",
       "      <td>Medulla</td>\n",
       "    </tr>\n",
       "    <tr>\n",
       "      <th>4</th>\n",
       "      <td>R1.01.R2.71.R3.73.P1.07</td>\n",
       "      <td>R1.01.R2.71.R3.73.P1.55</td>\n",
       "      <td>Medulla</td>\n",
       "    </tr>\n",
       "  </tbody>\n",
       "</table>\n",
       "</div>"
      ],
      "text/plain": [
       "                      atac                      rna celltype\n",
       "0  R1.01.R2.03.R3.61.P1.06  R1.01.R2.03.R3.61.P1.54  Medulla\n",
       "1  R1.01.R2.26.R3.65.P1.06  R1.01.R2.26.R3.65.P1.54  Medulla\n",
       "2  R1.01.R2.67.R3.47.P1.07  R1.01.R2.67.R3.47.P1.55  Medulla\n",
       "3  R1.01.R2.68.R3.20.P1.08  R1.01.R2.68.R3.20.P1.56  Medulla\n",
       "4  R1.01.R2.71.R3.73.P1.07  R1.01.R2.71.R3.73.P1.55  Medulla"
      ]
     },
     "execution_count": 135,
     "metadata": {},
     "output_type": "execute_result"
    }
   ],
   "source": [
    "tomerge.head()"
   ]
  },
  {
   "cell_type": "code",
   "execution_count": 136,
   "metadata": {},
   "outputs": [],
   "source": [
    "arrowlength2 = arrowlength[arrowlength['startingCell'].isin(set(tomerge['atac'].tolist()))]"
   ]
  },
  {
   "cell_type": "code",
   "execution_count": 137,
   "metadata": {},
   "outputs": [],
   "source": [
    "tomerge.columns = ['startingCell', 'rna', 'celltype']\n",
    "\n"
   ]
  },
  {
   "cell_type": "code",
   "execution_count": 138,
   "metadata": {
    "scrolled": true
   },
   "outputs": [],
   "source": [
    "arrowlength2 = arrowlength2.merge(tomerge, on = 'startingCell')"
   ]
  },
  {
   "cell_type": "code",
   "execution_count": 139,
   "metadata": {},
   "outputs": [
    {
     "data": {
      "text/html": [
       "<div>\n",
       "<style scoped>\n",
       "    .dataframe tbody tr th:only-of-type {\n",
       "        vertical-align: middle;\n",
       "    }\n",
       "\n",
       "    .dataframe tbody tr th {\n",
       "        vertical-align: top;\n",
       "    }\n",
       "\n",
       "    .dataframe thead th {\n",
       "        text-align: right;\n",
       "    }\n",
       "</style>\n",
       "<table border=\"1\" class=\"dataframe\">\n",
       "  <thead>\n",
       "    <tr style=\"text-align: right;\">\n",
       "      <th></th>\n",
       "      <th>distance</th>\n",
       "      <th>startingCell</th>\n",
       "      <th>startingPoint</th>\n",
       "      <th>endPoint</th>\n",
       "      <th>newdistance</th>\n",
       "      <th>new_endpoint</th>\n",
       "      <th>newestcoords</th>\n",
       "      <th>rna</th>\n",
       "      <th>celltype</th>\n",
       "    </tr>\n",
       "  </thead>\n",
       "  <tbody>\n",
       "    <tr>\n",
       "      <th>0</th>\n",
       "      <td>0.078589</td>\n",
       "      <td>R1.01.R2.01.R3.43.P1.08</td>\n",
       "      <td>(-0.41464373271544797, 1.4653588840799299)</td>\n",
       "      <td>(-0.33757234919271834, 1.449986739151499)</td>\n",
       "      <td>0.045082</td>\n",
       "      <td>(-0.3704327248894008, 1.4565408508661681)</td>\n",
       "      <td>((-0.41464373271544797, 1.4653588840799299), (...</td>\n",
       "      <td>R1.01.R2.01.R3.43.P1.56</td>\n",
       "      <td>TAC-1</td>\n",
       "    </tr>\n",
       "    <tr>\n",
       "      <th>1</th>\n",
       "      <td>0.020023</td>\n",
       "      <td>R1.01.R2.06.R3.83.P1.07</td>\n",
       "      <td>(-9.87718090730019, -2.4981159811425497)</td>\n",
       "      <td>(-9.890956538236399, -2.5126464659268564)</td>\n",
       "      <td>0.011486</td>\n",
       "      <td>(-9.885083120797496, -2.5064512068405)</td>\n",
       "      <td>((-9.87718090730019, -2.4981159811425497), (-9...</td>\n",
       "      <td>R1.01.R2.06.R3.83.P1.55</td>\n",
       "      <td>TAC-1</td>\n",
       "    </tr>\n",
       "    <tr>\n",
       "      <th>2</th>\n",
       "      <td>0.061909</td>\n",
       "      <td>R1.01.R2.11.R3.86.P1.08</td>\n",
       "      <td>(-9.79219595975282, -2.57662462754936)</td>\n",
       "      <td>(-9.853914316628869, -2.581485004157619)</td>\n",
       "      <td>0.035514</td>\n",
       "      <td>(-9.827599901321523, -2.5794127200740244)</td>\n",
       "      <td>((-9.79219595975282, -2.57662462754936), (-9.8...</td>\n",
       "      <td>R1.01.R2.11.R3.86.P1.56</td>\n",
       "      <td>TAC-1</td>\n",
       "    </tr>\n",
       "    <tr>\n",
       "      <th>3</th>\n",
       "      <td>0.221326</td>\n",
       "      <td>R1.01.R2.15.R3.09.P1.07</td>\n",
       "      <td>(-8.49143176738649, -5.31811987139297)</td>\n",
       "      <td>(-8.656672268381541, -5.170875433013103)</td>\n",
       "      <td>0.126961</td>\n",
       "      <td>(-8.586219855374008, -5.233654993250042)</td>\n",
       "      <td>((-8.49143176738649, -5.31811987139297), (-8.5...</td>\n",
       "      <td>R1.01.R2.15.R3.09.P1.55</td>\n",
       "      <td>TAC-1</td>\n",
       "    </tr>\n",
       "    <tr>\n",
       "      <th>4</th>\n",
       "      <td>0.030240</td>\n",
       "      <td>R1.01.R2.17.R3.81.P1.05</td>\n",
       "      <td>(-9.79411585692249, -2.38504058417368)</td>\n",
       "      <td>(-9.76974013339897, -2.402936296952506)</td>\n",
       "      <td>0.017347</td>\n",
       "      <td>(-9.780133036656313, -2.395306229625393)</td>\n",
       "      <td>((-9.79411585692249, -2.38504058417368), (-9.7...</td>\n",
       "      <td>R1.01.R2.17.R3.81.P1.53</td>\n",
       "      <td>TAC-1</td>\n",
       "    </tr>\n",
       "  </tbody>\n",
       "</table>\n",
       "</div>"
      ],
      "text/plain": [
       "   distance             startingCell  \\\n",
       "0  0.078589  R1.01.R2.01.R3.43.P1.08   \n",
       "1  0.020023  R1.01.R2.06.R3.83.P1.07   \n",
       "2  0.061909  R1.01.R2.11.R3.86.P1.08   \n",
       "3  0.221326  R1.01.R2.15.R3.09.P1.07   \n",
       "4  0.030240  R1.01.R2.17.R3.81.P1.05   \n",
       "\n",
       "                                startingPoint  \\\n",
       "0  (-0.41464373271544797, 1.4653588840799299)   \n",
       "1    (-9.87718090730019, -2.4981159811425497)   \n",
       "2      (-9.79219595975282, -2.57662462754936)   \n",
       "3      (-8.49143176738649, -5.31811987139297)   \n",
       "4      (-9.79411585692249, -2.38504058417368)   \n",
       "\n",
       "                                    endPoint  newdistance  \\\n",
       "0  (-0.33757234919271834, 1.449986739151499)     0.045082   \n",
       "1  (-9.890956538236399, -2.5126464659268564)     0.011486   \n",
       "2   (-9.853914316628869, -2.581485004157619)     0.035514   \n",
       "3   (-8.656672268381541, -5.170875433013103)     0.126961   \n",
       "4    (-9.76974013339897, -2.402936296952506)     0.017347   \n",
       "\n",
       "                                new_endpoint  \\\n",
       "0  (-0.3704327248894008, 1.4565408508661681)   \n",
       "1     (-9.885083120797496, -2.5064512068405)   \n",
       "2  (-9.827599901321523, -2.5794127200740244)   \n",
       "3   (-8.586219855374008, -5.233654993250042)   \n",
       "4   (-9.780133036656313, -2.395306229625393)   \n",
       "\n",
       "                                        newestcoords                      rna  \\\n",
       "0  ((-0.41464373271544797, 1.4653588840799299), (...  R1.01.R2.01.R3.43.P1.56   \n",
       "1  ((-9.87718090730019, -2.4981159811425497), (-9...  R1.01.R2.06.R3.83.P1.55   \n",
       "2  ((-9.79219595975282, -2.57662462754936), (-9.8...  R1.01.R2.11.R3.86.P1.56   \n",
       "3  ((-8.49143176738649, -5.31811987139297), (-8.5...  R1.01.R2.15.R3.09.P1.55   \n",
       "4  ((-9.79411585692249, -2.38504058417368), (-9.7...  R1.01.R2.17.R3.81.P1.53   \n",
       "\n",
       "  celltype  \n",
       "0    TAC-1  \n",
       "1    TAC-1  \n",
       "2    TAC-1  \n",
       "3    TAC-1  \n",
       "4    TAC-1  "
      ]
     },
     "execution_count": 139,
     "metadata": {},
     "output_type": "execute_result"
    }
   ],
   "source": [
    "arrowlength2.head()"
   ]
  },
  {
   "cell_type": "markdown",
   "metadata": {},
   "source": [
    "# plot arrows over umap"
   ]
  },
  {
   "cell_type": "code",
   "execution_count": 140,
   "metadata": {},
   "outputs": [
    {
     "data": {
      "image/png": "[encoded data removed]",
      "text/plain": [
       "<Figure size 1440x1440 with 1 Axes>"
      ]
     },
     "metadata": {
      "needs_background": "light"
     },
     "output_type": "display_data"
    }
   ],
   "source": [
    "import matplotlib.pyplot as plt\n",
    "\n",
    "start = [i[0] for i in arrowlength2['startingPoint']]\n",
    "startend = [i[1] for i in arrowlength2['startingPoint']]\n",
    "\n",
    "#end = [i[1] for i in arrowlength['endPoint']]\n",
    "#endstart = [i[0] for i in arrowlength['endPoint']]\n",
    "\n",
    "end = [i[1] for i in arrowlength2['new_endpoint']]\n",
    "endstart = [i[0] for i in arrowlength2['new_endpoint']]\n",
    "\n",
    "#start = [start[i] for i in range(len(start)) if i % 10 == 0]\n",
    "#startend = [startend[i] for i in range(len(startend)) if i % 10 == 0]\n",
    "#endstart = [endstart[i] for i in range(len(endstart)) if i % 10 == 0]\n",
    "#end = [end[i] for i in range(len(end)) if i % 10 == 0]\n",
    "#plt.xlim(-1, 4)\n",
    "#plt.ylim(3, 14)\n",
    "plt.scatter(start, startend)\n",
    "#plt.scatter(endstart, end)\n",
    "for i in range(len(start)):\n",
    "    plt.arrow(start[i], startend[i], endstart[i]-start[i], end[i]-startend[i], overhang = 0.8, head_width = 0.1, head_length = 0.15, joinstyle = 'miter')\n",
    "plt.show()"
   ]
  },
  {
   "cell_type": "code",
   "execution_count": 141,
   "metadata": {},
   "outputs": [],
   "source": [
    "startmedulla = [i[0] for i in arrowlength2[arrowlength2['celltype'] == 'Medulla']['startingPoint']]\n",
    "startendmedulla = [i[1] for i in arrowlength2[arrowlength2['celltype'] == 'Medulla']['startingPoint']]\n",
    "starttac1 = [i[0] for i in arrowlength2[arrowlength2['celltype'] == 'TAC-1']['startingPoint']]\n",
    "startendtac1 = [i[1] for i in arrowlength2[arrowlength2['celltype'] == 'TAC-1']['startingPoint']]\n",
    "startendcortex = [i[1] for i in arrowlength2[arrowlength2['celltype'] == 'Hair Shaft-cuticle.cortex']['startingPoint']]\n",
    "startcortex = [i[0] for i in arrowlength2[arrowlength2['celltype'] == 'Hair Shaft-cuticle.cortex']['startingPoint']]\n",
    "startendirs = [i[1] for i in arrowlength2[arrowlength2['celltype'] == 'IRS']['startingPoint']]\n",
    "startirs = [i[0] for i in arrowlength2[arrowlength2['celltype'] == 'IRS']['startingPoint']]\n",
    "starttac2 = [i[0] for i in arrowlength2[arrowlength2['celltype'] == 'TAC-2']['startingPoint']]\n",
    "startendtac2 = [i[1] for i in arrowlength2[arrowlength2['celltype'] == 'TAC-2']['startingPoint']]\n"
   ]
  },
  {
   "cell_type": "code",
   "execution_count": 142,
   "metadata": {
    "scrolled": true
   },
   "outputs": [
    {
     "data": {
      "image/png": "[encoded data removed]",
      "text/plain": [
       "<Figure size 1440x1440 with 1 Axes>"
      ]
     },
     "metadata": {
      "needs_background": "light"
     },
     "output_type": "display_data"
    }
   ],
   "source": [
    "import matplotlib.pyplot as plt\n",
    "\n",
    "\n",
    "\n",
    "#end = [i[1] for i in arrowlength['endPoint']]\n",
    "#endstart = [i[0] for i in arrowlength['endPoint']]\n",
    "\n",
    "end = [i[1] for i in arrowlength2['new_endpoint']]\n",
    "endstart = [i[0] for i in arrowlength2['new_endpoint']]\n",
    "\n",
    "#start = [start[i] for i in range(len(start)) if i % 10 == 0]\n",
    "#startend = [startend[i] for i in range(len(startend)) if i % 10 == 0]\n",
    "#endstart = [endstart[i] for i in range(len(endstart)) if i % 10 == 0]\n",
    "#end = [end[i] for i in range(len(end)) if i % 10 == 0]\n",
    "plt.xlim(-11, -4)\n",
    "plt.ylim(-9, 0)\n",
    "plt.scatter(startmedulla, startendmedulla, color = 'red', s=1)\n",
    "plt.scatter(starttac1, startendtac1, color = 'green', s=1)\n",
    "plt.scatter(startcortex, startendcortex, color = 'yellow', s=1)\n",
    "plt.scatter(startirs, startendirs, color = 'blue', s=1)\n",
    "plt.scatter(starttac2, startendtac2, color = 'orange', s=1)\n",
    "#plt.scatter(endstart, end)\n",
    "\n",
    "#for i in range(len(start)):\n",
    "#    plt.arrow(start[i], startend[i], endstart[i]-start[i], end[i]-startend[i], overhang = 0.8, head_width = 0.1, head_length = 0.15, joinstyle = 'miter')\n",
    "plt.show()"
   ]
  },
  {
   "cell_type": "code",
   "execution_count": 143,
   "metadata": {},
   "outputs": [],
   "source": [
    "def GridMap(ycoords, xcoords, arrowframe):\n",
    "    tore = {}\n",
    "    ypos = [i for i in np.arange(ycoords[0], ycoords[1], round((ycoords[1]-ycoords[0])/40, 2))]\n",
    "    xpos = [i for i in np.arange(xcoords[0], xcoords[1], round((xcoords[1]-xcoords[0])/40, 2))]\n",
    "    for i in ypos:\n",
    "        for j in xpos:\n",
    "            tore[(i, j)] = []\n",
    "    for index, row in arrowframe.iterrows():\n",
    "        co = row['startingPoint']\n",
    "        xco = co[0]\n",
    "        yco = co[1]\n",
    "        yhold = -1\n",
    "        xhold = -1\n",
    "        for i in range(1, len(ypos)):\n",
    "            if yco < ypos[0]:\n",
    "                break\n",
    "            if yco < ypos[i]:\n",
    "                yhold = ypos[i - 1]\n",
    "                break\n",
    "                \n",
    "        for i in range(1, len(xpos)):\n",
    "            if xco < xpos[0]:\n",
    "                break\n",
    "            if xco < xpos[i]:\n",
    "                xhold = xpos[i - 1]\n",
    "                break\n",
    "        if xhold != -1 and yhold != -1:\n",
    "            #print(yhold, xhold)\n",
    "            tore[(yhold, xhold)].append(index)  \n",
    "    return tore"
   ]
  },
  {
   "cell_type": "code",
   "execution_count": 144,
   "metadata": {},
   "outputs": [],
   "source": [
    "gmap = GridMap((-9, 0), (-11, -4), arrowlength2)"
   ]
  },
  {
   "cell_type": "code",
   "execution_count": 145,
   "metadata": {},
   "outputs": [],
   "source": [
    "gmap2 = {}\n",
    "for i in gmap:\n",
    "    indexes = gmap.get(i)\n",
    "    if len(indexes) > 0:\n",
    "        rowsa = arrowlength2.iloc[indexes]\n",
    "        #print(rowsa)\n",
    "        sp = [v[0] for v in rowsa['newestcoords']]\n",
    "        #print(sp)\n",
    "        en = [v[1] for v in rowsa['newestcoords']]\n",
    "        both = [(sp[v], en[v]) for v in range(len(sp))]\n",
    "        #print(rowsa['cp'].tolist())\n",
    "        gmap2[i] = ArrowAverage(both)\n",
    "    else:\n",
    "        gmap2[i] = None"
   ]
  },
  {
   "cell_type": "code",
   "execution_count": 146,
   "metadata": {},
   "outputs": [],
   "source": [
    "gmap2arrows = []\n",
    "for i in gmap2:\n",
    "    if gmap2.get(i) != None:\n",
    "        gmap2arrows.append(gmap2.get(i))"
   ]
  },
  {
   "cell_type": "code",
   "execution_count": 147,
   "metadata": {},
   "outputs": [],
   "source": [
    "plt.rcParams[\"figure.figsize\"] = (20,20)"
   ]
  },
  {
   "cell_type": "code",
   "execution_count": 210,
   "metadata": {},
   "outputs": [
    {
     "data": {
      "image/png": "[encoded data removed]",
      "text/plain": [
       "<Figure size 1440x1440 with 1 Axes>"
      ]
     },
     "metadata": {
      "needs_background": "light"
     },
     "output_type": "display_data"
    }
   ],
   "source": [
    "import matplotlib.pyplot as plt\n",
    "\n",
    "\n",
    "\n",
    "#end = [i[1] for i in arrowlength['endPoint']]\n",
    "#endstart = [i[0] for i in arrowlength['endPoint']]\n",
    "\n",
    "end = [i[1] for i in arrowlength2['new_endpoint']]\n",
    "endstart = [i[0] for i in arrowlength2['new_endpoint']]\n",
    "\n",
    "#start = [start[i] for i in range(len(start)) if i % 10 == 0]\n",
    "#startend = [startend[i] for i in range(len(startend)) if i % 10 == 0]\n",
    "#endstart = [endstart[i] for i in range(len(endstart)) if i % 10 == 0]\n",
    "#end = [end[i] for i in range(len(end)) if i % 10 == 0]\n",
    "plt.xlim(-11, -4)\n",
    "plt.ylim(-9, 0)\n",
    "plt.rcParams[\"figure.figsize\"] = (20,20)\n",
    "start = [i[0] for i in arrowlength['startingPoint']]\n",
    "startend = [i[1] for i in arrowlength['startingPoint']]\n",
    "#plt.scatter(start, startend, s=4)\n",
    "plt.scatter(startmedulla, startendmedulla, color = 'red', s=4)\n",
    "plt.scatter(starttac1, startendtac1, color = 'green', s=4)\n",
    "plt.scatter(startcortex, startendcortex, color = 'yellow', s=4)\n",
    "plt.scatter(startirs, startendirs, color = 'blue', s=4)\n",
    "plt.scatter(starttac2, startendtac2, color = 'orange', s=4)\n",
    "\n",
    "plt.title('Chromatin Potential: 55 topics, 55 topics UMAP')\n",
    "plt.xlabel('UMAP-1')\n",
    "plt.ylabel('UMAP-2')\n",
    "#plt.scatter(endstart, end)\n",
    "\n",
    "for i in range(len(gmap2arrows)):\n",
    "    #if math.sqrt((gmap2arrows[i][1][0] - gmap2arrows[i][0][0])**2 + (gmap2arrows[i][1][1] - gmap2arrows[i][0][1])**2) < 0.3:\n",
    "    plt.arrow(gmap2arrows[i][0][0], gmap2arrows[i][0][1], gmap2arrows[i][1][0]-gmap2arrows[i][0][0], gmap2arrows[i][1][1]-gmap2arrows[i][0][1], overhang = 1.0, head_width = 0.05, head_length = 0.05, width = 0.00001, joinstyle = 'miter')\n",
    "plt.show()"
   ]
  },
  {
   "cell_type": "code",
   "execution_count": 149,
   "metadata": {},
   "outputs": [],
   "source": [
    "#can try doing knns only with the hair follicle data\n",
    "#also can try filtering out arroes of specific length"
   ]
  }
 ],
 "metadata": {
  "kernelspec": {
   "display_name": "Python 3",
   "language": "python",
   "name": "python3"
  },
  "language_info": {
   "codemirror_mode": {
    "name": "ipython",
    "version": 3
   },
   "file_extension": ".py",
   "mimetype": "text/x-python",
   "name": "python",
   "nbconvert_exporter": "python",
   "pygments_lexer": "ipython3",
   "version": "3.7.3"
  }
 },
 "nbformat": 4,
 "nbformat_minor": 2
}
