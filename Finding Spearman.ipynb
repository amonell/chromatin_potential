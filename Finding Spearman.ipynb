{
 "cells": [
  {
   "cell_type": "code",
   "execution_count": 1,
   "metadata": {},
   "outputs": [],
   "source": [
    "import pandas as pd\n",
    "import numpy as np\n",
    "from scipy import stats\n",
    "import scipy as sci"
   ]
  },
  {
   "cell_type": "code",
   "execution_count": 2,
   "metadata": {},
   "outputs": [],
   "source": [
    "#reading in the peak bed file\n",
    "peaks = pd.read_csv(\"foxa1_data/bedpeaksfoxa1_new.bed\", sep= \"\\t\", header = None)\n",
    "peaks.columns = [\"chr\", \"start\", \"end\"]\n",
    "peaks[\"region\"] = peaks[\"start\"].astype(str) + \"_\" + peaks[\"end\"].astype(str)\n",
    "peaks[\"total\"] = peaks[\"chr\"].astype(str) + \"_\" + peaks[\"region\"].astype(str)"
   ]
  },
  {
   "cell_type": "code",
   "execution_count": 3,
   "metadata": {
    "scrolled": false
   },
   "outputs": [
    {
     "data": {
      "text/html": [
       "<div>\n",
       "<style scoped>\n",
       "    .dataframe tbody tr th:only-of-type {\n",
       "        vertical-align: middle;\n",
       "    }\n",
       "\n",
       "    .dataframe tbody tr th {\n",
       "        vertical-align: top;\n",
       "    }\n",
       "\n",
       "    .dataframe thead th {\n",
       "        text-align: right;\n",
       "    }\n",
       "</style>\n",
       "<table border=\"1\" class=\"dataframe\">\n",
       "  <thead>\n",
       "    <tr style=\"text-align: right;\">\n",
       "      <th></th>\n",
       "      <th>chr</th>\n",
       "      <th>start</th>\n",
       "      <th>end</th>\n",
       "      <th>region</th>\n",
       "      <th>total</th>\n",
       "    </tr>\n",
       "  </thead>\n",
       "  <tbody>\n",
       "    <tr>\n",
       "      <th>0</th>\n",
       "      <td>chr1</td>\n",
       "      <td>3045609</td>\n",
       "      <td>3046110</td>\n",
       "      <td>3045609_3046110</td>\n",
       "      <td>chr1_3045609_3046110</td>\n",
       "    </tr>\n",
       "    <tr>\n",
       "      <th>1</th>\n",
       "      <td>chr1</td>\n",
       "      <td>3046216</td>\n",
       "      <td>3046717</td>\n",
       "      <td>3046216_3046717</td>\n",
       "      <td>chr1_3046216_3046717</td>\n",
       "    </tr>\n",
       "    <tr>\n",
       "      <th>2</th>\n",
       "      <td>chr1</td>\n",
       "      <td>3081059</td>\n",
       "      <td>3081560</td>\n",
       "      <td>3081059_3081560</td>\n",
       "      <td>chr1_3081059_3081560</td>\n",
       "    </tr>\n",
       "    <tr>\n",
       "      <th>3</th>\n",
       "      <td>chr1</td>\n",
       "      <td>3104358</td>\n",
       "      <td>3104859</td>\n",
       "      <td>3104358_3104859</td>\n",
       "      <td>chr1_3104358_3104859</td>\n",
       "    </tr>\n",
       "    <tr>\n",
       "      <th>4</th>\n",
       "      <td>chr1</td>\n",
       "      <td>3129212</td>\n",
       "      <td>3129713</td>\n",
       "      <td>3129212_3129713</td>\n",
       "      <td>chr1_3129212_3129713</td>\n",
       "    </tr>\n",
       "  </tbody>\n",
       "</table>\n",
       "</div>"
      ],
      "text/plain": [
       "    chr    start      end           region                 total\n",
       "0  chr1  3045609  3046110  3045609_3046110  chr1_3045609_3046110\n",
       "1  chr1  3046216  3046717  3046216_3046717  chr1_3046216_3046717\n",
       "2  chr1  3081059  3081560  3081059_3081560  chr1_3081059_3081560\n",
       "3  chr1  3104358  3104859  3104358_3104859  chr1_3104358_3104859\n",
       "4  chr1  3129212  3129713  3129212_3129713  chr1_3129212_3129713"
      ]
     },
     "execution_count": 3,
     "metadata": {},
     "output_type": "execute_result"
    }
   ],
   "source": [
    "peaks.head()"
   ]
  },
  {
   "cell_type": "code",
   "execution_count": 5,
   "metadata": {},
   "outputs": [],
   "source": [
    "#reading in the table from the ReadInAnnotations script\n",
    "viable = pd.read_csv(\"foxa1_data/novel_peak_table3.tsv\", header = 0, sep = \"\\t\")"
   ]
  },
  {
   "cell_type": "code",
   "execution_count": 6,
   "metadata": {
    "scrolled": true
   },
   "outputs": [
    {
     "data": {
      "text/plain": [
       "253908"
      ]
     },
     "execution_count": 6,
     "metadata": {},
     "output_type": "execute_result"
    }
   ],
   "source": [
    "len(viable)"
   ]
  },
  {
   "cell_type": "code",
   "execution_count": 7,
   "metadata": {},
   "outputs": [],
   "source": [
    "import scipy.io as sio"
   ]
  },
  {
   "cell_type": "code",
   "execution_count": 8,
   "metadata": {},
   "outputs": [],
   "source": [
    "#read in peak counts and peak cell ids\n",
    "counts = sio.mmread(\"foxa1_data/foxA1_peak_counts_G2.mtx\")\n"
   ]
  },
  {
   "cell_type": "code",
   "execution_count": 14,
   "metadata": {
    "scrolled": true
   },
   "outputs": [
    {
     "data": {
      "text/html": [
       "<div>\n",
       "<style scoped>\n",
       "    .dataframe tbody tr th:only-of-type {\n",
       "        vertical-align: middle;\n",
       "    }\n",
       "\n",
       "    .dataframe tbody tr th {\n",
       "        vertical-align: top;\n",
       "    }\n",
       "\n",
       "    .dataframe thead th {\n",
       "        text-align: right;\n",
       "    }\n",
       "</style>\n",
       "<table border=\"1\" class=\"dataframe\">\n",
       "  <thead>\n",
       "    <tr style=\"text-align: right;\">\n",
       "      <th></th>\n",
       "      <th>x</th>\n",
       "    </tr>\n",
       "  </thead>\n",
       "  <tbody>\n",
       "    <tr>\n",
       "      <th>1</th>\n",
       "      <td>G2_multiome#TGAAACTGTTATCGAG-1</td>\n",
       "    </tr>\n",
       "    <tr>\n",
       "      <th>2</th>\n",
       "      <td>G2_multiome#GTTGCCCGTCGTAAAT-1</td>\n",
       "    </tr>\n",
       "    <tr>\n",
       "      <th>3</th>\n",
       "      <td>G2_multiome#CCGCAAGGTTAGCGTA-1</td>\n",
       "    </tr>\n",
       "    <tr>\n",
       "      <th>4</th>\n",
       "      <td>G2_multiome#CCATAATCAGTACCGT-1</td>\n",
       "    </tr>\n",
       "    <tr>\n",
       "      <th>5</th>\n",
       "      <td>G2_multiome#GCCAGGAAGCCGGTAC-1</td>\n",
       "    </tr>\n",
       "  </tbody>\n",
       "</table>\n",
       "</div>"
      ],
      "text/plain": [
       "                                x\n",
       "1  G2_multiome#TGAAACTGTTATCGAG-1\n",
       "2  G2_multiome#GTTGCCCGTCGTAAAT-1\n",
       "3  G2_multiome#CCGCAAGGTTAGCGTA-1\n",
       "4  G2_multiome#CCATAATCAGTACCGT-1\n",
       "5  G2_multiome#GCCAGGAAGCCGGTAC-1"
      ]
     },
     "execution_count": 14,
     "metadata": {},
     "output_type": "execute_result"
    }
   ],
   "source": [
    "cell_idsatac = pd.read_csv(\"foxa1_data/G2peakcelltypes.txt\", header = 0, sep = \"\\t\")\n",
    "cell_idsrna = pd.read_csv(\"foxa1_data/G2rnacelltypes.txt\", header = 0, sep = \"\\t\")\n"
   ]
  },
  {
   "cell_type": "code",
   "execution_count": 19,
   "metadata": {
    "scrolled": true
   },
   "outputs": [],
   "source": [
    "cell_idsatac.columns = ['celltype']\n",
    "cell_idsrna.columns = ['celltype']"
   ]
  },
  {
   "cell_type": "code",
   "execution_count": 21,
   "metadata": {},
   "outputs": [],
   "source": [
    "\n",
    "celltypes = cell_idsatac['celltype']\n",
    "cell_idrna = cell_ids['celltype']\n",
    "cell_ids = cell_idsatac['celltype']\n",
    "#bedfile <- data(counts, package = \"chromVAR\")\n",
    "counts.columns = cell_ids\n",
    "counts.rows = peaks['total']"
   ]
  },
  {
   "cell_type": "code",
   "execution_count": 22,
   "metadata": {},
   "outputs": [],
   "source": [
    "#geneindex = viable.index[viable['valid'] == True].tolist()\n",
    "#newdf = viable.iloc[geneindex]\n",
    "#names = newdf['total_region'] #as.data.frame(viable$total_region[geneindex])\n",
    "names = viable['total']"
   ]
  },
  {
   "cell_type": "code",
   "execution_count": 23,
   "metadata": {
    "scrolled": false
   },
   "outputs": [],
   "source": [
    "names = names.to_list()\n",
    "names = set(names)"
   ]
  },
  {
   "cell_type": "code",
   "execution_count": 24,
   "metadata": {},
   "outputs": [],
   "source": [
    "crw = counts.rows.to_list()\n",
    "c = [i for i, e in enumerate(crw) if e in names]\n",
    "counts = counts.tocsr()[c,:]"
   ]
  },
  {
   "cell_type": "code",
   "execution_count": 25,
   "metadata": {
    "scrolled": true
   },
   "outputs": [],
   "source": [
    "crw = [e for i, e in enumerate(crw) if e in names]\n",
    "counts.rows = crw"
   ]
  },
  {
   "cell_type": "code",
   "execution_count": 26,
   "metadata": {},
   "outputs": [
    {
     "data": {
      "text/plain": [
       "<253908x5219 sparse matrix of type '<class 'numpy.int64'>'\n",
       "\twith 59736630 stored elements in Compressed Sparse Row format>"
      ]
     },
     "execution_count": 26,
     "metadata": {},
     "output_type": "execute_result"
    }
   ],
   "source": [
    "counts"
   ]
  },
  {
   "cell_type": "code",
   "execution_count": 27,
   "metadata": {},
   "outputs": [],
   "source": [
    "counts.columns = cell_ids"
   ]
  },
  {
   "cell_type": "code",
   "execution_count": 28,
   "metadata": {},
   "outputs": [],
   "source": [
    "viable = viable[['chr','start','end', 'id', 'strand', 'region', 'total']]"
   ]
  },
  {
   "cell_type": "code",
   "execution_count": 29,
   "metadata": {},
   "outputs": [],
   "source": [
    "viable.columns = ['chr','start','end', 'gene', 'strand', 'region', 'peak']"
   ]
  },
  {
   "cell_type": "code",
   "execution_count": 30,
   "metadata": {},
   "outputs": [],
   "source": [
    "#genecol = newdf['Gene Name']\n",
    "genecol = viable['gene']\n",
    "gene_table = pd.DataFrame(crw)#genecol)"
   ]
  },
  {
   "cell_type": "code",
   "execution_count": 31,
   "metadata": {},
   "outputs": [
    {
     "data": {
      "text/html": [
       "<div>\n",
       "<style scoped>\n",
       "    .dataframe tbody tr th:only-of-type {\n",
       "        vertical-align: middle;\n",
       "    }\n",
       "\n",
       "    .dataframe tbody tr th {\n",
       "        vertical-align: top;\n",
       "    }\n",
       "\n",
       "    .dataframe thead th {\n",
       "        text-align: right;\n",
       "    }\n",
       "</style>\n",
       "<table border=\"1\" class=\"dataframe\">\n",
       "  <thead>\n",
       "    <tr style=\"text-align: right;\">\n",
       "      <th></th>\n",
       "      <th>index</th>\n",
       "      <th>gene</th>\n",
       "    </tr>\n",
       "  </thead>\n",
       "  <tbody>\n",
       "    <tr>\n",
       "      <th>0</th>\n",
       "      <td>0</td>\n",
       "      <td>Xkr4</td>\n",
       "    </tr>\n",
       "    <tr>\n",
       "      <th>1</th>\n",
       "      <td>1</td>\n",
       "      <td>Xkr4</td>\n",
       "    </tr>\n",
       "    <tr>\n",
       "      <th>2</th>\n",
       "      <td>2</td>\n",
       "      <td>Rp1</td>\n",
       "    </tr>\n",
       "    <tr>\n",
       "      <th>3</th>\n",
       "      <td>3</td>\n",
       "      <td>Rp1</td>\n",
       "    </tr>\n",
       "    <tr>\n",
       "      <th>4</th>\n",
       "      <td>4</td>\n",
       "      <td>Rp1</td>\n",
       "    </tr>\n",
       "  </tbody>\n",
       "</table>\n",
       "</div>"
      ],
      "text/plain": [
       "   index  gene\n",
       "0      0  Xkr4\n",
       "1      1  Xkr4\n",
       "2      2   Rp1\n",
       "3      3   Rp1\n",
       "4      4   Rp1"
      ]
     },
     "execution_count": 31,
     "metadata": {},
     "output_type": "execute_result"
    }
   ],
   "source": [
    "genecol = genecol.reset_index()\n",
    "genecol.head()"
   ]
  },
  {
   "cell_type": "code",
   "execution_count": 32,
   "metadata": {},
   "outputs": [],
   "source": [
    "gene_table.columns = [\"peak\"]"
   ]
  },
  {
   "cell_type": "code",
   "execution_count": 33,
   "metadata": {},
   "outputs": [],
   "source": [
    "gene_table2 = pd.merge(gene_table, viable, on='peak')"
   ]
  },
  {
   "cell_type": "code",
   "execution_count": 34,
   "metadata": {},
   "outputs": [],
   "source": [
    "gene_table2 = gene_table2[['peak', 'chr', 'start', 'end', 'gene']]"
   ]
  },
  {
   "cell_type": "code",
   "execution_count": 35,
   "metadata": {
    "scrolled": true
   },
   "outputs": [
    {
     "data": {
      "text/html": [
       "<div>\n",
       "<style scoped>\n",
       "    .dataframe tbody tr th:only-of-type {\n",
       "        vertical-align: middle;\n",
       "    }\n",
       "\n",
       "    .dataframe tbody tr th {\n",
       "        vertical-align: top;\n",
       "    }\n",
       "\n",
       "    .dataframe thead th {\n",
       "        text-align: right;\n",
       "    }\n",
       "</style>\n",
       "<table border=\"1\" class=\"dataframe\">\n",
       "  <thead>\n",
       "    <tr style=\"text-align: right;\">\n",
       "      <th></th>\n",
       "      <th>peak</th>\n",
       "      <th>chr</th>\n",
       "      <th>start</th>\n",
       "      <th>end</th>\n",
       "      <th>gene</th>\n",
       "    </tr>\n",
       "  </thead>\n",
       "  <tbody>\n",
       "    <tr>\n",
       "      <th>0</th>\n",
       "      <td>chr1_3670858_3671359</td>\n",
       "      <td>chr1</td>\n",
       "      <td>3670858</td>\n",
       "      <td>3671359</td>\n",
       "      <td>Xkr4</td>\n",
       "    </tr>\n",
       "    <tr>\n",
       "      <th>1</th>\n",
       "      <td>chr1_3671503_3672004</td>\n",
       "      <td>chr1</td>\n",
       "      <td>3671503</td>\n",
       "      <td>3672004</td>\n",
       "      <td>Xkr4</td>\n",
       "    </tr>\n",
       "    <tr>\n",
       "      <th>2</th>\n",
       "      <td>chr1_4326592_4327093</td>\n",
       "      <td>chr1</td>\n",
       "      <td>4326592</td>\n",
       "      <td>4327093</td>\n",
       "      <td>Rp1</td>\n",
       "    </tr>\n",
       "    <tr>\n",
       "      <th>3</th>\n",
       "      <td>chr1_4343421_4343922</td>\n",
       "      <td>chr1</td>\n",
       "      <td>4343421</td>\n",
       "      <td>4343922</td>\n",
       "      <td>Rp1</td>\n",
       "    </tr>\n",
       "    <tr>\n",
       "      <th>4</th>\n",
       "      <td>chr1_4353563_4354064</td>\n",
       "      <td>chr1</td>\n",
       "      <td>4353563</td>\n",
       "      <td>4354064</td>\n",
       "      <td>Rp1</td>\n",
       "    </tr>\n",
       "  </tbody>\n",
       "</table>\n",
       "</div>"
      ],
      "text/plain": [
       "                   peak   chr    start      end  gene\n",
       "0  chr1_3670858_3671359  chr1  3670858  3671359  Xkr4\n",
       "1  chr1_3671503_3672004  chr1  3671503  3672004  Xkr4\n",
       "2  chr1_4326592_4327093  chr1  4326592  4327093   Rp1\n",
       "3  chr1_4343421_4343922  chr1  4343421  4343922   Rp1\n",
       "4  chr1_4353563_4354064  chr1  4353563  4354064   Rp1"
      ]
     },
     "execution_count": 35,
     "metadata": {},
     "output_type": "execute_result"
    }
   ],
   "source": [
    "gene_table2.head()"
   ]
  },
  {
   "cell_type": "markdown",
   "metadata": {},
   "source": [
    "# read in the normalized rna expression matrix, features.tsv are the name of the rna features to complete the mtx file"
   ]
  },
  {
   "cell_type": "code",
   "execution_count": 36,
   "metadata": {},
   "outputs": [],
   "source": [
    "#import pandas as pd\n",
    "rna_expression = sio.mmread('foxa1_data/foxA1_rna_counts_G2.mtx')\n"
   ]
  },
  {
   "cell_type": "code",
   "execution_count": 37,
   "metadata": {},
   "outputs": [],
   "source": [
    "to_meta = pd.read_csv('foxa1_data/G2_rna_features.tsv', sep = '\\t', header = 0)"
   ]
  },
  {
   "cell_type": "code",
   "execution_count": 39,
   "metadata": {},
   "outputs": [],
   "source": [
    "to_meta.columns = ['gene']"
   ]
  },
  {
   "cell_type": "code",
   "execution_count": 40,
   "metadata": {},
   "outputs": [],
   "source": [
    "rna_expression.rows = to_meta['gene']"
   ]
  },
  {
   "cell_type": "code",
   "execution_count": 41,
   "metadata": {},
   "outputs": [],
   "source": [
    "rna_expression.columns = cell_idrna"
   ]
  },
  {
   "cell_type": "code",
   "execution_count": 42,
   "metadata": {
    "scrolled": true
   },
   "outputs": [
    {
     "data": {
      "text/plain": [
       "<18712x5219 sparse matrix of type '<class 'numpy.float64'>'\n",
       "\twith 21226087 stored elements in COOrdinate format>"
      ]
     },
     "execution_count": 42,
     "metadata": {},
     "output_type": "execute_result"
    }
   ],
   "source": [
    "rna_expression"
   ]
  },
  {
   "cell_type": "code",
   "execution_count": 43,
   "metadata": {},
   "outputs": [],
   "source": [
    "gene_table = gene_table2"
   ]
  },
  {
   "cell_type": "code",
   "execution_count": 44,
   "metadata": {},
   "outputs": [
    {
     "data": {
      "text/plain": [
       "15948"
      ]
     },
     "execution_count": 44,
     "metadata": {},
     "output_type": "execute_result"
    }
   ],
   "source": [
    "gene_list_left = list(set(gene_table['gene']))\n",
    "left2 = []\n",
    "for i in gene_list_left:\n",
    "    [left2.append(j) for j in i.split(\",\")]\n",
    "len(set(left2))"
   ]
  },
  {
   "cell_type": "code",
   "execution_count": 45,
   "metadata": {},
   "outputs": [],
   "source": [
    "gene_list_left= set(left2)"
   ]
  },
  {
   "cell_type": "code",
   "execution_count": 46,
   "metadata": {
    "scrolled": true
   },
   "outputs": [
    {
     "data": {
      "text/plain": [
       "15948"
      ]
     },
     "execution_count": 46,
     "metadata": {},
     "output_type": "execute_result"
    }
   ],
   "source": [
    "len(gene_list_left)"
   ]
  },
  {
   "cell_type": "markdown",
   "metadata": {},
   "source": [
    "# Make a file with the list of peaks we are using"
   ]
  },
  {
   "cell_type": "code",
   "execution_count": 48,
   "metadata": {
    "scrolled": true
   },
   "outputs": [
    {
     "name": "stderr",
     "output_type": "stream",
     "text": [
      "/Users/wongw5/anaconda3/lib/python3.7/site-packages/ipykernel_launcher.py:1: FutureWarning: The signature of `Series.to_csv` was aligned to that of `DataFrame.to_csv`, and argument 'header' will change its default value from False to True: please pass an explicit value to suppress this warning.\n",
      "  \"\"\"Entry point for launching an IPython kernel.\n"
     ]
    }
   ],
   "source": [
    "gene_table2['peak'].to_csv('foxa1_data/G2_peaks_used_in_background.csv')"
   ]
  },
  {
   "cell_type": "markdown",
   "metadata": {},
   "source": [
    "# Generate background peaks in R and then import them here, observed spearman values will be calculated"
   ]
  },
  {
   "cell_type": "code",
   "execution_count": 65,
   "metadata": {},
   "outputs": [],
   "source": [
    "background = pd.read_csv(\"foxa1_data/backgroundpeaks_G2.txt\", header = 0, sep = \" \", index_col = 0)\n",
    "crw2 = [i.split(\"_\") for i in crw]\n",
    "crw2 = [i[0] + \":\" + str(i[1]) + \"-\" + str(i[2]) for i in crw2]\n",
    "\n",
    "background = background.apply(pd.to_numeric)\n",
    "\n",
    "float_col = background.select_dtypes(include=['float64'])\n",
    "for col in float_col.columns.values:\n",
    "    background[col] = background[col].astype('int64')\n",
    "\n",
    "peakslist = []\n",
    "for index, row in background.iterrows():\n",
    "    peakslist.append(index)\n",
    "\n",
    "finw = viable\n",
    "finw[\"peak2\"] = finw[\"chr\"] + \"_\" +finw['start'].astype(str) + \"-\" + finw[\"end\"].astype(str)\n",
    "s = finw['gene'].str.split(',',expand=True).stack()\n",
    "finw = finw.reindex(finw.index.repeat(finw['gene'].fillna(\"\").str.split(',').apply(len))) \n",
    "finw = finw.reset_index(drop=True)\n",
    "finw['gene'] = s.to_list()\n",
    "tempy= counts.rows\n",
    "finw = finw.reset_index(drop=True)\n",
    "gene_list_left= set(left2)"
   ]
  },
  {
   "cell_type": "code",
   "execution_count": 66,
   "metadata": {},
   "outputs": [
    {
     "name": "stdout",
     "output_type": "stream",
     "text": [
      "15948\n",
      "2\n"
     ]
    },
    {
     "name": "stderr",
     "output_type": "stream",
     "text": [
      "/Users/wongw5/anaconda3/lib/python3.7/site-packages/numpy/lib/function_base.py:2530: RuntimeWarning: invalid value encountered in true_divide\n",
      "  c /= stddev[:, None]\n",
      "/Users/wongw5/anaconda3/lib/python3.7/site-packages/numpy/lib/function_base.py:2531: RuntimeWarning: invalid value encountered in true_divide\n",
      "  c /= stddev[None, :]\n",
      "/Users/wongw5/anaconda3/lib/python3.7/site-packages/scipy/stats/_distn_infrastructure.py:901: RuntimeWarning: invalid value encountered in greater\n",
      "  return (a < x) & (x < b)\n",
      "/Users/wongw5/anaconda3/lib/python3.7/site-packages/scipy/stats/_distn_infrastructure.py:901: RuntimeWarning: invalid value encountered in less\n",
      "  return (a < x) & (x < b)\n",
      "/Users/wongw5/anaconda3/lib/python3.7/site-packages/scipy/stats/_distn_infrastructure.py:1892: RuntimeWarning: invalid value encountered in less_equal\n",
      "  cond2 = cond0 & (x <= _a)\n"
     ]
    },
    {
     "name": "stdout",
     "output_type": "stream",
     "text": [
      "3346\n",
      "6737\n",
      "9899\n",
      "13206\n",
      "16786\n",
      "19953\n",
      "23463\n",
      "26620\n",
      "30108\n",
      "33409\n",
      "37054\n",
      "40291\n",
      "43612\n",
      "46713\n",
      "50051\n",
      "53472\n",
      "56742\n",
      "60131\n",
      "63765\n",
      "66969\n",
      "70205\n",
      "73261\n",
      "76395\n",
      "79720\n",
      "82971\n",
      "86013\n",
      "89510\n",
      "92830\n",
      "96076\n",
      "99683\n",
      "102805\n",
      "105912\n",
      "109119\n",
      "112199\n",
      "115303\n",
      "118764\n",
      "121978\n",
      "125359\n",
      "128467\n",
      "131741\n",
      "135202\n",
      "138452\n",
      "141601\n",
      "144727\n",
      "147956\n",
      "151086\n",
      "154618\n",
      "158054\n",
      "161482\n",
      "164697\n",
      "167569\n",
      "170976\n",
      "174330\n",
      "177552\n",
      "180828\n",
      "183936\n",
      "186871\n",
      "190319\n",
      "193708\n",
      "197155\n",
      "200603\n",
      "203992\n",
      "207312\n",
      "210722\n",
      "213991\n",
      "217525\n",
      "221121\n",
      "224574\n",
      "227893\n",
      "231418\n",
      "234774\n",
      "237980\n",
      "241234\n",
      "244828\n",
      "247927\n",
      "251398\n",
      "254906\n",
      "258235\n",
      "261607\n",
      "265057\n",
      "268336\n",
      "271706\n",
      "275043\n",
      "278230\n",
      "281752\n",
      "284966\n",
      "288297\n",
      "291693\n",
      "294899\n",
      "298213\n",
      "301689\n",
      "304938\n",
      "308161\n",
      "311316\n",
      "314802\n",
      "318205\n",
      "321486\n",
      "324940\n",
      "328398\n",
      "331347\n",
      "334682\n",
      "338087\n",
      "341525\n",
      "345041\n",
      "348504\n",
      "351412\n",
      "354692\n",
      "357897\n",
      "361039\n",
      "364625\n",
      "367788\n",
      "371208\n",
      "374442\n",
      "377916\n",
      "381267\n",
      "384618\n",
      "387930\n",
      "391110\n",
      "394136\n",
      "397540\n",
      "401004\n",
      "404249\n",
      "407756\n",
      "410909\n",
      "414105\n",
      "417600\n",
      "420572\n",
      "423932\n",
      "427357\n",
      "430974\n",
      "434239\n",
      "437347\n",
      "440586\n",
      "443621\n",
      "446918\n",
      "450288\n",
      "453668\n",
      "457025\n",
      "460113\n",
      "463460\n",
      "466997\n",
      "470176\n",
      "473525\n",
      "476699\n",
      "479881\n",
      "483052\n",
      "486409\n",
      "489580\n",
      "493000\n",
      "496368\n",
      "499804\n",
      "503289\n",
      "506838\n",
      "509972\n",
      "513153\n",
      "516421\n",
      "519597\n",
      "522855\n",
      "526137\n"
     ]
    }
   ],
   "source": [
    "import scipy.stats as stats\n",
    "observed = []\n",
    "print(len(gene_list_left))\n",
    "count = 0\n",
    "for gene in gene_list_left:\n",
    "    #gene = gene_list_left[gene]\n",
    "    geneind = finw.index[finw['gene'] == gene].tolist()\n",
    "    firstcor = finw.iloc[geneind]\n",
    "    firstcor = firstcor['peak']\n",
    "    rna = rna_expression.rows[rna_expression.rows == gene].index.values[0]\n",
    "    rna = rna_expression.tocsr()[rna,:]\n",
    "    rna = rna.toarray()\n",
    "    for i in firstcor:\n",
    "        #spearresults = []\n",
    "        #indices, tospear = find_background_distribution(i)\n",
    "        #geneind2 = gene_table.index[gene_table['peak'] == i].tolist()\n",
    "        #if len(indices) > 30:\n",
    "        #geneind2 = finw.index[gene_table['peak'] == i].tolist()\n",
    "        geneind2 = [j for j, e in enumerate(tempy) if i == e]\n",
    "        corr = counts.tocsr()[geneind2, : ]\n",
    "        corr = corr.toarray()\n",
    "        spearresults = [stats.spearmanr(a = corr[j], b = rna, axis = 1)[0] for j in range(len(corr))]\n",
    "            \n",
    "            #observed = stats.spearmanr(a = corr[i], b = rna, axis = 1)[0]\n",
    "            #print(spearresults)\n",
    "        #    background_distributions.append((i, statistics.mean(spearresults), statistics.stdev(spearresults)))\n",
    "        #else:\n",
    "        #spearresults = [stats.spearmanr(a = corr[j], b = rna, axis = 1)[0] for j in range(len(corr))]\n",
    "        observed.append((i, gene, spearresults[0]))\n",
    "\n",
    "    if count % 100 == 0:\n",
    "        print(len(observed))\n",
    "    count += 1\n"
   ]
  },
  {
   "cell_type": "markdown",
   "metadata": {},
   "source": [
    "# background peak bias correction and then merge with observed"
   ]
  },
  {
   "cell_type": "code",
   "execution_count": 71,
   "metadata": {},
   "outputs": [],
   "source": [
    "\n",
    "def find_background_distribution(peak):\n",
    "    #print(peak)\n",
    "    peak2 = peak.split(\"-\")[0] + \"_\" + peak.split(\"-\")[1]\n",
    "    #print(peak2)\n",
    "    row = background.loc[peak2]\n",
    "    bgs1 = row.to_numpy()\n",
    "    bgs1 = [i-1 for i in bgs1]\n",
    "    bgs = [peakslist[i] for i in bgs1]\n",
    "    \n",
    "    #bgs = [i for i in bgs if i != index]\n",
    "    return bgs1, bgs\n",
    "    #break\n",
    "    #background_distributions.append((index, mean, stdev))\n",
    "#len(find_background_distribution(\"chr16_18533123-18533423\"))"
   ]
  },
  {
   "cell_type": "code",
   "execution_count": 72,
   "metadata": {},
   "outputs": [
    {
     "name": "stdout",
     "output_type": "stream",
     "text": [
      "2\n",
      "3346\n",
      "6737\n",
      "9899\n",
      "13206\n",
      "16786\n",
      "19953\n",
      "23463\n",
      "26620\n",
      "30108\n",
      "33409\n",
      "37054\n",
      "40291\n",
      "43612\n",
      "46713\n",
      "50051\n",
      "53472\n",
      "56742\n",
      "60131\n",
      "63765\n",
      "66969\n",
      "70205\n",
      "73261\n",
      "76395\n",
      "79720\n",
      "82971\n",
      "86013\n",
      "89510\n",
      "92830\n",
      "96076\n",
      "99683\n",
      "102805\n",
      "105912\n",
      "109119\n",
      "112199\n",
      "115303\n",
      "118764\n",
      "121978\n",
      "125359\n",
      "128467\n",
      "131741\n",
      "135202\n",
      "138452\n",
      "141601\n",
      "144727\n",
      "147956\n",
      "151086\n",
      "154618\n",
      "158054\n",
      "161482\n",
      "164697\n",
      "167569\n",
      "170976\n",
      "174330\n",
      "177552\n",
      "180828\n",
      "183936\n",
      "186871\n",
      "190319\n",
      "193708\n",
      "197155\n",
      "200603\n",
      "203992\n",
      "207312\n",
      "210722\n",
      "213991\n",
      "217525\n",
      "221121\n",
      "224574\n",
      "227893\n",
      "231418\n",
      "234774\n",
      "237980\n",
      "241234\n",
      "244828\n",
      "247927\n",
      "251398\n",
      "254906\n",
      "258235\n",
      "261607\n",
      "265057\n",
      "268336\n",
      "271706\n",
      "275043\n",
      "278230\n",
      "281752\n",
      "284966\n",
      "288297\n",
      "291693\n",
      "294899\n",
      "298213\n",
      "301689\n",
      "304938\n",
      "308161\n",
      "311316\n",
      "314802\n",
      "318205\n",
      "321486\n",
      "324940\n",
      "328398\n",
      "331347\n",
      "334682\n",
      "338087\n",
      "341525\n",
      "345041\n",
      "348504\n",
      "351412\n",
      "354692\n",
      "357897\n",
      "361039\n",
      "364625\n",
      "367788\n",
      "371208\n",
      "374442\n",
      "377916\n",
      "381267\n",
      "384618\n",
      "387930\n",
      "391110\n",
      "394136\n",
      "397540\n",
      "401004\n",
      "404249\n",
      "407756\n",
      "410909\n",
      "414105\n",
      "417600\n",
      "420572\n",
      "423932\n",
      "427357\n",
      "430974\n",
      "434239\n",
      "437347\n",
      "440586\n",
      "443621\n",
      "446918\n",
      "450288\n",
      "453668\n",
      "457025\n",
      "460113\n",
      "463460\n",
      "466997\n",
      "470176\n",
      "473525\n",
      "476699\n",
      "479881\n",
      "483052\n",
      "486409\n",
      "489580\n",
      "493000\n",
      "496368\n",
      "499804\n",
      "503289\n",
      "506838\n",
      "509972\n",
      "513153\n",
      "516421\n",
      "519597\n",
      "522855\n",
      "526137\n"
     ]
    }
   ],
   "source": [
    "import statistics\n",
    "gene_list_left= set(left2)\n",
    "background_distributions = []\n",
    "count = 0\n",
    "for gene in gene_list_left:\n",
    "    #gene = gene_list_left[gene]\n",
    "    geneind = finw.index[finw['gene'] == gene].tolist()\n",
    "    firstcor = finw.iloc[geneind]\n",
    "    firstcor = firstcor['peak2']\n",
    "    rna = rna_expression.rows[rna_expression.rows == gene].index.values[0]\n",
    "    rna = rna_expression.tocsr()[rna,:]\n",
    "    rna = rna.toarray()\n",
    "    for i in firstcor:\n",
    "        #print(i + \"1at\")\n",
    "        spearresults = []\n",
    "        indices, tospear = find_background_distribution(i)\n",
    "        #geneind2 = gene_table.index[gene_table['peak'] == i].tolist()\n",
    "        if len(indices) > 30:\n",
    "            corr = counts.tocsr()[indices, : ]\n",
    "            corr = corr.toarray()\n",
    "            #print(corr)\n",
    "            spearresults = [stats.spearmanr(a = corr[j], b = rna, axis = 1)[0] for j in range(len(corr))]\n",
    "            \n",
    "            #observed = stats.spearmanr(a = corr[i], b = rna, axis = 1)[0]\n",
    "            #print(spearresults)\n",
    "            background_distributions.append((i, gene, statistics.mean(spearresults), statistics.stdev(spearresults)))\n",
    "        else:\n",
    "            background_distributions.append((i, gene, None, None))\n",
    "    #break\n",
    "    if count % 1000 == 0:\n",
    "        print(len(background_distributions))\n",
    "    count += 1\n",
    "background_distributions = pd.DataFrame(background_distributions)"
   ]
  },
  {
   "cell_type": "code",
   "execution_count": 74,
   "metadata": {},
   "outputs": [],
   "source": [
    "background_distributions.to_csv(\"foxa1_data/backgdist_g2.txt\", sep = '\\t', header = False, index = False)"
   ]
  },
  {
   "cell_type": "code",
   "execution_count": null,
   "metadata": {},
   "outputs": [],
   "source": [
    "background_distributions.columns = ['peak', 'gene', 'mean', 'stdev']\n",
    "gene_list_left= set(left2)\n",
    "observed = pd.DataFrame(observed)\n",
    "observed.columns = ['peak', 'gene', 'observed']\n",
    "background_distributions['peak'] = background_distributions['peak'].str.replace('-','_')"
   ]
  },
  {
   "cell_type": "code",
   "execution_count": 266,
   "metadata": {
    "scrolled": false
   },
   "outputs": [
    {
     "name": "stderr",
     "output_type": "stream",
     "text": [
      "/Users/wongw5/anaconda3/lib/python3.7/site-packages/scipy/stats/_distn_infrastructure.py:901: RuntimeWarning: invalid value encountered in greater\n",
      "  return (a < x) & (x < b)\n",
      "/Users/wongw5/anaconda3/lib/python3.7/site-packages/scipy/stats/_distn_infrastructure.py:901: RuntimeWarning: invalid value encountered in less\n",
      "  return (a < x) & (x < b)\n",
      "/Users/wongw5/anaconda3/lib/python3.7/site-packages/scipy/stats/_distn_infrastructure.py:1892: RuntimeWarning: invalid value encountered in less_equal\n",
      "  cond2 = cond0 & (x <= _a)\n"
     ]
    },
    {
     "data": {
      "text/html": [
       "<div>\n",
       "<style scoped>\n",
       "    .dataframe tbody tr th:only-of-type {\n",
       "        vertical-align: middle;\n",
       "    }\n",
       "\n",
       "    .dataframe tbody tr th {\n",
       "        vertical-align: top;\n",
       "    }\n",
       "\n",
       "    .dataframe thead th {\n",
       "        text-align: right;\n",
       "    }\n",
       "</style>\n",
       "<table border=\"1\" class=\"dataframe\">\n",
       "  <thead>\n",
       "    <tr style=\"text-align: right;\">\n",
       "      <th></th>\n",
       "      <th>peak</th>\n",
       "      <th>gene</th>\n",
       "      <th>observed</th>\n",
       "      <th>mean</th>\n",
       "      <th>stdev</th>\n",
       "      <th>zscore</th>\n",
       "      <th>pval</th>\n",
       "    </tr>\n",
       "  </thead>\n",
       "  <tbody>\n",
       "    <tr>\n",
       "      <th>0</th>\n",
       "      <td>chr7_7338191_7338692</td>\n",
       "      <td>Vmn2r30</td>\n",
       "      <td>0.021903</td>\n",
       "      <td>0.006575</td>\n",
       "      <td>0.015157</td>\n",
       "      <td>1.011274</td>\n",
       "      <td>0.155943</td>\n",
       "    </tr>\n",
       "    <tr>\n",
       "      <th>1</th>\n",
       "      <td>chr7_7374143_7374644</td>\n",
       "      <td>Vmn2r30</td>\n",
       "      <td>0.006393</td>\n",
       "      <td>0.004525</td>\n",
       "      <td>0.015299</td>\n",
       "      <td>0.122085</td>\n",
       "      <td>0.451416</td>\n",
       "    </tr>\n",
       "    <tr>\n",
       "      <th>2</th>\n",
       "      <td>chr4_137227536_137228037</td>\n",
       "      <td>Wnt4</td>\n",
       "      <td>0.006259</td>\n",
       "      <td>-0.002086</td>\n",
       "      <td>0.011431</td>\n",
       "      <td>0.730002</td>\n",
       "      <td>0.232695</td>\n",
       "    </tr>\n",
       "    <tr>\n",
       "      <th>3</th>\n",
       "      <td>chr4_137228627_137229128</td>\n",
       "      <td>Wnt4</td>\n",
       "      <td>-0.022761</td>\n",
       "      <td>0.000190</td>\n",
       "      <td>0.013671</td>\n",
       "      <td>-1.678757</td>\n",
       "      <td>0.046600</td>\n",
       "    </tr>\n",
       "    <tr>\n",
       "      <th>4</th>\n",
       "      <td>chr4_137231546_137232047</td>\n",
       "      <td>Wnt4</td>\n",
       "      <td>0.023325</td>\n",
       "      <td>0.004212</td>\n",
       "      <td>0.015137</td>\n",
       "      <td>1.262701</td>\n",
       "      <td>0.103348</td>\n",
       "    </tr>\n",
       "  </tbody>\n",
       "</table>\n",
       "</div>"
      ],
      "text/plain": [
       "                       peak     gene  observed      mean     stdev    zscore  \\\n",
       "0      chr7_7338191_7338692  Vmn2r30  0.021903  0.006575  0.015157  1.011274   \n",
       "1      chr7_7374143_7374644  Vmn2r30  0.006393  0.004525  0.015299  0.122085   \n",
       "2  chr4_137227536_137228037     Wnt4  0.006259 -0.002086  0.011431  0.730002   \n",
       "3  chr4_137228627_137229128     Wnt4 -0.022761  0.000190  0.013671 -1.678757   \n",
       "4  chr4_137231546_137232047     Wnt4  0.023325  0.004212  0.015137  1.262701   \n",
       "\n",
       "       pval  \n",
       "0  0.155943  \n",
       "1  0.451416  \n",
       "2  0.232695  \n",
       "3  0.046600  \n",
       "4  0.103348  "
      ]
     },
     "execution_count": 266,
     "metadata": {},
     "output_type": "execute_result"
    }
   ],
   "source": [
    "\n",
    "table = pd.merge(observed, background_distributions, how = 'left', left_on = ['peak', 'gene'], right_on=['peak', 'gene'])\n",
    "table['zscore'] = (table['observed'] - table['mean'])/table['stdev']\n",
    "table['pval'] = sci.stats.norm.sf(abs(table['zscore']))\n",
    "table.head()"
   ]
  },
  {
   "cell_type": "code",
   "execution_count": 87,
   "metadata": {},
   "outputs": [],
   "source": [
    "#table.to_csv(\"foxa1_data/final_background_correlations.txt\", sep = '\\t', header = True, index = False)"
   ]
  },
  {
   "cell_type": "markdown",
   "metadata": {},
   "source": [
    "# REMOVING PSEUDO-GENES (OPTIONAL)"
   ]
  },
  {
   "cell_type": "code",
   "execution_count": 267,
   "metadata": {
    "scrolled": true
   },
   "outputs": [
    {
     "name": "stderr",
     "output_type": "stream",
     "text": [
      "/Users/wongw5/anaconda3/lib/python3.7/site-packages/ipykernel_launcher.py:5: DeprecationWarning: \n",
      ".ix is deprecated. Please use\n",
      ".loc for label based indexing or\n",
      ".iloc for positional indexing\n",
      "\n",
      "See the documentation here:\n",
      "http://pandas.pydata.org/pandas-docs/stable/indexing.html#ix-indexer-is-deprecated\n",
      "  \"\"\"\n"
     ]
    }
   ],
   "source": [
    "table = table.reset_index(drop = True)\n",
    "tablestr = ~(table['gene'].str[:2] == \"Gm\" & table['gene'].str[2].str.isdigit())\n",
    "tablestr = (tablestr.tolist())\n",
    "tablestr_index = [i for i, e in enumerate(tablestr) if e == True]\n",
    "table = table.ix[tablestr_index]\n",
    "table = table.reset_index(drop = True)\n",
    "table = table.loc[~table['gene'].str[0].str.isdigit()]\n",
    "table = table.reset_index(drop = True)"
   ]
  },
  {
   "cell_type": "markdown",
   "metadata": {},
   "source": [
    "# continue to create DORC plot and export final associated peaks"
   ]
  },
  {
   "cell_type": "code",
   "execution_count": 268,
   "metadata": {},
   "outputs": [
    {
     "name": "stderr",
     "output_type": "stream",
     "text": [
      "/Users/wongw5/anaconda3/lib/python3.7/site-packages/ipykernel_launcher.py:1: FutureWarning: \n",
      "Passing list-likes to .loc or [] with any missing label will raise\n",
      "KeyError in the future, you can use .reindex() as an alternative.\n",
      "\n",
      "See the documentation here:\n",
      "https://pandas.pydata.org/pandas-docs/stable/indexing.html#deprecate-loc-reindex-listlike\n",
      "  \"\"\"Entry point for launching an IPython kernel.\n"
     ]
    }
   ],
   "source": [
    "table = table.loc[table.groupby('peak').pval.idxmin()].reset_index(drop=True)"
   ]
  },
  {
   "cell_type": "code",
   "execution_count": 269,
   "metadata": {},
   "outputs": [],
   "source": [
    "table = table[table.pval < 0.05 ]\n",
    "x = table['gene'].value_counts(dropna=True)\n",
    "y = table['gene'].value_counts(dropna=True).index\n",
    "\n",
    "x = x.to_list()\n",
    "y = y.to_list()\n",
    "\n",
    "temp = pd.DataFrame(table['gene'].value_counts(dropna=True))\n",
    "\n",
    "tempjr = table['gene'].value_counts(dropna=True).index\n",
    "\n",
    "tempjr = [i for i in tempjr]\n",
    "\n",
    "gene_list_left = list(set(gene_table['gene']))"
   ]
  },
  {
   "cell_type": "code",
   "execution_count": 270,
   "metadata": {},
   "outputs": [
    {
     "data": {
      "text/html": [
       "<div>\n",
       "<style scoped>\n",
       "    .dataframe tbody tr th:only-of-type {\n",
       "        vertical-align: middle;\n",
       "    }\n",
       "\n",
       "    .dataframe tbody tr th {\n",
       "        vertical-align: top;\n",
       "    }\n",
       "\n",
       "    .dataframe thead th {\n",
       "        text-align: right;\n",
       "    }\n",
       "</style>\n",
       "<table border=\"1\" class=\"dataframe\">\n",
       "  <thead>\n",
       "    <tr style=\"text-align: right;\">\n",
       "      <th></th>\n",
       "      <th>gene</th>\n",
       "      <th>val</th>\n",
       "    </tr>\n",
       "  </thead>\n",
       "  <tbody>\n",
       "    <tr>\n",
       "      <th>Fam71a</th>\n",
       "      <td>41</td>\n",
       "      <td>41</td>\n",
       "    </tr>\n",
       "    <tr>\n",
       "      <th>Krt16</th>\n",
       "      <td>32</td>\n",
       "      <td>32</td>\n",
       "    </tr>\n",
       "    <tr>\n",
       "      <th>Gm4285</th>\n",
       "      <td>27</td>\n",
       "      <td>27</td>\n",
       "    </tr>\n",
       "    <tr>\n",
       "      <th>Brf2</th>\n",
       "      <td>26</td>\n",
       "      <td>26</td>\n",
       "    </tr>\n",
       "    <tr>\n",
       "      <th>Gm13986</th>\n",
       "      <td>25</td>\n",
       "      <td>25</td>\n",
       "    </tr>\n",
       "    <tr>\n",
       "      <th>Mybbp1a</th>\n",
       "      <td>25</td>\n",
       "      <td>25</td>\n",
       "    </tr>\n",
       "    <tr>\n",
       "      <th>Gm26802</th>\n",
       "      <td>21</td>\n",
       "      <td>21</td>\n",
       "    </tr>\n",
       "    <tr>\n",
       "      <th>Nsmf</th>\n",
       "      <td>21</td>\n",
       "      <td>21</td>\n",
       "    </tr>\n",
       "    <tr>\n",
       "      <th>Gm36026</th>\n",
       "      <td>21</td>\n",
       "      <td>21</td>\n",
       "    </tr>\n",
       "    <tr>\n",
       "      <th>Spns2</th>\n",
       "      <td>20</td>\n",
       "      <td>20</td>\n",
       "    </tr>\n",
       "  </tbody>\n",
       "</table>\n",
       "</div>"
      ],
      "text/plain": [
       "         gene  val\n",
       "Fam71a     41   41\n",
       "Krt16      32   32\n",
       "Gm4285     27   27\n",
       "Brf2       26   26\n",
       "Gm13986    25   25\n",
       "Mybbp1a    25   25\n",
       "Gm26802    21   21\n",
       "Nsmf       21   21\n",
       "Gm36026    21   21\n",
       "Spns2      20   20"
      ]
     },
     "execution_count": 270,
     "metadata": {},
     "output_type": "execute_result"
    }
   ],
   "source": [
    "for i in gene_list_left:\n",
    "    if i not in set(tempjr):\n",
    "        #print(i)\n",
    "        temp.loc[i] = [0]\n",
    "\n",
    "for index, row in temp.iterrows():\n",
    "    if row['gene'] >= 7 and row['gene'] <= 10:\n",
    "        temp.loc[index, 'val'] = \"7-10\"\n",
    "    elif row['gene'] >= 10:\n",
    "        temp.loc[index, 'val'] = \">10\"\n",
    "    else:\n",
    "        temp.loc[index, 'val'] = row['gene']\n",
    "\n",
    "for index, row in temp.iterrows():\n",
    "    temp.loc[index, 'val'] = row['gene']\n",
    "\n",
    "temp.head(n=10)"
   ]
  },
  {
   "cell_type": "code",
   "execution_count": 271,
   "metadata": {},
   "outputs": [],
   "source": [
    "threetemp = temp['gene'].value_counts(dropna=True).index\n",
    "threetempval = temp['gene'].value_counts(dropna=True)\n",
    "temp = temp.reset_index()"
   ]
  },
  {
   "cell_type": "markdown",
   "metadata": {},
   "source": [
    "# to anntotate the points look at the table above and hard code the gene names on"
   ]
  },
  {
   "cell_type": "code",
   "execution_count": 272,
   "metadata": {},
   "outputs": [
    {
     "data": {
      "text/plain": [
       "Text(0.5, 1.0, 'Identifying DORCs')"
      ]
     },
     "execution_count": 272,
     "metadata": {},
     "output_type": "execute_result"
    },
    {
     "data": {
      "image/png": "[encoded data removed]",
      "text/plain": [
       "<Figure size 432x288 with 1 Axes>"
      ]
     },
     "metadata": {},
     "output_type": "display_data"
    }
   ],
   "source": [
    "%matplotlib inline\n",
    "import matplotlib.pyplot as plt\n",
    "plt.style.use('seaborn-whitegrid')\n",
    "import numpy as np\n",
    "\n",
    "fig, ax = plt.subplots()\n",
    "ax.scatter(threetempval,threetemp)\n",
    "ax.annotate(\"Notch1\", (239, 8), xytext = (2000, 8), arrowprops = dict(  arrowstyle=\"->\", connectionstyle=\"angle3,angleA=0,angleB=-90\"))\n",
    "#ax.text(239, 7, \"Notch1\")\n",
    "ax.annotate(\"Krt16\", (2, 32), xytext = (2000, 32), arrowprops = dict(  arrowstyle=\"->\", connectionstyle=\"angle3,angleA=0,angleB=-90\"))\n",
    "#ax.text(2, 32, \"Cux1\")\n",
    "ax.text(10000, 30, \"DORCs \\n (n=\" + str(len(temp[temp['gene'] >= 10])) + \")\", size = 20)\n",
    "ax.text(1, 41, \"Fam71a\")\n",
    "ax.text(5, 21, \"NSMF\")\n",
    "#ax.text(26, 19, \"Krt79\")\n",
    "#ax.text(1, 53, \"Col3a1\", color = \"red\")\n",
    "#ax.annotate(\"Nfatc1\", (13, 21), xytext = (2000, 21), arrowprops = dict(  arrowstyle=\"->\", connectionstyle=\"angle3,angleA=0,angleB=-90\"))\n",
    "#ax.plot(threetempval, threetemp)\n",
    "ax.invert_xaxis()\n",
    "ax.set_xlabel('Number of genes')\n",
    "ax.set_ylabel('Number of significant peaks')\n",
    "ax.set_title('Identifying DORCs')\n"
   ]
  },
  {
   "cell_type": "code",
   "execution_count": 273,
   "metadata": {},
   "outputs": [
    {
     "data": {
      "text/html": [
       "<div>\n",
       "<style scoped>\n",
       "    .dataframe tbody tr th:only-of-type {\n",
       "        vertical-align: middle;\n",
       "    }\n",
       "\n",
       "    .dataframe tbody tr th {\n",
       "        vertical-align: top;\n",
       "    }\n",
       "\n",
       "    .dataframe thead th {\n",
       "        text-align: right;\n",
       "    }\n",
       "</style>\n",
       "<table border=\"1\" class=\"dataframe\">\n",
       "  <thead>\n",
       "    <tr style=\"text-align: right;\">\n",
       "      <th></th>\n",
       "      <th>peak</th>\n",
       "      <th>gene</th>\n",
       "      <th>observed</th>\n",
       "      <th>mean</th>\n",
       "      <th>stdev</th>\n",
       "      <th>zscore</th>\n",
       "      <th>pval</th>\n",
       "      <th>End</th>\n",
       "      <th>Start</th>\n",
       "    </tr>\n",
       "  </thead>\n",
       "  <tbody>\n",
       "    <tr>\n",
       "      <th>7</th>\n",
       "      <td>chr10_100015525</td>\n",
       "      <td>Kitl</td>\n",
       "      <td>0.085595</td>\n",
       "      <td>0.054809</td>\n",
       "      <td>0.018346</td>\n",
       "      <td>1.678085</td>\n",
       "      <td>0.046665</td>\n",
       "      <td>100016026</td>\n",
       "      <td>100015525</td>\n",
       "    </tr>\n",
       "    <tr>\n",
       "      <th>43</th>\n",
       "      <td>chr10_100455797</td>\n",
       "      <td>Tmtc3</td>\n",
       "      <td>-0.021374</td>\n",
       "      <td>0.007598</td>\n",
       "      <td>0.014251</td>\n",
       "      <td>-2.033000</td>\n",
       "      <td>0.021026</td>\n",
       "      <td>100456298</td>\n",
       "      <td>100455797</td>\n",
       "    </tr>\n",
       "    <tr>\n",
       "      <th>46</th>\n",
       "      <td>chr10_100474989</td>\n",
       "      <td>Cep290</td>\n",
       "      <td>0.045945</td>\n",
       "      <td>0.014171</td>\n",
       "      <td>0.016158</td>\n",
       "      <td>1.966524</td>\n",
       "      <td>0.024619</td>\n",
       "      <td>100475490</td>\n",
       "      <td>100474989</td>\n",
       "    </tr>\n",
       "    <tr>\n",
       "      <th>47</th>\n",
       "      <td>chr10_100476081</td>\n",
       "      <td>Cep290</td>\n",
       "      <td>-0.022557</td>\n",
       "      <td>0.013936</td>\n",
       "      <td>0.015782</td>\n",
       "      <td>-2.312283</td>\n",
       "      <td>0.010381</td>\n",
       "      <td>100476582</td>\n",
       "      <td>100476081</td>\n",
       "    </tr>\n",
       "    <tr>\n",
       "      <th>52</th>\n",
       "      <td>chr10_100484188</td>\n",
       "      <td>Tmtc3</td>\n",
       "      <td>0.052253</td>\n",
       "      <td>0.021262</td>\n",
       "      <td>0.017569</td>\n",
       "      <td>1.763961</td>\n",
       "      <td>0.038869</td>\n",
       "      <td>100484689</td>\n",
       "      <td>100484188</td>\n",
       "    </tr>\n",
       "  </tbody>\n",
       "</table>\n",
       "</div>"
      ],
      "text/plain": [
       "               peak    gene  observed      mean     stdev    zscore      pval  \\\n",
       "7   chr10_100015525    Kitl  0.085595  0.054809  0.018346  1.678085  0.046665   \n",
       "43  chr10_100455797   Tmtc3 -0.021374  0.007598  0.014251 -2.033000  0.021026   \n",
       "46  chr10_100474989  Cep290  0.045945  0.014171  0.016158  1.966524  0.024619   \n",
       "47  chr10_100476081  Cep290 -0.022557  0.013936  0.015782 -2.312283  0.010381   \n",
       "52  chr10_100484188   Tmtc3  0.052253  0.021262  0.017569  1.763961  0.038869   \n",
       "\n",
       "          End      Start  \n",
       "7   100016026  100015525  \n",
       "43  100456298  100455797  \n",
       "46  100475490  100474989  \n",
       "47  100476582  100476081  \n",
       "52  100484689  100484188  "
      ]
     },
     "execution_count": 273,
     "metadata": {},
     "output_type": "execute_result"
    }
   ],
   "source": [
    "table['End'] = [i.split('_')[2] for i in table['peak']]\n",
    "table['Start'] = [i.split('_')[1] for i in table['peak']]\n",
    "table['peak'] = [i.split('_')[0] + '_' + i.split('_')[1] for i in table['peak']]\n",
    "table.head()"
   ]
  },
  {
   "cell_type": "code",
   "execution_count": 274,
   "metadata": {},
   "outputs": [],
   "source": [
    "table.columns = ['peak', 'Gene', 'Corr', 'Mean', 'StDev', 'Zscore', 'Pvalue', 'End', 'Start']\n",
    "table['NumCorr'] = table.groupby(['Gene'])['Gene'].transform('count')\n",
    "table = table.reset_index(drop = True)"
   ]
  },
  {
   "cell_type": "markdown",
   "metadata": {},
   "source": [
    "# WRITE TO CSV"
   ]
  },
  {
   "cell_type": "code",
   "execution_count": 231,
   "metadata": {},
   "outputs": [],
   "source": [
    "table.to_csv('foxa1_data/G2_dorcs_nopseudo.csv')"
   ]
  }
 ],
 "metadata": {
  "kernelspec": {
   "display_name": "Python 3",
   "language": "python",
   "name": "python3"
  },
  "language_info": {
   "codemirror_mode": {
    "name": "ipython",
    "version": 3
   },
   "file_extension": ".py",
   "mimetype": "text/x-python",
   "name": "python",
   "nbconvert_exporter": "python",
   "pygments_lexer": "ipython3",
   "version": "3.7.3"
  }
 },
 "nbformat": 4,
 "nbformat_minor": 2
}
